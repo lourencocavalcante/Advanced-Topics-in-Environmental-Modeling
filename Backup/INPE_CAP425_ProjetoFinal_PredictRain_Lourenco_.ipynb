{
  "nbformat": 4,
  "nbformat_minor": 0,
  "metadata": {
    "colab": {
      "provenance": [],
      "machine_shape": "hm",
      "collapsed_sections": [
        "nt9BSI9RLVJK",
        "qAVEldyd4NxD"
      ],
      "authorship_tag": "ABX9TyMxS0ZV9yp4d4uYoELwpYyM",
      "include_colab_link": true
    },
    "kernelspec": {
      "name": "python3",
      "display_name": "Python 3"
    },
    "language_info": {
      "name": "python"
    },
    "accelerator": "GPU",
    "gpuClass": "standard"
  },
  "cells": [
    {
      "cell_type": "markdown",
      "metadata": {
        "id": "view-in-github",
        "colab_type": "text"
      },
      "source": [
        "<a href=\"https://colab.research.google.com/github/lourencocavalcante/Advanced-Topics-in-Environmental-Modeling/blob/main/INPE_CAP425_ProjetoFinal_PredictRain_Lourenco_.ipynb\" target=\"_parent\"><img src=\"https://colab.research.google.com/assets/colab-badge.svg\" alt=\"Open In Colab\"/></a>"
      ]
    },
    {
      "cell_type": "markdown",
      "metadata": {
        "id": "OCGrfcaNk9Ju"
      },
      "source": [
        "[<img src=\"https://github.com/lourencocavalcante/LogosINPE/blob/main/logoinpe.png?raw=true\" width = 500 align=\"left\">](https://www.gov.br/inpe/pt-br)\n",
        "\n",
        "[<img src=\"https://github.com/lourencocavalcante/LogosINPE/blob/main/LogoCAP.png?raw=true\" width = 300 align=\"right\">](http://www.inpe.br/posgraduacao/cap/)"
      ]
    },
    {
      "cell_type": "markdown",
      "metadata": {
        "id": "88RwBLoykL2t"
      },
      "source": [
        "# **Projeto Final da disciplina de Tópicos Avançados em Modelagem Ambiental (CAP-425)**\n",
        "**Professores:**\n",
        "*Dr. Leonardo Bacelar Lima Santos e Dr. Stephan Stephany*\n",
        "\n",
        "**Aluno:**\n",
        "*Lourenço José Cavalcante Neto*\n",
        "<hr style=\"border:2px solid #0077b9;\">\n",
        "\n",
        "# **<span style=\"color:#336699\">Aplicação de Redes Neurais Artificiais na classificação da chuva a partir de dados meteorológicos obtidos por disdrômetro e radiômetro de microondas</span>**\n",
        "\n",
        "<hr style=\"border:2px solid #0077b9;\">\n",
        "\n"
      ]
    },
    {
      "cell_type": "markdown",
      "source": [
        "# **INTRODUÇÃO**\n",
        "\n",
        "A previsão ou classificação da chuva segundo a sua intensidade tem sido uma das grandes preocupações mundiais. É um tema que está no radar de diversos pesquisadores e, além disso, tem atraído a atenção de indústrias, governos e de companhias aéreas, por ter relação direta com planejamentos e tomada de decisão.\n",
        "\n",
        "No campo da meteorologia, é bem conhecido que a variável chuva possui muitas características bem diversas - devido a  sua distribuição espacial e temporal -, que dependem dos mecanismos físicos responsáveis pelas chuvas. Algumas pesquisas indicam que nos encontramos diante de um problema complexo e, por consequência disso, tem sido difícil de resolver. Essa variável é a apresenta maior correlação com eventos naturais adversos, como deslizamentos de terra, inundações, movimentos de massa e avalanches. Esses incidentes afetam a sociedade há anos \\cite{b2}.\n",
        "\n",
        "Uma das possibilidades de solução consistiria em se beneficiar de grandes bases de dados climáticos disponíveis, afim de estudar e classificar a chuva tomando como referência, entre outros fatores, as características relacionadas à sua ocorrência e intensidade. Para este estudo e por se tratar de um ponto focal específico, a intensidade horária média da preciptação em mm/h ficou definida conforme exibido na tabela abaixo:"
      ],
      "metadata": {
        "id": "bi17ZcF2Z0gn"
      }
    },
    {
      "cell_type": "markdown",
      "source": [
        "# **ANÁLISE DO PROBLEMA**\n",
        "O comportamento dos fenômenos pluviométricos tem relação forte com a precipitação local e repentina. Resultados de pesquisas recentes apontam que o clima e a capacidade humana de predizê-lo com o máximo de precisão possível têm desempenhado um papel crítico em muitos aspectos da vida. De atividades agrícolas ao planejamento para o final de semana de uma família, as companhias aéreas e a tomada de decisões logísticas, a chuva tem grande influência nos planejamentos. Há registros de casos em que o impacto da chuva causou grandes consequências financeiras. Paralelo a isso, é possível perceber que há um grande número de interessados no avanço do conhecimento neste tema e por consquência, aperfeiçoar a capacidade de prever e classificar a chuva com mais precisão. \n",
        "\n",
        "A pergunta de pesquisa que se pretende responder neste trabalho é: **em qual nível de acurácia um modelo preditivo consegue classificar a chuva, a partir de dados metorológicos oriundos do Disdrômetro RD80 e do Radiômetro de Microondas MP3000A, como chuva fraca, chuva moderada, chuva forte ou chuva muito forte?**"
      ],
      "metadata": {
        "id": "Qh51N170jSWR"
      }
    },
    {
      "cell_type": "markdown",
      "metadata": {
        "id": "9nslGd1zQuhj"
      },
      "source": [
        "# **OBJETIVO**\n",
        "O objetivo deste projeto é criar um modelo de **Rede Neural Artificial** da família **Multilayer Perceptron (MLP)** que seja capaz de auxiliar na classificação da chuva, usando dados de chuva disponíveis."
      ]
    },
    {
      "cell_type": "markdown",
      "source": [
        "Este notebook também pode ser visualizado no meu diretório de materiais e atividades da disciplina CAP-425 no Github, [Clicando aqui](https://github.com/lourencocavalcante/Advanced-Topics-in-Environmental-Modeling.git)."
      ],
      "metadata": {
        "id": "4dPMfgKoKihc"
      }
    },
    {
      "cell_type": "markdown",
      "source": [
        "\n",
        "\n",
        "---\n",
        "\n"
      ],
      "metadata": {
        "id": "ea-IoVRbYef1"
      }
    },
    {
      "cell_type": "markdown",
      "source": [
        "# **OS DADOS**\n",
        "Os dados meteorológicos são oriundos de dois equipamentos (**Radiômetro de Microondas \"MP3000A\"** e o **Disdrômetro \"RD80\"**), ambos instalados próximo à torre ATTO, em um sítio chamado Campina, na região Amazônica. O MP3000A mede diversas variáveis ambiente, entre elas a radiância no espectro de onda do microonda em diversos canais e estimativas de parâmetros de nuvens. Já o RD80 mede a distribuição das gotas de chuva que chegam à superfície.\n",
        "\n",
        "Os dados compreendem o período de 17 de março de 2020 a 07 julho 2022."
      ],
      "metadata": {
        "id": "klynJCWSI76T"
      }
    },
    {
      "cell_type": "markdown",
      "source": [
        "# **METODOLOGIA**\n",
        "Visto que já foi realizada uma Análise Exploratória nos dados, tal qual foram observadas, principalmente, as variações nos padrões de chuva, a metodologia que será aplicada para o desenvolvimento deste trabalho será conforme segue abaixo: \n",
        "* Importação dos módulos e bibliotecas e o download dos dados para o ambiente de execução; \n",
        "* Conversão de dados para o formato que possibilite a realização dos experimentos e testes;\n",
        "* Divisão dos dados em treinamento, validação e teste;\n",
        "\n",
        "Por fim, tentaremos aplicar uma abordagem de aprendizado de máquina (Machine Learning), implementando e treinando uma Rede Neural da família multilayer perceptron (MLP) que seja capaz de  classificar a chuva."
      ],
      "metadata": {
        "id": "_lKIq-CMrm91"
      }
    },
    {
      "cell_type": "markdown",
      "metadata": {
        "id": "9TfXixr-Ztoq"
      },
      "source": [
        "# **IMPORTAÇÃO DOS MODULOS DE BIBLIOTÉCAS**\n",
        "São várias as bibliotecas que podem ser utilizadas para realizar o pré-processamento de dados. Entre elas podemos destacar a biblioteca **Pandas**. Trata-se de uma biblioteca para leitura, manipulação e análise de dados tabulados. Essa biblioteca oferece estruturas de dados e operações para manipular conjuntos massivos de tabelas numéricas e séries temporais de forma otimizada. No python, por convensão, as bibliotecas são importadas conforme podemos ver na célula abaixo:"
      ]
    },
    {
      "cell_type": "code",
      "source": [
        "!pip install smote_variants"
      ],
      "metadata": {
        "id": "QV2UO_2CjwxB",
        "colab": {
          "base_uri": "https://localhost:8080/"
        },
        "outputId": "c139f937-547c-4848-bb64-2afdf12a52c8"
      },
      "execution_count": null,
      "outputs": [
        {
          "output_type": "stream",
          "name": "stdout",
          "text": [
            "Looking in indexes: https://pypi.org/simple, https://us-python.pkg.dev/colab-wheels/public/simple/\n",
            "Collecting smote_variants\n",
            "  Downloading smote_variants-0.7.1-py3-none-any.whl (407 kB)\n",
            "\u001b[K     |████████████████████████████████| 407 kB 2.1 MB/s \n",
            "\u001b[?25hRequirement already satisfied: keras in /usr/local/lib/python3.7/dist-packages (from smote_variants) (2.8.0)\n",
            "Collecting metric-learn\n",
            "  Downloading metric_learn-0.6.2-py2.py3-none-any.whl (64 kB)\n",
            "\u001b[K     |████████████████████████████████| 64 kB 3.3 MB/s \n",
            "\u001b[?25hRequirement already satisfied: mkl in /usr/local/lib/python3.7/dist-packages (from smote_variants) (2019.0)\n",
            "Requirement already satisfied: seaborn in /usr/local/lib/python3.7/dist-packages (from smote_variants) (0.11.2)\n",
            "Requirement already satisfied: numpy>=1.13.0 in /usr/local/lib/python3.7/dist-packages (from smote_variants) (1.21.6)\n",
            "Collecting minisom\n",
            "  Downloading MiniSom-2.3.0.tar.gz (8.8 kB)\n",
            "Requirement already satisfied: pandas in /usr/local/lib/python3.7/dist-packages (from smote_variants) (1.3.5)\n",
            "Requirement already satisfied: joblib in /usr/local/lib/python3.7/dist-packages (from smote_variants) (1.1.0)\n",
            "Requirement already satisfied: scipy in /usr/local/lib/python3.7/dist-packages (from smote_variants) (1.7.3)\n",
            "Requirement already satisfied: scikit-learn in /usr/local/lib/python3.7/dist-packages (from smote_variants) (1.0.2)\n",
            "Collecting statistics\n",
            "  Downloading statistics-1.0.3.5.tar.gz (8.3 kB)\n",
            "Requirement already satisfied: tensorflow in /usr/local/lib/python3.7/dist-packages (from smote_variants) (2.8.2+zzzcolab20220719082949)\n",
            "Requirement already satisfied: threadpoolctl>=2.0.0 in /usr/local/lib/python3.7/dist-packages (from scikit-learn->smote_variants) (3.1.0)\n",
            "Requirement already satisfied: intel-openmp in /usr/local/lib/python3.7/dist-packages (from mkl->smote_variants) (2022.1.0)\n",
            "Requirement already satisfied: python-dateutil>=2.7.3 in /usr/local/lib/python3.7/dist-packages (from pandas->smote_variants) (2.8.2)\n",
            "Requirement already satisfied: pytz>=2017.3 in /usr/local/lib/python3.7/dist-packages (from pandas->smote_variants) (2022.2.1)\n",
            "Requirement already satisfied: six>=1.5 in /usr/local/lib/python3.7/dist-packages (from python-dateutil>=2.7.3->pandas->smote_variants) (1.15.0)\n",
            "Requirement already satisfied: matplotlib>=2.2 in /usr/local/lib/python3.7/dist-packages (from seaborn->smote_variants) (3.2.2)\n",
            "Requirement already satisfied: kiwisolver>=1.0.1 in /usr/local/lib/python3.7/dist-packages (from matplotlib>=2.2->seaborn->smote_variants) (1.4.4)\n",
            "Requirement already satisfied: cycler>=0.10 in /usr/local/lib/python3.7/dist-packages (from matplotlib>=2.2->seaborn->smote_variants) (0.11.0)\n",
            "Requirement already satisfied: pyparsing!=2.0.4,!=2.1.2,!=2.1.6,>=2.0.1 in /usr/local/lib/python3.7/dist-packages (from matplotlib>=2.2->seaborn->smote_variants) (3.0.9)\n",
            "Requirement already satisfied: typing-extensions in /usr/local/lib/python3.7/dist-packages (from kiwisolver>=1.0.1->matplotlib>=2.2->seaborn->smote_variants) (4.1.1)\n",
            "Requirement already satisfied: docutils>=0.3 in /usr/local/lib/python3.7/dist-packages (from statistics->smote_variants) (0.17.1)\n",
            "Requirement already satisfied: google-pasta>=0.1.1 in /usr/local/lib/python3.7/dist-packages (from tensorflow->smote_variants) (0.2.0)\n",
            "Requirement already satisfied: tensorflow-estimator<2.9,>=2.8 in /usr/local/lib/python3.7/dist-packages (from tensorflow->smote_variants) (2.8.0)\n",
            "Requirement already satisfied: grpcio<2.0,>=1.24.3 in /usr/local/lib/python3.7/dist-packages (from tensorflow->smote_variants) (1.48.1)\n",
            "Requirement already satisfied: opt-einsum>=2.3.2 in /usr/local/lib/python3.7/dist-packages (from tensorflow->smote_variants) (3.3.0)\n",
            "Requirement already satisfied: termcolor>=1.1.0 in /usr/local/lib/python3.7/dist-packages (from tensorflow->smote_variants) (1.1.0)\n",
            "Requirement already satisfied: flatbuffers>=1.12 in /usr/local/lib/python3.7/dist-packages (from tensorflow->smote_variants) (2.0.7)\n",
            "Requirement already satisfied: setuptools in /usr/local/lib/python3.7/dist-packages (from tensorflow->smote_variants) (57.4.0)\n",
            "Requirement already satisfied: tensorboard<2.9,>=2.8 in /usr/local/lib/python3.7/dist-packages (from tensorflow->smote_variants) (2.8.0)\n",
            "Requirement already satisfied: absl-py>=0.4.0 in /usr/local/lib/python3.7/dist-packages (from tensorflow->smote_variants) (1.2.0)\n",
            "Requirement already satisfied: libclang>=9.0.1 in /usr/local/lib/python3.7/dist-packages (from tensorflow->smote_variants) (14.0.6)\n",
            "Requirement already satisfied: gast>=0.2.1 in /usr/local/lib/python3.7/dist-packages (from tensorflow->smote_variants) (0.5.3)\n",
            "Requirement already satisfied: protobuf<3.20,>=3.9.2 in /usr/local/lib/python3.7/dist-packages (from tensorflow->smote_variants) (3.17.3)\n",
            "Requirement already satisfied: wrapt>=1.11.0 in /usr/local/lib/python3.7/dist-packages (from tensorflow->smote_variants) (1.14.1)\n",
            "Requirement already satisfied: astunparse>=1.6.0 in /usr/local/lib/python3.7/dist-packages (from tensorflow->smote_variants) (1.6.3)\n",
            "Requirement already satisfied: h5py>=2.9.0 in /usr/local/lib/python3.7/dist-packages (from tensorflow->smote_variants) (3.1.0)\n",
            "Requirement already satisfied: tensorflow-io-gcs-filesystem>=0.23.1 in /usr/local/lib/python3.7/dist-packages (from tensorflow->smote_variants) (0.26.0)\n",
            "Requirement already satisfied: keras-preprocessing>=1.1.1 in /usr/local/lib/python3.7/dist-packages (from tensorflow->smote_variants) (1.1.2)\n",
            "Requirement already satisfied: wheel<1.0,>=0.23.0 in /usr/local/lib/python3.7/dist-packages (from astunparse>=1.6.0->tensorflow->smote_variants) (0.37.1)\n",
            "Requirement already satisfied: cached-property in /usr/local/lib/python3.7/dist-packages (from h5py>=2.9.0->tensorflow->smote_variants) (1.5.2)\n",
            "Requirement already satisfied: google-auth-oauthlib<0.5,>=0.4.1 in /usr/local/lib/python3.7/dist-packages (from tensorboard<2.9,>=2.8->tensorflow->smote_variants) (0.4.6)\n",
            "Requirement already satisfied: google-auth<3,>=1.6.3 in /usr/local/lib/python3.7/dist-packages (from tensorboard<2.9,>=2.8->tensorflow->smote_variants) (1.35.0)\n",
            "Requirement already satisfied: markdown>=2.6.8 in /usr/local/lib/python3.7/dist-packages (from tensorboard<2.9,>=2.8->tensorflow->smote_variants) (3.4.1)\n",
            "Requirement already satisfied: requests<3,>=2.21.0 in /usr/local/lib/python3.7/dist-packages (from tensorboard<2.9,>=2.8->tensorflow->smote_variants) (2.23.0)\n",
            "Requirement already satisfied: tensorboard-data-server<0.7.0,>=0.6.0 in /usr/local/lib/python3.7/dist-packages (from tensorboard<2.9,>=2.8->tensorflow->smote_variants) (0.6.1)\n",
            "Requirement already satisfied: tensorboard-plugin-wit>=1.6.0 in /usr/local/lib/python3.7/dist-packages (from tensorboard<2.9,>=2.8->tensorflow->smote_variants) (1.8.1)\n",
            "Requirement already satisfied: werkzeug>=0.11.15 in /usr/local/lib/python3.7/dist-packages (from tensorboard<2.9,>=2.8->tensorflow->smote_variants) (1.0.1)\n",
            "Requirement already satisfied: cachetools<5.0,>=2.0.0 in /usr/local/lib/python3.7/dist-packages (from google-auth<3,>=1.6.3->tensorboard<2.9,>=2.8->tensorflow->smote_variants) (4.2.4)\n",
            "Requirement already satisfied: rsa<5,>=3.1.4 in /usr/local/lib/python3.7/dist-packages (from google-auth<3,>=1.6.3->tensorboard<2.9,>=2.8->tensorflow->smote_variants) (4.9)\n",
            "Requirement already satisfied: pyasn1-modules>=0.2.1 in /usr/local/lib/python3.7/dist-packages (from google-auth<3,>=1.6.3->tensorboard<2.9,>=2.8->tensorflow->smote_variants) (0.2.8)\n",
            "Requirement already satisfied: requests-oauthlib>=0.7.0 in /usr/local/lib/python3.7/dist-packages (from google-auth-oauthlib<0.5,>=0.4.1->tensorboard<2.9,>=2.8->tensorflow->smote_variants) (1.3.1)\n",
            "Requirement already satisfied: importlib-metadata>=4.4 in /usr/local/lib/python3.7/dist-packages (from markdown>=2.6.8->tensorboard<2.9,>=2.8->tensorflow->smote_variants) (4.12.0)\n",
            "Requirement already satisfied: zipp>=0.5 in /usr/local/lib/python3.7/dist-packages (from importlib-metadata>=4.4->markdown>=2.6.8->tensorboard<2.9,>=2.8->tensorflow->smote_variants) (3.8.1)\n",
            "Requirement already satisfied: pyasn1<0.5.0,>=0.4.6 in /usr/local/lib/python3.7/dist-packages (from pyasn1-modules>=0.2.1->google-auth<3,>=1.6.3->tensorboard<2.9,>=2.8->tensorflow->smote_variants) (0.4.8)\n",
            "Requirement already satisfied: certifi>=2017.4.17 in /usr/local/lib/python3.7/dist-packages (from requests<3,>=2.21.0->tensorboard<2.9,>=2.8->tensorflow->smote_variants) (2022.6.15)\n",
            "Requirement already satisfied: urllib3!=1.25.0,!=1.25.1,<1.26,>=1.21.1 in /usr/local/lib/python3.7/dist-packages (from requests<3,>=2.21.0->tensorboard<2.9,>=2.8->tensorflow->smote_variants) (1.24.3)\n",
            "Requirement already satisfied: idna<3,>=2.5 in /usr/local/lib/python3.7/dist-packages (from requests<3,>=2.21.0->tensorboard<2.9,>=2.8->tensorflow->smote_variants) (2.10)\n",
            "Requirement already satisfied: chardet<4,>=3.0.2 in /usr/local/lib/python3.7/dist-packages (from requests<3,>=2.21.0->tensorboard<2.9,>=2.8->tensorflow->smote_variants) (3.0.4)\n",
            "Requirement already satisfied: oauthlib>=3.0.0 in /usr/local/lib/python3.7/dist-packages (from requests-oauthlib>=0.7.0->google-auth-oauthlib<0.5,>=0.4.1->tensorboard<2.9,>=2.8->tensorflow->smote_variants) (3.2.0)\n",
            "Building wheels for collected packages: minisom, statistics\n",
            "  Building wheel for minisom (setup.py) ... \u001b[?25l\u001b[?25hdone\n",
            "  Created wheel for minisom: filename=MiniSom-2.3.0-py3-none-any.whl size=9018 sha256=371f8f85b6c259fc4c292a1f52c8b1b85e6e71fae8a0a35d7c7febdffd0ac45b\n",
            "  Stored in directory: /root/.cache/pip/wheels/d4/ca/4a/488772b0399fec45ff53132ed14c948dec4b30deee3a532f80\n",
            "  Building wheel for statistics (setup.py) ... \u001b[?25l\u001b[?25hdone\n",
            "  Created wheel for statistics: filename=statistics-1.0.3.5-py3-none-any.whl size=7454 sha256=b3fbb8f78182d80dca0d519e390340f945c55dba26888f21afd0a979c10f1b90\n",
            "  Stored in directory: /root/.cache/pip/wheels/37/09/e1/49ee45c0ce248a6e9c986aae82d32bbcba09c9f3b9d0c3406a\n",
            "Successfully built minisom statistics\n",
            "Installing collected packages: statistics, minisom, metric-learn, smote-variants\n",
            "Successfully installed metric-learn-0.6.2 minisom-2.3.0 smote-variants-0.7.1 statistics-1.0.3.5\n"
          ]
        }
      ]
    },
    {
      "cell_type": "code",
      "source": [
        "import numpy as np\n",
        "import scipy as sp\n",
        "import pandas as pd\n",
        "import matplotlib.pyplot as plt\n",
        "import seaborn as sns\n",
        "import warnings\n",
        "from random import choice\n",
        "\n",
        "warnings.simplefilter('ignore')"
      ],
      "metadata": {
        "id": "HGEEf3vx5OhC"
      },
      "execution_count": null,
      "outputs": []
    },
    {
      "cell_type": "code",
      "source": [
        "%matplotlib inline"
      ],
      "metadata": {
        "id": "-yG2y_JF5QHK"
      },
      "execution_count": null,
      "outputs": []
    },
    {
      "cell_type": "code",
      "source": [
        "from sklearn.neural_network import MLPClassifier\n",
        "from sklearn.preprocessing import LabelEncoder\n",
        "from sklearn.model_selection import train_test_split\n",
        "from sklearn.metrics import classification_report\n",
        "from sklearn.metrics import f1_score, plot_confusion_matrix, mean_squared_error, mean_absolute_error,confusion_matrix, accuracy_score, roc_auc_score\n",
        "from sklearn.model_selection import GridSearchCV\n",
        "\n",
        "from sklearn.preprocessing import StandardScaler\n",
        "from sklearn.decomposition import PCA\n",
        "\n",
        "from math import sqrt\n",
        "\n",
        "\n",
        "import tensorflow as tf\n",
        "from tensorflow import keras\n",
        "from keras.models import Sequential\n",
        "from keras.layers import Dense, Dropout, LSTM,Flatten\n",
        "from keras.activations import sigmoid, softmax\n"
      ],
      "metadata": {
        "id": "qdYbJfon42tx"
      },
      "execution_count": null,
      "outputs": []
    },
    {
      "cell_type": "markdown",
      "metadata": {
        "id": "-AEvKCQJYiFk"
      },
      "source": [
        "# **OBTENDO OS ARQUIVOS DE DADOS**\n",
        "\n",
        "Temos 01 arquivo de dados (Dataset):\n",
        "\n",
        "**df_RD80_MP3000A_for_ClassifierRainfall**: Neste arquivo estão os dados do ambiente próximo à superfície, os dados das medidas dos canais do microonda, as variáveis estimadas associadas a parâmetros de nuvens e dados de medida da distribuição das gotas de chuva que chegam à superfície. Vamos realizar o download do Dataset:"
      ]
    },
    {
      "cell_type": "code",
      "execution_count": null,
      "metadata": {
        "colab": {
          "base_uri": "https://localhost:8080/"
        },
        "outputId": "fc3f3f1e-c466-46b2-b16d-ff549ea60b93",
        "id": "2w4OTyMB43DS"
      },
      "outputs": [
        {
          "output_type": "stream",
          "name": "stdout",
          "text": [
            "/usr/local/lib/python3.7/dist-packages/gdown/cli.py:131: FutureWarning: Option `--id` was deprecated in version 4.3.1 and will be removed in 5.0. You don't need to pass it anymore to use a file ID.\n",
            "  category=FutureWarning,\n",
            "Downloading...\n",
            "From: https://drive.google.com/uc?id=1J8GeAGq1xYBxVnBIP-qE1vOKqdc_0RtG\n",
            "To: /content/df_RD80_MP3000A_for_ClassifierRainfall.csv\n",
            "100% 289M/289M [00:02<00:00, 126MB/s]\n"
          ]
        }
      ],
      "source": [
        "#Vamos baixar os dados do Google Drive para o ambiente de execução do nosso Notebook\n",
        "!gdown --id 1J8GeAGq1xYBxVnBIP-qE1vOKqdc_0RtG\n",
        "\n",
        "#!gdown --id 1emcBshvoS4TCGeeJHdjJmxj9FMWTlyLJ"
      ]
    },
    {
      "cell_type": "markdown",
      "metadata": {
        "id": "0bfMy_1xiTff"
      },
      "source": [
        "# **PREPROCESSAMENTO E VISUALIZAÇÃO DOS DADOS**\n",
        "\n",
        "Os dados já foram tratados na fase aneterior deste trabalho. A partir daqui, o primeiro passo é abrir o CSV com o Pandas. Em uma visão inicial dos dados, temos:"
      ]
    },
    {
      "cell_type": "code",
      "execution_count": null,
      "metadata": {
        "id": "dD7eMk3l43DU"
      },
      "outputs": [],
      "source": [
        "#Carregar o Dataset e criar o Dataframe\n",
        "df_RD80 = pd.read_csv(\"/content/df_RD80_MP3000A_for_ClassifierRainfall.csv\",parse_dates=[0], index_col=[0])\n",
        "df_RD80_final = df_RD80.loc[df_RD80['Rain_Intensity_mm_h'] > 0] #Vamos considerar somente os dias que chveram"
      ]
    },
    {
      "cell_type": "code",
      "source": [
        "#Aqui verificamos o tamanho do Dataset e quantidade de atributos \n",
        "print('Tamanho do dataset: ',df_RD80_final.shape[0], ' - Quantidade de atributos: ', df_RD80_final.shape[1])"
      ],
      "metadata": {
        "colab": {
          "base_uri": "https://localhost:8080/"
        },
        "id": "8Bdfp3oIro5G",
        "outputId": "14d8451d-1f5f-4970-e211-5f4d4d1724ef"
      },
      "execution_count": null,
      "outputs": [
        {
          "output_type": "stream",
          "name": "stdout",
          "text": [
            "Tamanho do dataset:  17835  - Quantidade de atributos:  39\n"
          ]
        }
      ]
    },
    {
      "cell_type": "code",
      "source": [
        "df_RD80_final.loc[df_RD80_final['Rain_Intensity_mm_h'] >= 0].head(n=2).append(df_RD80_final.loc[df_RD80_final['Tamb_K'] > 0].tail(n=2))"
      ],
      "metadata": {
        "colab": {
          "base_uri": "https://localhost:8080/",
          "height": 303
        },
        "outputId": "700d7075-0d74-4772-d36c-d593824dca64",
        "id": "p-e5jm-Z43DV"
      },
      "execution_count": null,
      "outputs": [
        {
          "output_type": "execute_result",
          "data": {
            "text/plain": [
              "        Year  Day  Month_  Hour  Minute  Rain_Intensity_mm_h  \\\n",
              "0       2022   17       1    13      47              0.14179   \n",
              "1       2022   17       1    13      48              0.15971   \n",
              "185275  2022   31       5    17      45              5.52877   \n",
              "185461  2022   31       5    20      51             99.40764   \n",
              "\n",
              "        radar_reflectivity_1_mm6m3  Liquid_watercontent_g_m3  \\\n",
              "0                         20.98903                   0.01019   \n",
              "1                         23.59070                   0.01125   \n",
              "185275                  1931.53613                   0.31949   \n",
              "185461                139959.20312                   3.90797   \n",
              "\n",
              "        Mean_weight_diameter_mm  Tamb_K  ...  Ch_55_500  Ch_56_020  Ch_56_660  \\\n",
              "0                       0.97649   23.92  ...        0.0        0.0        0.0   \n",
              "1                       0.99517    0.00  ...        0.0        0.0        0.0   \n",
              "185275                  1.32428   27.02  ...        0.0        0.0        0.0   \n",
              "185461                  2.44101   24.19  ...        0.0        0.0        0.0   \n",
              "\n",
              "        Ch_57_288  Ch_57_964  Ch_58_800  Int_Vapor_cm  Int_Liquid_mm  \\\n",
              "0             0.0        0.0        0.0           0.0            0.0   \n",
              "1             0.0        0.0        0.0           0.0            0.0   \n",
              "185275        0.0        0.0        0.0           0.0            0.0   \n",
              "185461        0.0        0.0        0.0           0.0            0.0   \n",
              "\n",
              "        Cloud_Base_km         Class_Rain  \n",
              "0                 0.0        Chuva fraca  \n",
              "1                 0.0        Chuva fraca  \n",
              "185275            0.0     Chuva moderada  \n",
              "185461            0.0  Chuva muito forte  \n",
              "\n",
              "[4 rows x 39 columns]"
            ],
            "text/html": [
              "\n",
              "  <div id=\"df-54fb281d-2710-4ce2-8eaf-dadc362a1a11\">\n",
              "    <div class=\"colab-df-container\">\n",
              "      <div>\n",
              "<style scoped>\n",
              "    .dataframe tbody tr th:only-of-type {\n",
              "        vertical-align: middle;\n",
              "    }\n",
              "\n",
              "    .dataframe tbody tr th {\n",
              "        vertical-align: top;\n",
              "    }\n",
              "\n",
              "    .dataframe thead th {\n",
              "        text-align: right;\n",
              "    }\n",
              "</style>\n",
              "<table border=\"1\" class=\"dataframe\">\n",
              "  <thead>\n",
              "    <tr style=\"text-align: right;\">\n",
              "      <th></th>\n",
              "      <th>Year</th>\n",
              "      <th>Day</th>\n",
              "      <th>Month_</th>\n",
              "      <th>Hour</th>\n",
              "      <th>Minute</th>\n",
              "      <th>Rain_Intensity_mm_h</th>\n",
              "      <th>radar_reflectivity_1_mm6m3</th>\n",
              "      <th>Liquid_watercontent_g_m3</th>\n",
              "      <th>Mean_weight_diameter_mm</th>\n",
              "      <th>Tamb_K</th>\n",
              "      <th>...</th>\n",
              "      <th>Ch_55_500</th>\n",
              "      <th>Ch_56_020</th>\n",
              "      <th>Ch_56_660</th>\n",
              "      <th>Ch_57_288</th>\n",
              "      <th>Ch_57_964</th>\n",
              "      <th>Ch_58_800</th>\n",
              "      <th>Int_Vapor_cm</th>\n",
              "      <th>Int_Liquid_mm</th>\n",
              "      <th>Cloud_Base_km</th>\n",
              "      <th>Class_Rain</th>\n",
              "    </tr>\n",
              "  </thead>\n",
              "  <tbody>\n",
              "    <tr>\n",
              "      <th>0</th>\n",
              "      <td>2022</td>\n",
              "      <td>17</td>\n",
              "      <td>1</td>\n",
              "      <td>13</td>\n",
              "      <td>47</td>\n",
              "      <td>0.14179</td>\n",
              "      <td>20.98903</td>\n",
              "      <td>0.01019</td>\n",
              "      <td>0.97649</td>\n",
              "      <td>23.92</td>\n",
              "      <td>...</td>\n",
              "      <td>0.0</td>\n",
              "      <td>0.0</td>\n",
              "      <td>0.0</td>\n",
              "      <td>0.0</td>\n",
              "      <td>0.0</td>\n",
              "      <td>0.0</td>\n",
              "      <td>0.0</td>\n",
              "      <td>0.0</td>\n",
              "      <td>0.0</td>\n",
              "      <td>Chuva fraca</td>\n",
              "    </tr>\n",
              "    <tr>\n",
              "      <th>1</th>\n",
              "      <td>2022</td>\n",
              "      <td>17</td>\n",
              "      <td>1</td>\n",
              "      <td>13</td>\n",
              "      <td>48</td>\n",
              "      <td>0.15971</td>\n",
              "      <td>23.59070</td>\n",
              "      <td>0.01125</td>\n",
              "      <td>0.99517</td>\n",
              "      <td>0.00</td>\n",
              "      <td>...</td>\n",
              "      <td>0.0</td>\n",
              "      <td>0.0</td>\n",
              "      <td>0.0</td>\n",
              "      <td>0.0</td>\n",
              "      <td>0.0</td>\n",
              "      <td>0.0</td>\n",
              "      <td>0.0</td>\n",
              "      <td>0.0</td>\n",
              "      <td>0.0</td>\n",
              "      <td>Chuva fraca</td>\n",
              "    </tr>\n",
              "    <tr>\n",
              "      <th>185275</th>\n",
              "      <td>2022</td>\n",
              "      <td>31</td>\n",
              "      <td>5</td>\n",
              "      <td>17</td>\n",
              "      <td>45</td>\n",
              "      <td>5.52877</td>\n",
              "      <td>1931.53613</td>\n",
              "      <td>0.31949</td>\n",
              "      <td>1.32428</td>\n",
              "      <td>27.02</td>\n",
              "      <td>...</td>\n",
              "      <td>0.0</td>\n",
              "      <td>0.0</td>\n",
              "      <td>0.0</td>\n",
              "      <td>0.0</td>\n",
              "      <td>0.0</td>\n",
              "      <td>0.0</td>\n",
              "      <td>0.0</td>\n",
              "      <td>0.0</td>\n",
              "      <td>0.0</td>\n",
              "      <td>Chuva moderada</td>\n",
              "    </tr>\n",
              "    <tr>\n",
              "      <th>185461</th>\n",
              "      <td>2022</td>\n",
              "      <td>31</td>\n",
              "      <td>5</td>\n",
              "      <td>20</td>\n",
              "      <td>51</td>\n",
              "      <td>99.40764</td>\n",
              "      <td>139959.20312</td>\n",
              "      <td>3.90797</td>\n",
              "      <td>2.44101</td>\n",
              "      <td>24.19</td>\n",
              "      <td>...</td>\n",
              "      <td>0.0</td>\n",
              "      <td>0.0</td>\n",
              "      <td>0.0</td>\n",
              "      <td>0.0</td>\n",
              "      <td>0.0</td>\n",
              "      <td>0.0</td>\n",
              "      <td>0.0</td>\n",
              "      <td>0.0</td>\n",
              "      <td>0.0</td>\n",
              "      <td>Chuva muito forte</td>\n",
              "    </tr>\n",
              "  </tbody>\n",
              "</table>\n",
              "<p>4 rows × 39 columns</p>\n",
              "</div>\n",
              "      <button class=\"colab-df-convert\" onclick=\"convertToInteractive('df-54fb281d-2710-4ce2-8eaf-dadc362a1a11')\"\n",
              "              title=\"Convert this dataframe to an interactive table.\"\n",
              "              style=\"display:none;\">\n",
              "        \n",
              "  <svg xmlns=\"http://www.w3.org/2000/svg\" height=\"24px\"viewBox=\"0 0 24 24\"\n",
              "       width=\"24px\">\n",
              "    <path d=\"M0 0h24v24H0V0z\" fill=\"none\"/>\n",
              "    <path d=\"M18.56 5.44l.94 2.06.94-2.06 2.06-.94-2.06-.94-.94-2.06-.94 2.06-2.06.94zm-11 1L8.5 8.5l.94-2.06 2.06-.94-2.06-.94L8.5 2.5l-.94 2.06-2.06.94zm10 10l.94 2.06.94-2.06 2.06-.94-2.06-.94-.94-2.06-.94 2.06-2.06.94z\"/><path d=\"M17.41 7.96l-1.37-1.37c-.4-.4-.92-.59-1.43-.59-.52 0-1.04.2-1.43.59L10.3 9.45l-7.72 7.72c-.78.78-.78 2.05 0 2.83L4 21.41c.39.39.9.59 1.41.59.51 0 1.02-.2 1.41-.59l7.78-7.78 2.81-2.81c.8-.78.8-2.07 0-2.86zM5.41 20L4 18.59l7.72-7.72 1.47 1.35L5.41 20z\"/>\n",
              "  </svg>\n",
              "      </button>\n",
              "      \n",
              "  <style>\n",
              "    .colab-df-container {\n",
              "      display:flex;\n",
              "      flex-wrap:wrap;\n",
              "      gap: 12px;\n",
              "    }\n",
              "\n",
              "    .colab-df-convert {\n",
              "      background-color: #E8F0FE;\n",
              "      border: none;\n",
              "      border-radius: 50%;\n",
              "      cursor: pointer;\n",
              "      display: none;\n",
              "      fill: #1967D2;\n",
              "      height: 32px;\n",
              "      padding: 0 0 0 0;\n",
              "      width: 32px;\n",
              "    }\n",
              "\n",
              "    .colab-df-convert:hover {\n",
              "      background-color: #E2EBFA;\n",
              "      box-shadow: 0px 1px 2px rgba(60, 64, 67, 0.3), 0px 1px 3px 1px rgba(60, 64, 67, 0.15);\n",
              "      fill: #174EA6;\n",
              "    }\n",
              "\n",
              "    [theme=dark] .colab-df-convert {\n",
              "      background-color: #3B4455;\n",
              "      fill: #D2E3FC;\n",
              "    }\n",
              "\n",
              "    [theme=dark] .colab-df-convert:hover {\n",
              "      background-color: #434B5C;\n",
              "      box-shadow: 0px 1px 3px 1px rgba(0, 0, 0, 0.15);\n",
              "      filter: drop-shadow(0px 1px 2px rgba(0, 0, 0, 0.3));\n",
              "      fill: #FFFFFF;\n",
              "    }\n",
              "  </style>\n",
              "\n",
              "      <script>\n",
              "        const buttonEl =\n",
              "          document.querySelector('#df-54fb281d-2710-4ce2-8eaf-dadc362a1a11 button.colab-df-convert');\n",
              "        buttonEl.style.display =\n",
              "          google.colab.kernel.accessAllowed ? 'block' : 'none';\n",
              "\n",
              "        async function convertToInteractive(key) {\n",
              "          const element = document.querySelector('#df-54fb281d-2710-4ce2-8eaf-dadc362a1a11');\n",
              "          const dataTable =\n",
              "            await google.colab.kernel.invokeFunction('convertToInteractive',\n",
              "                                                     [key], {});\n",
              "          if (!dataTable) return;\n",
              "\n",
              "          const docLinkHtml = 'Like what you see? Visit the ' +\n",
              "            '<a target=\"_blank\" href=https://colab.research.google.com/notebooks/data_table.ipynb>data table notebook</a>'\n",
              "            + ' to learn more about interactive tables.';\n",
              "          element.innerHTML = '';\n",
              "          dataTable['output_type'] = 'display_data';\n",
              "          await google.colab.output.renderOutput(dataTable, element);\n",
              "          const docLink = document.createElement('div');\n",
              "          docLink.innerHTML = docLinkHtml;\n",
              "          element.appendChild(docLink);\n",
              "        }\n",
              "      </script>\n",
              "    </div>\n",
              "  </div>\n",
              "  "
            ]
          },
          "metadata": {},
          "execution_count": 8
        }
      ]
    },
    {
      "cell_type": "markdown",
      "source": [
        "## **Encontrando correlações com o Heatmap**"
      ],
      "metadata": {
        "id": "gOEQMU1FUT-e"
      }
    },
    {
      "cell_type": "markdown",
      "source": [
        "Primeiramente, vamos codificar a variável categórica **Class_Rain** usando uma função de substituição:"
      ],
      "metadata": {
        "id": "uE2U_DXaT38J"
      }
    },
    {
      "cell_type": "code",
      "source": [
        "# Generate a mask for the upper triangle\n",
        "corr = df_RD80_final.corr()\n",
        "mask = np.triu(np.ones_like(corr, dtype=bool))\n",
        "\n",
        "# Set up the matplotlib figure\n",
        "f, ax = plt.subplots(figsize=(11, 9))\n",
        "\n",
        "# Generate a custom diverging colormap\n",
        "cmap = sns.diverging_palette(230, 20, as_cmap=True)\n",
        "\n",
        "# Draw the heatmap with the mask and correct aspect ratio\n",
        "sns.heatmap(corr, mask=mask, cmap=cmap, center=0,\n",
        "            square=True, linewidths=.5, cbar_kws={\"shrink\": .5})"
      ],
      "metadata": {
        "id": "uL9eFVpOLiTI",
        "outputId": "997a5381-3016-4135-b3d5-a2aadc186f92",
        "colab": {
          "base_uri": "https://localhost:8080/",
          "height": 687
        }
      },
      "execution_count": null,
      "outputs": [
        {
          "output_type": "execute_result",
          "data": {
            "text/plain": [
              "<matplotlib.axes._subplots.AxesSubplot at 0x7f18974a9050>"
            ]
          },
          "metadata": {},
          "execution_count": 15
        },
        {
          "output_type": "display_data",
          "data": {
            "text/plain": [
              "<Figure size 792x648 with 2 Axes>"
            ],
            "image/png": "[encoded data removed]"
          },
          "metadata": {
            "needs_background": "light"
          }
        }
      ]
    },
    {
      "cell_type": "code",
      "source": [
        "df_RD80_final['Class_Rain'].replace({'Chuva fraca':1, 'Chuva moderada': 2, 'Chuva forte': 3, 'Chuva muito forte': 4}, inplace = True)\n"
      ],
      "metadata": {
        "id": "8FXOTnz5UMsQ"
      },
      "execution_count": null,
      "outputs": []
    },
    {
      "cell_type": "code",
      "source": [
        "df_RD80_final_features = ['Rain_Intensity_mm_h',\n",
        "       'radar_reflectivity_1_mm6m3', 'Liquid_watercontent_g_m3',\n",
        "       'Mean_weight_diameter_mm','Class_Rain']"
      ],
      "metadata": {
        "id": "fBtjfI3-VMx2"
      },
      "execution_count": null,
      "outputs": []
    },
    {
      "cell_type": "code",
      "source": [
        "df_RD80_MP3000A  = df_RD80_final[df_RD80_final_features]"
      ],
      "metadata": {
        "id": "wy8TjSr-Z8Wf"
      },
      "execution_count": null,
      "outputs": []
    },
    {
      "cell_type": "code",
      "source": [
        "matrix = np.triu(df_RD80_MP3000A.corr())\n",
        "plt.figure(figsize=(18,9));\n",
        "sns.heatmap(df_RD80_MP3000A.corr(),mask=matrix, annot=True, cmap='bwr_r');"
      ],
      "metadata": {
        "id": "79b6Og7AXll3",
        "outputId": "b7fceaba-bd53-4c37-f25d-96bc2140386a",
        "colab": {
          "base_uri": "https://localhost:8080/",
          "height": 538
        }
      },
      "execution_count": null,
      "outputs": [
        {
          "output_type": "display_data",
          "data": {
            "text/plain": [
              "<Figure size 1296x648 with 2 Axes>"
            ],
            "image/png": "[encoded data removed]"
          },
          "metadata": {
            "needs_background": "light"
          }
        }
      ]
    },
    {
      "cell_type": "code",
      "source": [
        "df_RD80_MP3000A['Class_Rain'].replace({1:'Chuva fraca', 2:'Chuva moderada', 3:'Chuva forte', 4:'Chuva muito forte'}, inplace = True)"
      ],
      "metadata": {
        "id": "QukZamRleviZ"
      },
      "execution_count": null,
      "outputs": []
    },
    {
      "cell_type": "code",
      "source": [
        "df_RD80_MP3000A.dtypes"
      ],
      "metadata": {
        "colab": {
          "base_uri": "https://localhost:8080/"
        },
        "id": "6e3l81875XSa",
        "outputId": "d2a412db-f8e9-4bb5-9ac9-f75ffefbae2e"
      },
      "execution_count": null,
      "outputs": [
        {
          "output_type": "execute_result",
          "data": {
            "text/plain": [
              "Rain_Intensity_mm_h           float64\n",
              "radar_reflectivity_1_mm6m3    float64\n",
              "Liquid_watercontent_g_m3      float64\n",
              "Mean_weight_diameter_mm       float64\n",
              "Class_Rain                     object\n",
              "dtype: object"
            ]
          },
          "metadata": {},
          "execution_count": 55
        }
      ]
    },
    {
      "cell_type": "markdown",
      "source": [
        "Vamos olhar como está a **Proporção de classes** do nosso Dataset"
      ],
      "metadata": {
        "id": "ic50OYqDdGB0"
      }
    },
    {
      "cell_type": "code",
      "source": [
        "df_RD80_MP3000A['Class_Rain'].value_counts()"
      ],
      "metadata": {
        "colab": {
          "base_uri": "https://localhost:8080/"
        },
        "id": "TzMt0Kff7PFT",
        "outputId": "1dcdc13d-5d54-42d5-9afe-c699f2a08cc8"
      },
      "execution_count": null,
      "outputs": [
        {
          "output_type": "execute_result",
          "data": {
            "text/plain": [
              "Chuva fraca          12014\n",
              "Chuva moderada        3484\n",
              "Chuva forte           1966\n",
              "Chuva muito forte      371\n",
              "Name: Class_Rain, dtype: int64"
            ]
          },
          "metadata": {},
          "execution_count": 56
        }
      ]
    },
    {
      "cell_type": "code",
      "source": [
        "total = len(df_RD80_MP3000A)\n",
        "plt.figure(figsize=(10,4))\n",
        "ax = sns.countplot(x = 'Class_Rain', data = df_RD80_MP3000A, palette='viridis')\n",
        "for p in ax.patches:\n",
        "        ax.annotate('{:.2f}%'.format(100*p.get_height()/total), (p.get_x()+0.1, p.get_height()+5))\n",
        "ax.yaxis.set_ticks(np.linspace(0, total, 10))\n",
        "ax.set_yticklabels(map('{:.2f}%'.format, 100*ax.yaxis.get_majorticklocs()/total))\n",
        "plt.show()"
      ],
      "metadata": {
        "colab": {
          "base_uri": "https://localhost:8080/",
          "height": 284
        },
        "id": "ksFr6w3CG3Po",
        "outputId": "c7d2b6a0-2b75-47d7-a0a0-71eb9ffa9f50"
      },
      "execution_count": null,
      "outputs": [
        {
          "output_type": "display_data",
          "data": {
            "text/plain": [
              "<Figure size 720x288 with 1 Axes>"
            ],
            "image/png": "[encoded data removed]"
          },
          "metadata": {
            "needs_background": "light"
          }
        }
      ]
    },
    {
      "cell_type": "code",
      "source": [
        "df_RD80_MP3000A.head()"
      ],
      "metadata": {
        "colab": {
          "base_uri": "https://localhost:8080/",
          "height": 206
        },
        "id": "_9wo7U7wom-P",
        "outputId": "5eaa1a20-945d-4e0d-fee9-e6d06e6cf858"
      },
      "execution_count": null,
      "outputs": [
        {
          "output_type": "execute_result",
          "data": {
            "text/plain": [
              "    Rain_Intensity_mm_h  radar_reflectivity_1_mm6m3  Liquid_watercontent_g_m3  \\\n",
              "0               0.14179                    20.98903                   0.01019   \n",
              "1               0.15971                    23.59070                   0.01125   \n",
              "23              0.10681                    15.63035                   0.00727   \n",
              "61              0.45065                   705.93176                   0.01636   \n",
              "64              0.40227                   246.63791                   0.01823   \n",
              "\n",
              "    Mean_weight_diameter_mm   Class_Rain  \n",
              "0                   0.97649  Chuva fraca  \n",
              "1                   0.99517  Chuva fraca  \n",
              "23                  1.02612  Chuva fraca  \n",
              "61                  2.76723  Chuva fraca  \n",
              "64                  1.85144  Chuva fraca  "
            ],
            "text/html": [
              "\n",
              "  <div id=\"df-027900d0-e903-4548-b43c-6a468556a389\">\n",
              "    <div class=\"colab-df-container\">\n",
              "      <div>\n",
              "<style scoped>\n",
              "    .dataframe tbody tr th:only-of-type {\n",
              "        vertical-align: middle;\n",
              "    }\n",
              "\n",
              "    .dataframe tbody tr th {\n",
              "        vertical-align: top;\n",
              "    }\n",
              "\n",
              "    .dataframe thead th {\n",
              "        text-align: right;\n",
              "    }\n",
              "</style>\n",
              "<table border=\"1\" class=\"dataframe\">\n",
              "  <thead>\n",
              "    <tr style=\"text-align: right;\">\n",
              "      <th></th>\n",
              "      <th>Rain_Intensity_mm_h</th>\n",
              "      <th>radar_reflectivity_1_mm6m3</th>\n",
              "      <th>Liquid_watercontent_g_m3</th>\n",
              "      <th>Mean_weight_diameter_mm</th>\n",
              "      <th>Class_Rain</th>\n",
              "    </tr>\n",
              "  </thead>\n",
              "  <tbody>\n",
              "    <tr>\n",
              "      <th>0</th>\n",
              "      <td>0.14179</td>\n",
              "      <td>20.98903</td>\n",
              "      <td>0.01019</td>\n",
              "      <td>0.97649</td>\n",
              "      <td>Chuva fraca</td>\n",
              "    </tr>\n",
              "    <tr>\n",
              "      <th>1</th>\n",
              "      <td>0.15971</td>\n",
              "      <td>23.59070</td>\n",
              "      <td>0.01125</td>\n",
              "      <td>0.99517</td>\n",
              "      <td>Chuva fraca</td>\n",
              "    </tr>\n",
              "    <tr>\n",
              "      <th>23</th>\n",
              "      <td>0.10681</td>\n",
              "      <td>15.63035</td>\n",
              "      <td>0.00727</td>\n",
              "      <td>1.02612</td>\n",
              "      <td>Chuva fraca</td>\n",
              "    </tr>\n",
              "    <tr>\n",
              "      <th>61</th>\n",
              "      <td>0.45065</td>\n",
              "      <td>705.93176</td>\n",
              "      <td>0.01636</td>\n",
              "      <td>2.76723</td>\n",
              "      <td>Chuva fraca</td>\n",
              "    </tr>\n",
              "    <tr>\n",
              "      <th>64</th>\n",
              "      <td>0.40227</td>\n",
              "      <td>246.63791</td>\n",
              "      <td>0.01823</td>\n",
              "      <td>1.85144</td>\n",
              "      <td>Chuva fraca</td>\n",
              "    </tr>\n",
              "  </tbody>\n",
              "</table>\n",
              "</div>\n",
              "      <button class=\"colab-df-convert\" onclick=\"convertToInteractive('df-027900d0-e903-4548-b43c-6a468556a389')\"\n",
              "              title=\"Convert this dataframe to an interactive table.\"\n",
              "              style=\"display:none;\">\n",
              "        \n",
              "  <svg xmlns=\"http://www.w3.org/2000/svg\" height=\"24px\"viewBox=\"0 0 24 24\"\n",
              "       width=\"24px\">\n",
              "    <path d=\"M0 0h24v24H0V0z\" fill=\"none\"/>\n",
              "    <path d=\"M18.56 5.44l.94 2.06.94-2.06 2.06-.94-2.06-.94-.94-2.06-.94 2.06-2.06.94zm-11 1L8.5 8.5l.94-2.06 2.06-.94-2.06-.94L8.5 2.5l-.94 2.06-2.06.94zm10 10l.94 2.06.94-2.06 2.06-.94-2.06-.94-.94-2.06-.94 2.06-2.06.94z\"/><path d=\"M17.41 7.96l-1.37-1.37c-.4-.4-.92-.59-1.43-.59-.52 0-1.04.2-1.43.59L10.3 9.45l-7.72 7.72c-.78.78-.78 2.05 0 2.83L4 21.41c.39.39.9.59 1.41.59.51 0 1.02-.2 1.41-.59l7.78-7.78 2.81-2.81c.8-.78.8-2.07 0-2.86zM5.41 20L4 18.59l7.72-7.72 1.47 1.35L5.41 20z\"/>\n",
              "  </svg>\n",
              "      </button>\n",
              "      \n",
              "  <style>\n",
              "    .colab-df-container {\n",
              "      display:flex;\n",
              "      flex-wrap:wrap;\n",
              "      gap: 12px;\n",
              "    }\n",
              "\n",
              "    .colab-df-convert {\n",
              "      background-color: #E8F0FE;\n",
              "      border: none;\n",
              "      border-radius: 50%;\n",
              "      cursor: pointer;\n",
              "      display: none;\n",
              "      fill: #1967D2;\n",
              "      height: 32px;\n",
              "      padding: 0 0 0 0;\n",
              "      width: 32px;\n",
              "    }\n",
              "\n",
              "    .colab-df-convert:hover {\n",
              "      background-color: #E2EBFA;\n",
              "      box-shadow: 0px 1px 2px rgba(60, 64, 67, 0.3), 0px 1px 3px 1px rgba(60, 64, 67, 0.15);\n",
              "      fill: #174EA6;\n",
              "    }\n",
              "\n",
              "    [theme=dark] .colab-df-convert {\n",
              "      background-color: #3B4455;\n",
              "      fill: #D2E3FC;\n",
              "    }\n",
              "\n",
              "    [theme=dark] .colab-df-convert:hover {\n",
              "      background-color: #434B5C;\n",
              "      box-shadow: 0px 1px 3px 1px rgba(0, 0, 0, 0.15);\n",
              "      filter: drop-shadow(0px 1px 2px rgba(0, 0, 0, 0.3));\n",
              "      fill: #FFFFFF;\n",
              "    }\n",
              "  </style>\n",
              "\n",
              "      <script>\n",
              "        const buttonEl =\n",
              "          document.querySelector('#df-027900d0-e903-4548-b43c-6a468556a389 button.colab-df-convert');\n",
              "        buttonEl.style.display =\n",
              "          google.colab.kernel.accessAllowed ? 'block' : 'none';\n",
              "\n",
              "        async function convertToInteractive(key) {\n",
              "          const element = document.querySelector('#df-027900d0-e903-4548-b43c-6a468556a389');\n",
              "          const dataTable =\n",
              "            await google.colab.kernel.invokeFunction('convertToInteractive',\n",
              "                                                     [key], {});\n",
              "          if (!dataTable) return;\n",
              "\n",
              "          const docLinkHtml = 'Like what you see? Visit the ' +\n",
              "            '<a target=\"_blank\" href=https://colab.research.google.com/notebooks/data_table.ipynb>data table notebook</a>'\n",
              "            + ' to learn more about interactive tables.';\n",
              "          element.innerHTML = '';\n",
              "          dataTable['output_type'] = 'display_data';\n",
              "          await google.colab.output.renderOutput(dataTable, element);\n",
              "          const docLink = document.createElement('div');\n",
              "          docLink.innerHTML = docLinkHtml;\n",
              "          element.appendChild(docLink);\n",
              "        }\n",
              "      </script>\n",
              "    </div>\n",
              "  </div>\n",
              "  "
            ]
          },
          "metadata": {},
          "execution_count": 58
        }
      ]
    },
    {
      "cell_type": "markdown",
      "source": [
        "Com exceção da nossa **target** ***Class_Rain***, vamos alterar o tipo de todas as **Features** escolhidas para o tipo **float64**."
      ],
      "metadata": {
        "id": "29eBmomhqY7H"
      }
    },
    {
      "cell_type": "code",
      "source": [
        "df_RD80_MP3000A[df_RD80_MP3000A.columns[0:4]] = df_RD80_MP3000A[df_RD80_MP3000A.columns[0:4]].astype('float64')\n",
        "df_RD80_MP3000A.dtypes"
      ],
      "metadata": {
        "colab": {
          "base_uri": "https://localhost:8080/"
        },
        "id": "apELEcJ080SB",
        "outputId": "20eb5fed-4239-495f-f335-db62b7ca92e6"
      },
      "execution_count": null,
      "outputs": [
        {
          "output_type": "execute_result",
          "data": {
            "text/plain": [
              "Rain_Intensity_mm_h           float64\n",
              "radar_reflectivity_1_mm6m3    float64\n",
              "Liquid_watercontent_g_m3      float64\n",
              "Mean_weight_diameter_mm       float64\n",
              "Class_Rain                     object\n",
              "dtype: object"
            ]
          },
          "metadata": {},
          "execution_count": 59
        }
      ]
    },
    {
      "cell_type": "markdown",
      "source": [
        "Agora vamos transformar a **string** em enconder para poder fazer a leitura da ***feature*** nas próximas etapas."
      ],
      "metadata": {
        "id": "03O1D0m9F0tT"
      }
    },
    {
      "cell_type": "code",
      "source": [
        "#Codificação dos rótulos: convertendo-os de strings para inteiros\n",
        "le = LabelEncoder()\n",
        "labels_target = le.fit_transform(df_RD80_MP3000A['Class_Rain'].values)\n",
        "labels_target"
      ],
      "metadata": {
        "id": "zfeaoXvh7Z-R",
        "colab": {
          "base_uri": "https://localhost:8080/"
        },
        "outputId": "dc2c61bd-e47f-4b64-b611-7f0978613c8b"
      },
      "execution_count": null,
      "outputs": [
        {
          "output_type": "execute_result",
          "data": {
            "text/plain": [
              "array([1, 1, 1, ..., 1, 1, 1])"
            ]
          },
          "metadata": {},
          "execution_count": 60
        }
      ]
    },
    {
      "cell_type": "markdown",
      "source": [
        "## **Divisão dos dados em treino, validação e teste**"
      ],
      "metadata": {
        "id": "hm23r23Tf5j2"
      }
    },
    {
      "cell_type": "code",
      "source": [
        "# realizar uma divisão de teste de treinamento, usando 70% dos dados para\n",
        "# treinamento e 30% para avaliação\n",
        "(x_train_rain, x_test_rain, y_train_rain, y_test_rain) = train_test_split(df_RD80_MP3000A[df_RD80_MP3000A.columns[0:4]].values, labels_target, random_state=0, test_size=0.30)\n",
        "print('Tamanho do dataset para treinamento: ',len(x_train_rain))\n",
        "print('Tamanho do dataset para validação: ',len(x_test_rain))"
      ],
      "metadata": {
        "colab": {
          "base_uri": "https://localhost:8080/"
        },
        "id": "zYl4km-o7zL4",
        "outputId": "d9483bf5-5bb7-4509-d5af-79aa3028e013"
      },
      "execution_count": null,
      "outputs": [
        {
          "output_type": "stream",
          "name": "stdout",
          "text": [
            "Tamanho do dataset para treinamento:  12484\n",
            "Tamanho do dataset para validação:  5351\n"
          ]
        }
      ]
    },
    {
      "cell_type": "markdown",
      "source": [
        "Verificação do **balanceamento dos dados**"
      ],
      "metadata": {
        "id": "h_OU60XBylJx"
      }
    },
    {
      "cell_type": "code",
      "source": [
        "fig, ax = plt.subplots(1,2,figsize=(13,4))\n",
        "sns.countplot(y_train_rain,ax=ax[0])\n",
        "sns.countplot(y_test_rain,ax=ax[1])\n",
        "ax[0].set_title('Treino')\n",
        "ax[1].set_title('Validação')\n",
        "fig.suptitle('Proporção de classes')"
      ],
      "metadata": {
        "id": "vGICZDM-bKso",
        "outputId": "d933fa89-8e9e-4466-c530-07bda3d5623c",
        "colab": {
          "base_uri": "https://localhost:8080/",
          "height": 311
        }
      },
      "execution_count": null,
      "outputs": [
        {
          "output_type": "execute_result",
          "data": {
            "text/plain": [
              "Text(0.5, 0.98, 'Proporção de classes')"
            ]
          },
          "metadata": {},
          "execution_count": 86
        },
        {
          "output_type": "display_data",
          "data": {
            "text/plain": [
              "<Figure size 936x288 with 2 Axes>"
            ],
            "image/png": "[encoded data removed]"
          },
          "metadata": {
            "needs_background": "light"
          }
        }
      ]
    },
    {
      "cell_type": "markdown",
      "source": [
        "Como podemos ver os nossos dados de treinamento estão desbalanceados. Vamos aplicar um balanceamento:"
      ],
      "metadata": {
        "id": "X2-g85-2yrna"
      }
    },
    {
      "cell_type": "code",
      "source": [
        "#Balanceamento dos dados\n",
        "import smote_variants as sv\n",
        "\n",
        "oversampler= sv.MulticlassOversampling(oversampler='distance_SMOTE',\n",
        "                                      oversampler_params={'random_state': 5})\n",
        "x_train_rain, y_train_rain= oversampler.sample(x_train_rain, y_train_rain)"
      ],
      "metadata": {
        "id": "xXJo-Apjjmcy"
      },
      "execution_count": null,
      "outputs": []
    },
    {
      "cell_type": "code",
      "source": [
        "fig, ax = plt.subplots(1,2,figsize=(13,4))\n",
        "sns.countplot(y_train_rain,ax=ax[0])\n",
        "sns.countplot(y_test_rain,ax=ax[1])\n",
        "ax[0].set_title('Treino')\n",
        "ax[1].set_title('Validação')\n",
        "fig.suptitle('Proporção de classes')"
      ],
      "metadata": {
        "colab": {
          "base_uri": "https://localhost:8080/",
          "height": 311
        },
        "id": "lPTElYTfh_oU",
        "outputId": "79f1ab35-1755-414d-fad8-8cd783cfd3d0"
      },
      "execution_count": null,
      "outputs": [
        {
          "output_type": "execute_result",
          "data": {
            "text/plain": [
              "Text(0.5, 0.98, 'Proporção de classes')"
            ]
          },
          "metadata": {},
          "execution_count": 67
        },
        {
          "output_type": "display_data",
          "data": {
            "text/plain": [
              "<Figure size 936x288 with 2 Axes>"
            ],
            "image/png": "[encoded data removed]"
          },
          "metadata": {
            "needs_background": "light"
          }
        }
      ]
    },
    {
      "cell_type": "markdown",
      "source": [
        "Vamos verificar o tamanho dos dados de treino e teste, novamente."
      ],
      "metadata": {
        "id": "CxAIAXeCy_gJ"
      }
    },
    {
      "cell_type": "code",
      "source": [
        "print('Tamanho do dataset para treinamento: ',len(x_train_rain))\n",
        "print('Tamanho do dataset para validação: ',len(x_test_rain))"
      ],
      "metadata": {
        "colab": {
          "base_uri": "https://localhost:8080/"
        },
        "id": "HBuyBATWhU7B",
        "outputId": "47758b7e-cf61-4a8d-f229-4601874643c7"
      },
      "execution_count": null,
      "outputs": [
        {
          "output_type": "stream",
          "name": "stdout",
          "text": [
            "Tamanho do dataset para treinamento:  33675\n",
            "Tamanho do dataset para validação:  5351\n"
          ]
        }
      ]
    },
    {
      "cell_type": "markdown",
      "source": [
        "Para treinar uma rede MLP, os dados devem ser sempre dimensionados, pois são muito sensíveis a eles."
      ],
      "metadata": {
        "id": "cCPB13MUR4hC"
      }
    },
    {
      "cell_type": "code",
      "source": [
        "#Normalização\n",
        "sc=StandardScaler()\n",
        "\n",
        "scaler = sc.fit(x_train_rain)\n",
        "x_train_rain_scaled = scaler.transform(x_train_rain)\n",
        "x_test_rain_scaled = scaler.transform(x_test_rain)"
      ],
      "metadata": {
        "id": "MSeJ8-ivR3Mr"
      },
      "execution_count": null,
      "outputs": []
    },
    {
      "cell_type": "markdown",
      "source": [
        "#**DEFINIÇÕES DO MODELO**\n",
        "A partir daqui iremos criar e treinar os mdelos"
      ],
      "metadata": {
        "id": "gn-EJqght1ZR"
      }
    },
    {
      "cell_type": "markdown",
      "source": [
        "* **Arquitetura 1**: Vamos definir três camadas ocultas para nossa Rede Neural, com **20**, **15** e **10 neurônios**, respectivamente, usando o solver = '**SGD**' e **L2** aplicada aos pesos para evitar que eles fiquem muito grandes. Também aplicaremos o **momentum** para atualização de gradiente descendente.\n",
        "\n"
      ],
      "metadata": {
        "id": "ZY76Rda3gqKI"
      }
    },
    {
      "cell_type": "code",
      "source": [
        "#Definições do modelo\n",
        "MLP_model_momen_yes = MLPClassifier(hidden_layer_sizes=(20,15,10),\n",
        "                        activation = 'relu',\n",
        "                        max_iter = 500,\n",
        "                        n_iter_no_change=500,\n",
        "                        random_state=1,\n",
        "                        alpha=0.0005, #L2\n",
        "                        batch_size=32,\n",
        "                        learning_rate='constant',\n",
        "                        momentum=0.3, #Entre 0 e 1. \n",
        "                        solver = 'sgd',\n",
        "                        verbose=True)"
      ],
      "metadata": {
        "id": "LAMcN1bI1w1f"
      },
      "execution_count": null,
      "outputs": []
    },
    {
      "cell_type": "markdown",
      "source": [
        "* **Arquitetura 2**: Vamos definir três camadas ocultas para nossa Rede Neural, com **20**, **15** e **10 neurônios**, respectivamente, usando o solver = '**ADAM**' e **L2** aplicada aos pesos para evitar que eles fiquem muito grandes. Não aplicaremos o **momentum**;"
      ],
      "metadata": {
        "id": "LnIC-uZpzRQo"
      }
    },
    {
      "cell_type": "code",
      "source": [
        "#Definições\n",
        "MLP_model_momen_not = MLPClassifier(hidden_layer_sizes=(20,15,10),\n",
        "                        activation = 'relu',\n",
        "                        max_iter = 300,\n",
        "                        #tol = 0.00000001, #Tolerância minima\n",
        "                        n_iter_no_change=300,\n",
        "                        random_state=1,\n",
        "                        alpha=0.0005, #L2\n",
        "                        batch_size=32,\n",
        "                        learning_rate='constant',\n",
        "                        solver = 'adam',\n",
        "                        verbose=True)\n",
        "\n"
      ],
      "metadata": {
        "id": "Z3tkKK1eENNK"
      },
      "execution_count": null,
      "outputs": []
    },
    {
      "cell_type": "code",
      "source": [
        "models = [MLP_model_momen_yes, MLP_model_momen_not]"
      ],
      "metadata": {
        "id": "JX4ZqqI92y42"
      },
      "execution_count": null,
      "outputs": []
    },
    {
      "cell_type": "markdown",
      "source": [
        "**Treino dos modelos**"
      ],
      "metadata": {
        "id": "12Zb3qVZu72G"
      }
    },
    {
      "cell_type": "code",
      "source": [
        "# Treino dos modelos\n",
        "\n",
        "for i in range(0,2):\n",
        "  print(f'\\nTreinando o modelo:\\n{models[i]}\\n')\n",
        "  models[i].fit(x_train_rain_scaled, y_train_rain)"
      ],
      "metadata": {
        "colab": {
          "base_uri": "https://localhost:8080/"
        },
        "id": "DSxtYGm0u2RO",
        "outputId": "d834d10f-460c-43a2-e11c-16a74d111aa8"
      },
      "execution_count": null,
      "outputs": [
        {
          "output_type": "stream",
          "name": "stdout",
          "text": [
            "\n",
            "Treinando o mdelo:\n",
            "MLPClassifier(alpha=0.0005, batch_size=32, hidden_layer_sizes=(20, 15, 10),\n",
            "              max_iter=500, momentum=0.3, n_iter_no_change=500, random_state=1,\n",
            "              solver='sgd', verbose=True)\n",
            "\n",
            "Iteration 1, loss = 1.18825794\n",
            "Iteration 2, loss = 0.83886486\n",
            "Iteration 3, loss = 0.63655463\n",
            "Iteration 4, loss = 0.51803380\n",
            "Iteration 5, loss = 0.43944395\n",
            "Iteration 6, loss = 0.38026685\n",
            "Iteration 7, loss = 0.33229841\n",
            "Iteration 8, loss = 0.29161055\n",
            "Iteration 9, loss = 0.25559742\n",
            "Iteration 10, loss = 0.22285353\n",
            "Iteration 11, loss = 0.19317701\n",
            "Iteration 12, loss = 0.16684561\n",
            "Iteration 13, loss = 0.14423695\n",
            "Iteration 14, loss = 0.12489755\n",
            "Iteration 15, loss = 0.10869338\n",
            "Iteration 16, loss = 0.09587221\n",
            "Iteration 17, loss = 0.08552693\n",
            "Iteration 18, loss = 0.07709242\n",
            "Iteration 19, loss = 0.07015074\n",
            "Iteration 20, loss = 0.06430249\n",
            "Iteration 21, loss = 0.05942069\n",
            "Iteration 22, loss = 0.05530058\n",
            "Iteration 23, loss = 0.05182087\n",
            "Iteration 24, loss = 0.04879274\n",
            "Iteration 25, loss = 0.04620144\n",
            "Iteration 26, loss = 0.04386518\n",
            "Iteration 27, loss = 0.04185822\n",
            "Iteration 28, loss = 0.04006677\n",
            "Iteration 29, loss = 0.03837066\n",
            "Iteration 30, loss = 0.03691352\n",
            "Iteration 31, loss = 0.03559697\n",
            "Iteration 32, loss = 0.03438735\n",
            "Iteration 33, loss = 0.03331650\n",
            "Iteration 34, loss = 0.03223735\n",
            "Iteration 35, loss = 0.03128513\n",
            "Iteration 36, loss = 0.03040967\n",
            "Iteration 37, loss = 0.02955382\n",
            "Iteration 38, loss = 0.02880693\n",
            "Iteration 39, loss = 0.02810337\n",
            "Iteration 40, loss = 0.02741616\n",
            "Iteration 41, loss = 0.02681867\n",
            "Iteration 42, loss = 0.02622013\n",
            "Iteration 43, loss = 0.02561214\n",
            "Iteration 44, loss = 0.02516063\n",
            "Iteration 45, loss = 0.02461715\n",
            "Iteration 46, loss = 0.02418337\n",
            "Iteration 47, loss = 0.02370057\n",
            "Iteration 48, loss = 0.02332428\n",
            "Iteration 49, loss = 0.02290445\n",
            "Iteration 50, loss = 0.02248521\n",
            "Iteration 51, loss = 0.02212157\n",
            "Iteration 52, loss = 0.02181289\n",
            "Iteration 53, loss = 0.02139383\n",
            "Iteration 54, loss = 0.02110353\n",
            "Iteration 55, loss = 0.02083074\n",
            "Iteration 56, loss = 0.02050926\n",
            "Iteration 57, loss = 0.02019393\n",
            "Iteration 58, loss = 0.01992758\n",
            "Iteration 59, loss = 0.01969942\n",
            "Iteration 60, loss = 0.01942836\n",
            "Iteration 61, loss = 0.01915795\n",
            "Iteration 62, loss = 0.01895603\n",
            "Iteration 63, loss = 0.01867507\n",
            "Iteration 64, loss = 0.01847051\n",
            "Iteration 65, loss = 0.01826346\n",
            "Iteration 66, loss = 0.01801649\n",
            "Iteration 67, loss = 0.01780286\n",
            "Iteration 68, loss = 0.01765019\n",
            "Iteration 69, loss = 0.01745863\n",
            "Iteration 70, loss = 0.01726469\n",
            "Iteration 71, loss = 0.01699757\n",
            "Iteration 72, loss = 0.01691793\n",
            "Iteration 73, loss = 0.01671489\n",
            "Iteration 74, loss = 0.01650211\n",
            "Iteration 75, loss = 0.01629081\n",
            "Iteration 76, loss = 0.01623089\n",
            "Iteration 77, loss = 0.01607296\n",
            "Iteration 78, loss = 0.01591275\n",
            "Iteration 79, loss = 0.01569956\n",
            "Iteration 80, loss = 0.01560363\n",
            "Iteration 81, loss = 0.01548043\n",
            "Iteration 82, loss = 0.01532243\n",
            "Iteration 83, loss = 0.01519363\n",
            "Iteration 84, loss = 0.01510468\n",
            "Iteration 85, loss = 0.01494943\n",
            "Iteration 86, loss = 0.01481699\n",
            "Iteration 87, loss = 0.01469262\n",
            "Iteration 88, loss = 0.01457127\n",
            "Iteration 89, loss = 0.01450809\n",
            "Iteration 90, loss = 0.01442728\n",
            "Iteration 91, loss = 0.01430561\n",
            "Iteration 92, loss = 0.01420247\n",
            "Iteration 93, loss = 0.01410135\n",
            "Iteration 94, loss = 0.01393438\n",
            "Iteration 95, loss = 0.01386062\n",
            "Iteration 96, loss = 0.01381140\n",
            "Iteration 97, loss = 0.01368279\n",
            "Iteration 98, loss = 0.01361442\n",
            "Iteration 99, loss = 0.01346537\n",
            "Iteration 100, loss = 0.01331934\n",
            "Iteration 101, loss = 0.01337531\n",
            "Iteration 102, loss = 0.01318988\n",
            "Iteration 103, loss = 0.01312343\n",
            "Iteration 104, loss = 0.01303420\n",
            "Iteration 105, loss = 0.01307209\n",
            "Iteration 106, loss = 0.01285908\n",
            "Iteration 107, loss = 0.01285143\n",
            "Iteration 108, loss = 0.01273390\n",
            "Iteration 109, loss = 0.01272315\n",
            "Iteration 110, loss = 0.01261237\n",
            "Iteration 111, loss = 0.01256575\n",
            "Iteration 112, loss = 0.01248128\n",
            "Iteration 113, loss = 0.01241947\n",
            "Iteration 114, loss = 0.01232461\n",
            "Iteration 115, loss = 0.01229933\n",
            "Iteration 116, loss = 0.01215635\n",
            "Iteration 117, loss = 0.01213382\n",
            "Iteration 118, loss = 0.01198985\n",
            "Iteration 119, loss = 0.01197731\n",
            "Iteration 120, loss = 0.01195849\n",
            "Iteration 121, loss = 0.01185413\n",
            "Iteration 122, loss = 0.01176152\n",
            "Iteration 123, loss = 0.01182562\n",
            "Iteration 124, loss = 0.01171526\n",
            "Iteration 125, loss = 0.01163280\n",
            "Iteration 126, loss = 0.01160799\n",
            "Iteration 127, loss = 0.01153755\n",
            "Iteration 128, loss = 0.01154073\n",
            "Iteration 129, loss = 0.01148205\n",
            "Iteration 130, loss = 0.01133062\n",
            "Iteration 131, loss = 0.01129303\n",
            "Iteration 132, loss = 0.01125179\n",
            "Iteration 133, loss = 0.01112950\n",
            "Iteration 134, loss = 0.01115402\n",
            "Iteration 135, loss = 0.01111067\n",
            "Iteration 136, loss = 0.01107238\n",
            "Iteration 137, loss = 0.01104171\n",
            "Iteration 138, loss = 0.01099657\n",
            "Iteration 139, loss = 0.01094286\n",
            "Iteration 140, loss = 0.01091822\n",
            "Iteration 141, loss = 0.01078596\n",
            "Iteration 142, loss = 0.01086559\n",
            "Iteration 143, loss = 0.01080564\n",
            "Iteration 144, loss = 0.01071710\n",
            "Iteration 145, loss = 0.01056521\n",
            "Iteration 146, loss = 0.01065108\n",
            "Iteration 147, loss = 0.01057343\n",
            "Iteration 148, loss = 0.01036518\n",
            "Iteration 149, loss = 0.01044135\n",
            "Iteration 150, loss = 0.01046299\n",
            "Iteration 151, loss = 0.01039895\n",
            "Iteration 152, loss = 0.01044640\n",
            "Iteration 153, loss = 0.01033758\n",
            "Iteration 154, loss = 0.01031170\n",
            "Iteration 155, loss = 0.01031963\n",
            "Iteration 156, loss = 0.01021995\n",
            "Iteration 157, loss = 0.01022277\n",
            "Iteration 158, loss = 0.01009283\n",
            "Iteration 159, loss = 0.01011253\n",
            "Iteration 160, loss = 0.01010484\n",
            "Iteration 161, loss = 0.01004333\n",
            "Iteration 162, loss = 0.00999584\n",
            "Iteration 163, loss = 0.01001436\n",
            "Iteration 164, loss = 0.00989488\n",
            "Iteration 165, loss = 0.00992477\n",
            "Iteration 166, loss = 0.00987512\n",
            "Iteration 167, loss = 0.00983699\n",
            "Iteration 168, loss = 0.00974225\n",
            "Iteration 169, loss = 0.00966831\n",
            "Iteration 170, loss = 0.00967594\n",
            "Iteration 171, loss = 0.00975484\n",
            "Iteration 172, loss = 0.00965089\n",
            "Iteration 173, loss = 0.00963728\n",
            "Iteration 174, loss = 0.00959780\n",
            "Iteration 175, loss = 0.00964399\n",
            "Iteration 176, loss = 0.00955066\n",
            "Iteration 177, loss = 0.00953525\n",
            "Iteration 178, loss = 0.00945182\n",
            "Iteration 179, loss = 0.00946533\n",
            "Iteration 180, loss = 0.00945290\n",
            "Iteration 181, loss = 0.00940582\n",
            "Iteration 182, loss = 0.00934017\n",
            "Iteration 183, loss = 0.00933640\n",
            "Iteration 184, loss = 0.00922431\n",
            "Iteration 185, loss = 0.00934797\n",
            "Iteration 186, loss = 0.00926219\n",
            "Iteration 187, loss = 0.00921986\n",
            "Iteration 188, loss = 0.00917888\n",
            "Iteration 189, loss = 0.00919022\n",
            "Iteration 190, loss = 0.00921592\n",
            "Iteration 191, loss = 0.00908359\n",
            "Iteration 192, loss = 0.00912335\n",
            "Iteration 193, loss = 0.00905239\n",
            "Iteration 194, loss = 0.00907308\n",
            "Iteration 195, loss = 0.00899359\n",
            "Iteration 196, loss = 0.00905171\n",
            "Iteration 197, loss = 0.00901818\n",
            "Iteration 198, loss = 0.00903282\n",
            "Iteration 199, loss = 0.00892836\n",
            "Iteration 200, loss = 0.00896037\n",
            "Iteration 201, loss = 0.00889316\n",
            "Iteration 202, loss = 0.00887693\n",
            "Iteration 203, loss = 0.00885611\n",
            "Iteration 204, loss = 0.00882213\n",
            "Iteration 205, loss = 0.00882255\n",
            "Iteration 206, loss = 0.00878525\n",
            "Iteration 207, loss = 0.00870854\n",
            "Iteration 208, loss = 0.00877498\n",
            "Iteration 209, loss = 0.00875673\n",
            "Iteration 210, loss = 0.00871425\n",
            "Iteration 211, loss = 0.00865733\n",
            "Iteration 212, loss = 0.00865311\n",
            "Iteration 213, loss = 0.00864775\n",
            "Iteration 214, loss = 0.00858038\n",
            "Iteration 215, loss = 0.00859591\n",
            "Iteration 216, loss = 0.00851778\n",
            "Iteration 217, loss = 0.00851130\n",
            "Iteration 218, loss = 0.00855317\n",
            "Iteration 219, loss = 0.00847248\n",
            "Iteration 220, loss = 0.00852175\n",
            "Iteration 221, loss = 0.00845158\n",
            "Iteration 222, loss = 0.00844115\n",
            "Iteration 223, loss = 0.00847975\n",
            "Iteration 224, loss = 0.00843306\n",
            "Iteration 225, loss = 0.00841058\n",
            "Iteration 226, loss = 0.00840106\n",
            "Iteration 227, loss = 0.00833223\n",
            "Iteration 228, loss = 0.00833974\n",
            "Iteration 229, loss = 0.00831945\n",
            "Iteration 230, loss = 0.00831117\n",
            "Iteration 231, loss = 0.00826646\n",
            "Iteration 232, loss = 0.00828842\n",
            "Iteration 233, loss = 0.00821231\n",
            "Iteration 234, loss = 0.00823098\n",
            "Iteration 235, loss = 0.00821537\n",
            "Iteration 236, loss = 0.00823747\n",
            "Iteration 237, loss = 0.00808554\n",
            "Iteration 238, loss = 0.00807356\n",
            "Iteration 239, loss = 0.00811794\n",
            "Iteration 240, loss = 0.00806802\n",
            "Iteration 241, loss = 0.00808168\n",
            "Iteration 242, loss = 0.00809336\n",
            "Iteration 243, loss = 0.00806425\n",
            "Iteration 244, loss = 0.00804597\n",
            "Iteration 245, loss = 0.00793961\n",
            "Iteration 246, loss = 0.00800626\n",
            "Iteration 247, loss = 0.00794275\n",
            "Iteration 248, loss = 0.00802812\n",
            "Iteration 249, loss = 0.00790915\n",
            "Iteration 250, loss = 0.00796759\n",
            "Iteration 251, loss = 0.00788148\n",
            "Iteration 252, loss = 0.00796444\n",
            "Iteration 253, loss = 0.00791770\n",
            "Iteration 254, loss = 0.00789610\n",
            "Iteration 255, loss = 0.00778532\n",
            "Iteration 256, loss = 0.00784856\n",
            "Iteration 257, loss = 0.00783802\n",
            "Iteration 258, loss = 0.00781877\n",
            "Iteration 259, loss = 0.00775491\n",
            "Iteration 260, loss = 0.00786326\n",
            "Iteration 261, loss = 0.00780277\n",
            "Iteration 262, loss = 0.00774892\n",
            "Iteration 263, loss = 0.00772819\n",
            "Iteration 264, loss = 0.00769393\n",
            "Iteration 265, loss = 0.00775396\n",
            "Iteration 266, loss = 0.00775976\n",
            "Iteration 267, loss = 0.00769706\n",
            "Iteration 268, loss = 0.00775242\n",
            "Iteration 269, loss = 0.00774397\n",
            "Iteration 270, loss = 0.00768178\n",
            "Iteration 271, loss = 0.00771967\n",
            "Iteration 272, loss = 0.00757539\n",
            "Iteration 273, loss = 0.00753625\n",
            "Iteration 274, loss = 0.00761943\n",
            "Iteration 275, loss = 0.00763666\n",
            "Iteration 276, loss = 0.00753534\n",
            "Iteration 277, loss = 0.00749326\n",
            "Iteration 278, loss = 0.00752922\n",
            "Iteration 279, loss = 0.00755142\n",
            "Iteration 280, loss = 0.00749887\n",
            "Iteration 281, loss = 0.00755159\n",
            "Iteration 282, loss = 0.00748544\n",
            "Iteration 283, loss = 0.00746216\n",
            "Iteration 284, loss = 0.00747072\n",
            "Iteration 285, loss = 0.00744041\n",
            "Iteration 286, loss = 0.00747142\n",
            "Iteration 287, loss = 0.00750350\n",
            "Iteration 288, loss = 0.00742517\n",
            "Iteration 289, loss = 0.00735273\n",
            "Iteration 290, loss = 0.00736930\n",
            "Iteration 291, loss = 0.00734184\n",
            "Iteration 292, loss = 0.00735964\n",
            "Iteration 293, loss = 0.00732719\n",
            "Iteration 294, loss = 0.00731048\n",
            "Iteration 295, loss = 0.00725901\n",
            "Iteration 296, loss = 0.00731522\n",
            "Iteration 297, loss = 0.00733858\n",
            "Iteration 298, loss = 0.00729656\n",
            "Iteration 299, loss = 0.00731075\n",
            "Iteration 300, loss = 0.00718417\n",
            "Iteration 301, loss = 0.00723723\n",
            "Iteration 302, loss = 0.00734830\n",
            "Iteration 303, loss = 0.00724764\n",
            "Iteration 304, loss = 0.00732449\n",
            "Iteration 305, loss = 0.00719015\n",
            "Iteration 306, loss = 0.00720425\n",
            "Iteration 307, loss = 0.00717396\n",
            "Iteration 308, loss = 0.00721355\n",
            "Iteration 309, loss = 0.00717662\n",
            "Iteration 310, loss = 0.00712342\n",
            "Iteration 311, loss = 0.00720766\n",
            "Iteration 312, loss = 0.00712065\n",
            "Iteration 313, loss = 0.00712239\n",
            "Iteration 314, loss = 0.00709135\n",
            "Iteration 315, loss = 0.00710933\n",
            "Iteration 316, loss = 0.00699419\n",
            "Iteration 317, loss = 0.00707091\n",
            "Iteration 318, loss = 0.00708673\n",
            "Iteration 319, loss = 0.00710951\n",
            "Iteration 320, loss = 0.00697764\n",
            "Iteration 321, loss = 0.00703855\n",
            "Iteration 322, loss = 0.00708627\n",
            "Iteration 323, loss = 0.00700808\n",
            "Iteration 324, loss = 0.00702011\n",
            "Iteration 325, loss = 0.00696881\n",
            "Iteration 326, loss = 0.00698883\n",
            "Iteration 327, loss = 0.00699974\n",
            "Iteration 328, loss = 0.00682138\n",
            "Iteration 329, loss = 0.00700123\n",
            "Iteration 330, loss = 0.00689831\n",
            "Iteration 331, loss = 0.00697158\n",
            "Iteration 332, loss = 0.00689443\n",
            "Iteration 333, loss = 0.00691427\n",
            "Iteration 334, loss = 0.00697142\n",
            "Iteration 335, loss = 0.00696169\n",
            "Iteration 336, loss = 0.00683609\n",
            "Iteration 337, loss = 0.00689321\n",
            "Iteration 338, loss = 0.00688393\n",
            "Iteration 339, loss = 0.00682130\n",
            "Iteration 340, loss = 0.00687181\n",
            "Iteration 341, loss = 0.00687617\n",
            "Iteration 342, loss = 0.00682118\n",
            "Iteration 343, loss = 0.00688667\n",
            "Iteration 344, loss = 0.00675535\n",
            "Iteration 345, loss = 0.00681522\n",
            "Iteration 346, loss = 0.00678992\n",
            "Iteration 347, loss = 0.00677877\n",
            "Iteration 348, loss = 0.00681973\n",
            "Iteration 349, loss = 0.00682607\n",
            "Iteration 350, loss = 0.00668771\n",
            "Iteration 351, loss = 0.00670615\n",
            "Iteration 352, loss = 0.00679945\n",
            "Iteration 353, loss = 0.00675181\n",
            "Iteration 354, loss = 0.00674710\n",
            "Iteration 355, loss = 0.00667692\n",
            "Iteration 356, loss = 0.00675362\n",
            "Iteration 357, loss = 0.00675429\n",
            "Iteration 358, loss = 0.00674631\n",
            "Iteration 359, loss = 0.00669971\n",
            "Iteration 360, loss = 0.00670300\n",
            "Iteration 361, loss = 0.00660732\n",
            "Iteration 362, loss = 0.00666742\n",
            "Iteration 363, loss = 0.00672817\n",
            "Iteration 364, loss = 0.00667821\n",
            "Iteration 365, loss = 0.00657885\n",
            "Iteration 366, loss = 0.00658642\n",
            "Iteration 367, loss = 0.00664067\n",
            "Iteration 368, loss = 0.00660892\n",
            "Iteration 369, loss = 0.00663713\n",
            "Iteration 370, loss = 0.00668771\n",
            "Iteration 371, loss = 0.00668081\n",
            "Iteration 372, loss = 0.00657902\n",
            "Iteration 373, loss = 0.00664221\n",
            "Iteration 374, loss = 0.00653832\n",
            "Iteration 375, loss = 0.00661173\n",
            "Iteration 376, loss = 0.00659956\n",
            "Iteration 377, loss = 0.00655249\n",
            "Iteration 378, loss = 0.00649524\n",
            "Iteration 379, loss = 0.00658207\n",
            "Iteration 380, loss = 0.00657407\n",
            "Iteration 381, loss = 0.00651218\n",
            "Iteration 382, loss = 0.00651127\n",
            "Iteration 383, loss = 0.00655406\n",
            "Iteration 384, loss = 0.00662589\n",
            "Iteration 385, loss = 0.00647678\n",
            "Iteration 386, loss = 0.00646581\n",
            "Iteration 387, loss = 0.00652974\n",
            "Iteration 388, loss = 0.00649936\n",
            "Iteration 389, loss = 0.00649628\n",
            "Iteration 390, loss = 0.00641726\n",
            "Iteration 391, loss = 0.00652363\n",
            "Iteration 392, loss = 0.00641561\n",
            "Iteration 393, loss = 0.00645101\n",
            "Iteration 394, loss = 0.00640477\n",
            "Iteration 395, loss = 0.00643098\n",
            "Iteration 396, loss = 0.00642880\n",
            "Iteration 397, loss = 0.00644280\n",
            "Iteration 398, loss = 0.00646844\n",
            "Iteration 399, loss = 0.00641993\n",
            "Iteration 400, loss = 0.00646223\n",
            "Iteration 401, loss = 0.00632142\n",
            "Iteration 402, loss = 0.00645116\n",
            "Iteration 403, loss = 0.00642537\n",
            "Iteration 404, loss = 0.00642078\n",
            "Iteration 405, loss = 0.00631692\n",
            "Iteration 406, loss = 0.00635113\n",
            "Iteration 407, loss = 0.00641407\n",
            "Iteration 408, loss = 0.00641745\n",
            "Iteration 409, loss = 0.00639750\n",
            "Iteration 410, loss = 0.00633815\n",
            "Iteration 411, loss = 0.00635735\n",
            "Iteration 412, loss = 0.00629348\n",
            "Iteration 413, loss = 0.00631153\n",
            "Iteration 414, loss = 0.00636487\n",
            "Iteration 415, loss = 0.00629804\n",
            "Iteration 416, loss = 0.00636294\n",
            "Iteration 417, loss = 0.00633701\n",
            "Iteration 418, loss = 0.00625456\n",
            "Iteration 419, loss = 0.00630156\n",
            "Iteration 420, loss = 0.00619953\n",
            "Iteration 421, loss = 0.00627170\n",
            "Iteration 422, loss = 0.00626079\n",
            "Iteration 423, loss = 0.00633117\n",
            "Iteration 424, loss = 0.00616021\n",
            "Iteration 425, loss = 0.00626952\n",
            "Iteration 426, loss = 0.00619828\n",
            "Iteration 427, loss = 0.00624435\n",
            "Iteration 428, loss = 0.00627579\n",
            "Iteration 429, loss = 0.00625291\n",
            "Iteration 430, loss = 0.00627729\n",
            "Iteration 431, loss = 0.00613636\n",
            "Iteration 432, loss = 0.00625571\n",
            "Iteration 433, loss = 0.00622931\n",
            "Iteration 434, loss = 0.00617492\n",
            "Iteration 435, loss = 0.00616802\n",
            "Iteration 436, loss = 0.00617099\n",
            "Iteration 437, loss = 0.00612310\n",
            "Iteration 438, loss = 0.00615655\n",
            "Iteration 439, loss = 0.00611732\n",
            "Iteration 440, loss = 0.00614910\n",
            "Iteration 441, loss = 0.00628370\n",
            "Iteration 442, loss = 0.00626700\n",
            "Iteration 443, loss = 0.00621289\n",
            "Iteration 444, loss = 0.00616843\n",
            "Iteration 445, loss = 0.00611739\n",
            "Iteration 446, loss = 0.00619740\n",
            "Iteration 447, loss = 0.00602367\n",
            "Iteration 448, loss = 0.00618659\n",
            "Iteration 449, loss = 0.00618242\n",
            "Iteration 450, loss = 0.00612193\n",
            "Iteration 451, loss = 0.00609114\n",
            "Iteration 452, loss = 0.00612672\n",
            "Iteration 453, loss = 0.00615265\n",
            "Iteration 454, loss = 0.00597067\n",
            "Iteration 455, loss = 0.00608969\n",
            "Iteration 456, loss = 0.00598879\n",
            "Iteration 457, loss = 0.00610908\n",
            "Iteration 458, loss = 0.00598884\n",
            "Iteration 459, loss = 0.00596244\n",
            "Iteration 460, loss = 0.00606680\n",
            "Iteration 461, loss = 0.00593922\n",
            "Iteration 462, loss = 0.00608471\n",
            "Iteration 463, loss = 0.00601872\n",
            "Iteration 464, loss = 0.00600460\n",
            "Iteration 465, loss = 0.00598682\n",
            "Iteration 466, loss = 0.00599274\n",
            "Iteration 467, loss = 0.00596605\n",
            "Iteration 468, loss = 0.00593547\n",
            "Iteration 469, loss = 0.00596343\n",
            "Iteration 470, loss = 0.00607642\n",
            "Iteration 471, loss = 0.00596792\n",
            "Iteration 472, loss = 0.00596057\n",
            "Iteration 473, loss = 0.00598898\n",
            "Iteration 474, loss = 0.00608471\n",
            "Iteration 475, loss = 0.00594760\n",
            "Iteration 476, loss = 0.00586619\n",
            "Iteration 477, loss = 0.00593716\n",
            "Iteration 478, loss = 0.00604633\n",
            "Iteration 479, loss = 0.00595370\n",
            "Iteration 480, loss = 0.00591000\n",
            "Iteration 481, loss = 0.00594917\n",
            "Iteration 482, loss = 0.00593560\n",
            "Iteration 483, loss = 0.00592178\n",
            "Iteration 484, loss = 0.00595681\n",
            "Iteration 485, loss = 0.00592311\n",
            "Iteration 486, loss = 0.00587676\n",
            "Iteration 487, loss = 0.00601255\n",
            "Iteration 488, loss = 0.00588165\n",
            "Iteration 489, loss = 0.00586334\n",
            "Iteration 490, loss = 0.00585472\n",
            "Iteration 491, loss = 0.00592112\n",
            "Iteration 492, loss = 0.00584518\n",
            "Iteration 493, loss = 0.00596006\n",
            "Iteration 494, loss = 0.00587920\n",
            "Iteration 495, loss = 0.00580665\n",
            "Iteration 496, loss = 0.00588935\n",
            "Iteration 497, loss = 0.00583028\n",
            "Iteration 498, loss = 0.00597727\n",
            "Iteration 499, loss = 0.00583526\n",
            "Iteration 500, loss = 0.00592162\n",
            "\n",
            "Treinando o mdelo:\n",
            "MLPClassifier(alpha=0.0005, batch_size=32, hidden_layer_sizes=(20, 15, 10),\n",
            "              max_iter=300, n_iter_no_change=300, random_state=1, verbose=True)\n",
            "\n",
            "Iteration 1, loss = 0.29753652\n",
            "Iteration 2, loss = 0.03294928\n",
            "Iteration 3, loss = 0.02277092\n",
            "Iteration 4, loss = 0.01942995\n",
            "Iteration 5, loss = 0.01635252\n",
            "Iteration 6, loss = 0.01489073\n",
            "Iteration 7, loss = 0.01441345\n",
            "Iteration 8, loss = 0.01347331\n",
            "Iteration 9, loss = 0.01430078\n",
            "Iteration 10, loss = 0.01264719\n",
            "Iteration 11, loss = 0.01262501\n",
            "Iteration 12, loss = 0.01299557\n",
            "Iteration 13, loss = 0.01223325\n",
            "Iteration 14, loss = 0.01223245\n",
            "Iteration 15, loss = 0.01174695\n",
            "Iteration 16, loss = 0.01154558\n",
            "Iteration 17, loss = 0.01148339\n",
            "Iteration 18, loss = 0.01195431\n",
            "Iteration 19, loss = 0.01245065\n",
            "Iteration 20, loss = 0.01091356\n",
            "Iteration 21, loss = 0.01206707\n",
            "Iteration 22, loss = 0.01064456\n",
            "Iteration 23, loss = 0.01183881\n",
            "Iteration 24, loss = 0.01126243\n",
            "Iteration 25, loss = 0.01081692\n",
            "Iteration 26, loss = 0.01083133\n",
            "Iteration 27, loss = 0.01031579\n",
            "Iteration 28, loss = 0.01103328\n",
            "Iteration 29, loss = 0.01513715\n",
            "Iteration 30, loss = 0.00928490\n",
            "Iteration 31, loss = 0.00986306\n",
            "Iteration 32, loss = 0.01017956\n",
            "Iteration 33, loss = 0.01151535\n",
            "Iteration 34, loss = 0.01012123\n",
            "Iteration 35, loss = 0.01065930\n",
            "Iteration 36, loss = 0.01065621\n",
            "Iteration 37, loss = 0.01155084\n",
            "Iteration 38, loss = 0.01171113\n",
            "Iteration 39, loss = 0.01013425\n",
            "Iteration 40, loss = 0.01022239\n",
            "Iteration 41, loss = 0.01017159\n",
            "Iteration 42, loss = 0.01029280\n",
            "Iteration 43, loss = 0.01000706\n",
            "Iteration 44, loss = 0.01220073\n",
            "Iteration 45, loss = 0.00991525\n",
            "Iteration 46, loss = 0.01116701\n",
            "Iteration 47, loss = 0.01109298\n",
            "Iteration 48, loss = 0.01076505\n",
            "Iteration 49, loss = 0.00959167\n",
            "Iteration 50, loss = 0.00984054\n",
            "Iteration 51, loss = 0.01049879\n",
            "Iteration 52, loss = 0.01159527\n",
            "Iteration 53, loss = 0.00964653\n",
            "Iteration 54, loss = 0.00953083\n",
            "Iteration 55, loss = 0.00958440\n",
            "Iteration 56, loss = 0.00994808\n",
            "Iteration 57, loss = 0.01035103\n",
            "Iteration 58, loss = 0.00947916\n",
            "Iteration 59, loss = 0.00933117\n",
            "Iteration 60, loss = 0.00960361\n",
            "Iteration 61, loss = 0.01046066\n",
            "Iteration 62, loss = 0.01082632\n",
            "Iteration 63, loss = 0.00929507\n",
            "Iteration 64, loss = 0.01171074\n",
            "Iteration 65, loss = 0.00933098\n",
            "Iteration 66, loss = 0.00978999\n",
            "Iteration 67, loss = 0.00962299\n",
            "Iteration 68, loss = 0.00960788\n",
            "Iteration 69, loss = 0.00904128\n",
            "Iteration 70, loss = 0.00933624\n",
            "Iteration 71, loss = 0.00875648\n",
            "Iteration 72, loss = 0.01053613\n",
            "Iteration 73, loss = 0.00939093\n",
            "Iteration 74, loss = 0.01047350\n",
            "Iteration 75, loss = 0.00833201\n",
            "Iteration 76, loss = 0.00862077\n",
            "Iteration 77, loss = 0.01029227\n",
            "Iteration 78, loss = 0.00928241\n",
            "Iteration 79, loss = 0.00979113\n",
            "Iteration 80, loss = 0.00950253\n",
            "Iteration 81, loss = 0.00855260\n",
            "Iteration 82, loss = 0.01010383\n",
            "Iteration 83, loss = 0.00880961\n",
            "Iteration 84, loss = 0.00973487\n",
            "Iteration 85, loss = 0.01045945\n",
            "Iteration 86, loss = 0.00940336\n",
            "Iteration 87, loss = 0.01049650\n",
            "Iteration 88, loss = 0.00931938\n",
            "Iteration 89, loss = 0.00822247\n",
            "Iteration 90, loss = 0.00864313\n",
            "Iteration 91, loss = 0.00962098\n",
            "Iteration 92, loss = 0.01016194\n",
            "Iteration 93, loss = 0.00902890\n",
            "Iteration 94, loss = 0.00804538\n",
            "Iteration 95, loss = 0.00971383\n",
            "Iteration 96, loss = 0.00894898\n",
            "Iteration 97, loss = 0.01153522\n",
            "Iteration 98, loss = 0.00881156\n",
            "Iteration 99, loss = 0.01199463\n",
            "Iteration 100, loss = 0.00811924\n",
            "Iteration 101, loss = 0.00949964\n",
            "Iteration 102, loss = 0.00949844\n",
            "Iteration 103, loss = 0.00815763\n",
            "Iteration 104, loss = 0.00918746\n",
            "Iteration 105, loss = 0.00892321\n",
            "Iteration 106, loss = 0.00848640\n",
            "Iteration 107, loss = 0.01072966\n",
            "Iteration 108, loss = 0.00724907\n",
            "Iteration 109, loss = 0.00930065\n",
            "Iteration 110, loss = 0.00967387\n",
            "Iteration 111, loss = 0.00809300\n",
            "Iteration 112, loss = 0.00828252\n",
            "Iteration 113, loss = 0.01157218\n",
            "Iteration 114, loss = 0.00799481\n",
            "Iteration 115, loss = 0.00977369\n",
            "Iteration 116, loss = 0.00778817\n",
            "Iteration 117, loss = 0.00919268\n",
            "Iteration 118, loss = 0.00750270\n",
            "Iteration 119, loss = 0.00843643\n",
            "Iteration 120, loss = 0.00833320\n",
            "Iteration 121, loss = 0.00841540\n",
            "Iteration 122, loss = 0.00881326\n",
            "Iteration 123, loss = 0.00908275\n",
            "Iteration 124, loss = 0.00889951\n",
            "Iteration 125, loss = 0.00839652\n",
            "Iteration 126, loss = 0.00795294\n",
            "Iteration 127, loss = 0.00997301\n",
            "Iteration 128, loss = 0.00865054\n",
            "Iteration 129, loss = 0.00944255\n",
            "Iteration 130, loss = 0.00877329\n",
            "Iteration 131, loss = 0.00853287\n",
            "Iteration 132, loss = 0.00785061\n",
            "Iteration 133, loss = 0.00796389\n",
            "Iteration 134, loss = 0.00994114\n",
            "Iteration 135, loss = 0.00846913\n",
            "Iteration 136, loss = 0.00932964\n",
            "Iteration 137, loss = 0.00844998\n",
            "Iteration 138, loss = 0.00743542\n",
            "Iteration 139, loss = 0.00865370\n",
            "Iteration 140, loss = 0.00997677\n",
            "Iteration 141, loss = 0.00888146\n",
            "Iteration 142, loss = 0.00834659\n",
            "Iteration 143, loss = 0.00868632\n",
            "Iteration 144, loss = 0.00789563\n",
            "Iteration 145, loss = 0.00965466\n",
            "Iteration 146, loss = 0.00888850\n",
            "Iteration 147, loss = 0.00736715\n",
            "Iteration 148, loss = 0.00744454\n",
            "Iteration 149, loss = 0.00843976\n",
            "Iteration 150, loss = 0.00847778\n",
            "Iteration 151, loss = 0.00767068\n",
            "Iteration 152, loss = 0.00860247\n",
            "Iteration 153, loss = 0.00755992\n",
            "Iteration 154, loss = 0.00757653\n",
            "Iteration 155, loss = 0.01089506\n",
            "Iteration 156, loss = 0.00855582\n",
            "Iteration 157, loss = 0.00833949\n",
            "Iteration 158, loss = 0.00780849\n",
            "Iteration 159, loss = 0.00989341\n",
            "Iteration 160, loss = 0.00898082\n",
            "Iteration 161, loss = 0.00749967\n",
            "Iteration 162, loss = 0.00798803\n",
            "Iteration 163, loss = 0.00795544\n",
            "Iteration 164, loss = 0.00849392\n",
            "Iteration 165, loss = 0.00949255\n",
            "Iteration 166, loss = 0.00842273\n",
            "Iteration 167, loss = 0.00765947\n",
            "Iteration 168, loss = 0.00840508\n",
            "Iteration 169, loss = 0.00753025\n",
            "Iteration 170, loss = 0.00705565\n",
            "Iteration 171, loss = 0.01049714\n",
            "Iteration 172, loss = 0.00754365\n",
            "Iteration 173, loss = 0.00892934\n",
            "Iteration 174, loss = 0.00907672\n",
            "Iteration 175, loss = 0.00812653\n",
            "Iteration 176, loss = 0.00863797\n",
            "Iteration 177, loss = 0.00722691\n",
            "Iteration 178, loss = 0.00804036\n",
            "Iteration 179, loss = 0.00762063\n",
            "Iteration 180, loss = 0.00786548\n",
            "Iteration 181, loss = 0.00781246\n",
            "Iteration 182, loss = 0.00867391\n",
            "Iteration 183, loss = 0.00756505\n",
            "Iteration 184, loss = 0.00726805\n",
            "Iteration 185, loss = 0.00881741\n",
            "Iteration 186, loss = 0.00756262\n",
            "Iteration 187, loss = 0.00805525\n",
            "Iteration 188, loss = 0.00856254\n",
            "Iteration 189, loss = 0.00770984\n",
            "Iteration 190, loss = 0.00737624\n",
            "Iteration 191, loss = 0.00811888\n",
            "Iteration 192, loss = 0.00769793\n",
            "Iteration 193, loss = 0.00792495\n",
            "Iteration 194, loss = 0.00781113\n",
            "Iteration 195, loss = 0.00781857\n",
            "Iteration 196, loss = 0.00865471\n",
            "Iteration 197, loss = 0.00770584\n",
            "Iteration 198, loss = 0.00798301\n",
            "Iteration 199, loss = 0.00775120\n",
            "Iteration 200, loss = 0.00736212\n",
            "Iteration 201, loss = 0.00857426\n",
            "Iteration 202, loss = 0.00742679\n",
            "Iteration 203, loss = 0.00884390\n",
            "Iteration 204, loss = 0.00729311\n",
            "Iteration 205, loss = 0.00709237\n",
            "Iteration 206, loss = 0.00802429\n",
            "Iteration 207, loss = 0.00710301\n",
            "Iteration 208, loss = 0.00820593\n",
            "Iteration 209, loss = 0.00817850\n",
            "Iteration 210, loss = 0.00782290\n",
            "Iteration 211, loss = 0.00739258\n",
            "Iteration 212, loss = 0.00820537\n",
            "Iteration 213, loss = 0.00705543\n",
            "Iteration 214, loss = 0.00702843\n",
            "Iteration 215, loss = 0.00809845\n",
            "Iteration 216, loss = 0.00747106\n",
            "Iteration 217, loss = 0.00725175\n",
            "Iteration 218, loss = 0.00786702\n",
            "Iteration 219, loss = 0.00638885\n",
            "Iteration 220, loss = 0.00792444\n",
            "Iteration 221, loss = 0.00705806\n",
            "Iteration 222, loss = 0.00792590\n",
            "Iteration 223, loss = 0.00838797\n",
            "Iteration 224, loss = 0.00697749\n",
            "Iteration 225, loss = 0.00700123\n",
            "Iteration 226, loss = 0.00778544\n",
            "Iteration 227, loss = 0.00674284\n",
            "Iteration 228, loss = 0.00771885\n",
            "Iteration 229, loss = 0.00706615\n",
            "Iteration 230, loss = 0.00772058\n",
            "Iteration 231, loss = 0.00746476\n",
            "Iteration 232, loss = 0.00654898\n",
            "Iteration 233, loss = 0.00786754\n",
            "Iteration 234, loss = 0.00798055\n",
            "Iteration 235, loss = 0.00831985\n",
            "Iteration 236, loss = 0.00711993\n",
            "Iteration 237, loss = 0.00718692\n",
            "Iteration 238, loss = 0.00792778\n",
            "Iteration 239, loss = 0.00765034\n",
            "Iteration 240, loss = 0.00648818\n",
            "Iteration 241, loss = 0.00828612\n",
            "Iteration 242, loss = 0.00774802\n",
            "Iteration 243, loss = 0.00684570\n",
            "Iteration 244, loss = 0.00754874\n",
            "Iteration 245, loss = 0.00697634\n",
            "Iteration 246, loss = 0.00764026\n",
            "Iteration 247, loss = 0.00781405\n",
            "Iteration 248, loss = 0.00777071\n",
            "Iteration 249, loss = 0.00683332\n",
            "Iteration 250, loss = 0.00733890\n",
            "Iteration 251, loss = 0.00789578\n",
            "Iteration 252, loss = 0.00755990\n",
            "Iteration 253, loss = 0.00755260\n",
            "Iteration 254, loss = 0.00767714\n",
            "Iteration 255, loss = 0.00664374\n",
            "Iteration 256, loss = 0.00666530\n",
            "Iteration 257, loss = 0.00674337\n",
            "Iteration 258, loss = 0.00901993\n",
            "Iteration 259, loss = 0.00665113\n",
            "Iteration 260, loss = 0.00753960\n",
            "Iteration 261, loss = 0.00755778\n",
            "Iteration 262, loss = 0.00769198\n",
            "Iteration 263, loss = 0.00727874\n",
            "Iteration 264, loss = 0.00706485\n",
            "Iteration 265, loss = 0.00699664\n",
            "Iteration 266, loss = 0.00738013\n",
            "Iteration 267, loss = 0.00727432\n",
            "Iteration 268, loss = 0.00771035\n",
            "Iteration 269, loss = 0.00681242\n",
            "Iteration 270, loss = 0.00729887\n",
            "Iteration 271, loss = 0.00838784\n",
            "Iteration 272, loss = 0.00663734\n",
            "Iteration 273, loss = 0.00678880\n",
            "Iteration 274, loss = 0.00825238\n",
            "Iteration 275, loss = 0.00751113\n",
            "Iteration 276, loss = 0.00703894\n",
            "Iteration 277, loss = 0.00739404\n",
            "Iteration 278, loss = 0.00755483\n",
            "Iteration 279, loss = 0.00671209\n",
            "Iteration 280, loss = 0.00691936\n",
            "Iteration 281, loss = 0.00739696\n",
            "Iteration 282, loss = 0.00668123\n",
            "Iteration 283, loss = 0.00688275\n",
            "Iteration 284, loss = 0.00703432\n",
            "Iteration 285, loss = 0.00704833\n",
            "Iteration 286, loss = 0.00868397\n",
            "Iteration 287, loss = 0.00711179\n",
            "Iteration 288, loss = 0.00623307\n",
            "Iteration 289, loss = 0.00791147\n",
            "Iteration 290, loss = 0.00678470\n",
            "Iteration 291, loss = 0.00734031\n",
            "Iteration 292, loss = 0.00619705\n",
            "Iteration 293, loss = 0.00734857\n",
            "Iteration 294, loss = 0.00733810\n",
            "Iteration 295, loss = 0.00740276\n",
            "Iteration 296, loss = 0.00605179\n",
            "Iteration 297, loss = 0.00665290\n",
            "Iteration 298, loss = 0.00732704\n",
            "Iteration 299, loss = 0.00752058\n",
            "Iteration 300, loss = 0.00683046\n"
          ]
        }
      ]
    },
    {
      "cell_type": "markdown",
      "source": [
        "## **Visualização do resultado do treinamento através de uma curva de aprendizagem**"
      ],
      "metadata": {
        "id": "5Crz_BjjOD92"
      }
    },
    {
      "cell_type": "code",
      "source": [
        "# Traçar a CURVA DE APRENDIZAGEM\n",
        "labels_title = ['Gráfico 1: Treino modelo com solver SDG', 'Gráfico 1: Treino modelo com solver ADAM']\n",
        "plt.figure(figsize=(16,10),dpi=80)\n",
        "plt.suptitle('Gráfico da evolução do ERRO NO TREINAMENTO', size=14)\n",
        "for i in range(0,2):\n",
        "\n",
        "  plt.subplot(2,2,i+1)\n",
        "  plt.title(labels_title[i])\n",
        "  plt.xlabel(\"Interações (epochs)\")\n",
        "  plt.ylabel(\"Erro de Treino\")\n",
        "  plt.plot(models[i].loss_curve_, color='#FF4500', label=\"MLP - Evolução do ERRO DE TREINO\")\n",
        "plt.show()"
      ],
      "metadata": {
        "colab": {
          "base_uri": "https://localhost:8080/",
          "height": 419
        },
        "id": "xtCCGo6zYtER",
        "outputId": "be355524-1a12-4055-f315-a1ce70cce17e"
      },
      "execution_count": null,
      "outputs": [
        {
          "output_type": "display_data",
          "data": {
            "text/plain": [
              "<Figure size 1280x800 with 2 Axes>"
            ],
            "image/png": "[encoded data removed]"
          },
          "metadata": {
            "needs_background": "light"
          }
        }
      ]
    },
    {
      "cell_type": "code",
      "source": [
        "#CURVA do ERRO DE APRENDIZAGEM do melhor modelo\n",
        "\n",
        "plt.figure(figsize=(12,6),dpi=80)\n",
        "plt.suptitle('Gráfico da evolução do Erro no Treino do melhor modelo', size=14)\n",
        "\n",
        "plt.xlabel(\"Interações (epochs)\" , size=12)\n",
        "plt.ylabel(\"Erro de Treino\" , size=12)\n",
        "plt.plot(models[0].loss_curve_, color='#FF4500', label=\"MLP - Evolução do ERRO DE TREINO\")\n",
        "plt.show()"
      ],
      "metadata": {
        "id": "uQe4O0LLrCYf",
        "outputId": "93196c32-3d49-401f-f1b4-4559d15724d6",
        "colab": {
          "base_uri": "https://localhost:8080/",
          "height": 478
        }
      },
      "execution_count": null,
      "outputs": [
        {
          "output_type": "display_data",
          "data": {
            "text/plain": [
              "<Figure size 960x480 with 1 Axes>"
            ],
            "image/png": "[encoded data removed]"
          },
          "metadata": {
            "needs_background": "light"
          }
        }
      ]
    },
    {
      "cell_type": "markdown",
      "source": [
        "Gráfico da evolução do ERRO durante o treinamento do modelo com o solver **SGD** e com o solver **Adam**."
      ],
      "metadata": {
        "id": "82SX7Re9p2_1"
      }
    },
    {
      "cell_type": "markdown",
      "source": [
        "# **AVALIAÇÃO DO MODELO**\n",
        "Para avaliar nosso classificador, vamos utilizar a métrica RMSE (root mean squared error), o relatório de classificação e a matriz de confusão e, ao final, iremos realizar um último teste, utilizando novos dados nos quais o modelo também não \"viu\" durante o treinamento."
      ],
      "metadata": {
        "id": "HNYik73GuTXZ"
      }
    },
    {
      "cell_type": "markdown",
      "source": [
        "## **Previsões sobre nossos dados e mostragem da pontuação de precisão**"
      ],
      "metadata": {
        "id": "-DzOizgVOa4d"
      }
    },
    {
      "cell_type": "code",
      "source": [
        "# Fazendo previsões sobre nossos dados e mostrando uma pontuação de precisão\n",
        "MLP_accur = []\n",
        "predictions = []\n",
        "labels_title = ['Modelo COM momentum', 'Modelo SEM momentum']\n",
        "for i in range(0,2):\n",
        "  print(f'\\n{labels_title[i]}')\n",
        "  predictions.append(models[i].predict(x_test_rain_scaled))\n",
        "  MLP_accur.append(round((accuracy_score(y_test_rain, predictions[i]))*100,2))\n",
        "\n",
        "\n",
        "  print(f\"\\nPontuação do conjunto de treinamento: {round((models[i].score(x_train_rain_scaled, y_train_rain)*100),2)}%\")\n",
        "\n",
        "  print(f'A pontuação de precisão da capacidade do modelo MLP de classificar a chuva é: {MLP_accur[i]}%\\n')\n",
        "  score_obj = dict(zip(['Accuracy Score'], [[MLP_accur[i]]]))\n",
        "  score_df = pd.DataFrame(score_obj, index=['MLP'])\n",
        "  print(score_df)\n",
        "  print(\"|------------------------------------------------------------------------------------|\")"
      ],
      "metadata": {
        "colab": {
          "base_uri": "https://localhost:8080/"
        },
        "id": "hYWRz_B6uF-R",
        "outputId": "15460ca3-1e25-40a1-bcdd-ca9caf9fb1ef"
      },
      "execution_count": null,
      "outputs": [
        {
          "output_type": "stream",
          "name": "stdout",
          "text": [
            "\n",
            "Modelo COM momentum\n",
            "\n",
            "Pontuação do conjunto de treinamento: 99.89%\n",
            "A pontuação de precisão da capacidade do modelo MLP de classificar a chuva é: 99.46%\n",
            "\n",
            "     Accuracy Score\n",
            "MLP           99.46\n",
            "|------------------------------------------------------------------------------------|\n",
            "\n",
            "Modelo SEM momentum\n",
            "\n",
            "Pontuação do conjunto de treinamento: 99.74%\n",
            "A pontuação de precisão da capacidade do modelo MLP de classificar a chuva é: 98.95%\n",
            "\n",
            "     Accuracy Score\n",
            "MLP           98.95\n",
            "|------------------------------------------------------------------------------------|\n"
          ]
        }
      ]
    },
    {
      "cell_type": "markdown",
      "source": [
        "Podemos perceber que a precisão da capacidade do modelo MLP de classificar a chuva chega a **98.5% usando o momentum**, enquanto o modelo **sem o momentum chega a 95.94%**."
      ],
      "metadata": {
        "id": "hqrtKT5C308w"
      }
    },
    {
      "cell_type": "markdown",
      "source": [
        "## **Métrica RMSE**\n",
        "\n",
        "A métrica RMSE é uma medida de distância entre o destino previsto e a resposta real. Quanto menor o valor de RMSE, melhor será a precisão preditiva de um modelo. Dito de outra maneira, é uma métrica que retorna a magnitude do erro e não do acerto. Um modelo com uma RMSE igual a 0 teria suas previsões perfeitamente corretas."
      ],
      "metadata": {
        "id": "FwSWzOfQjZvH"
      }
    },
    {
      "cell_type": "code",
      "source": [
        "for i in range(0,2):\n",
        "  rmse = sqrt(mean_squared_error(y_test_rain, predictions[i]))\n",
        "  print(f'RMSE {labels_title[i]}: {round(rmse, 3)}')"
      ],
      "metadata": {
        "colab": {
          "base_uri": "https://localhost:8080/"
        },
        "id": "cFbizSqViyE4",
        "outputId": "5fc562e0-1a55-44a1-d608-c9b48b130650"
      },
      "execution_count": null,
      "outputs": [
        {
          "output_type": "stream",
          "name": "stdout",
          "text": [
            "RMSE Modelo COM momentum: 0.13\n",
            "RMSE Modelo SEM momentum: 0.169\n"
          ]
        }
      ]
    },
    {
      "cell_type": "markdown",
      "source": [
        "## **Relatório de classificação**"
      ],
      "metadata": {
        "id": "-uxwgM_ruJA7"
      }
    },
    {
      "cell_type": "code",
      "source": [
        "\n",
        "labels = ['Chuva fraca','Chuva moderada','Chuva forte','Chuva muito forte']\n",
        "for i in range(0,2):\n",
        "  print(f'\\nclassification_report do Modelo')\n",
        "  print(classification_report(y_test_rain, predictions[i], target_names=labels, zero_division=0)) #zero_division=0"
      ],
      "metadata": {
        "colab": {
          "base_uri": "https://localhost:8080/"
        },
        "id": "JgiKEjVcYaO5",
        "outputId": "25fdd722-6b97-41e7-b6b7-8787ecd91667"
      },
      "execution_count": null,
      "outputs": [
        {
          "output_type": "stream",
          "name": "stdout",
          "text": [
            "\n",
            "classification_report do Modelo\n",
            "                   precision    recall  f1-score   support\n",
            "\n",
            "      Chuva fraca       0.99      0.99      0.99       569\n",
            "   Chuva moderada       1.00      1.00      1.00      3595\n",
            "      Chuva forte       0.99      0.99      0.99      1079\n",
            "Chuva muito forte       0.98      0.98      0.98       108\n",
            "\n",
            "         accuracy                           0.99      5351\n",
            "        macro avg       0.99      0.99      0.99      5351\n",
            "     weighted avg       0.99      0.99      0.99      5351\n",
            "\n",
            "\n",
            "classification_report do Modelo\n",
            "                   precision    recall  f1-score   support\n",
            "\n",
            "      Chuva fraca       0.99      0.98      0.98       569\n",
            "   Chuva moderada       1.00      0.99      0.99      3595\n",
            "      Chuva forte       0.97      0.99      0.98      1079\n",
            "Chuva muito forte       0.97      0.95      0.96       108\n",
            "\n",
            "         accuracy                           0.99      5351\n",
            "        macro avg       0.98      0.98      0.98      5351\n",
            "     weighted avg       0.99      0.99      0.99      5351\n",
            "\n"
          ]
        }
      ]
    },
    {
      "cell_type": "code",
      "source": [],
      "metadata": {
        "id": "K70AF_0Bmr1p"
      },
      "execution_count": null,
      "outputs": []
    },
    {
      "cell_type": "markdown",
      "source": [
        "## **Matriz de confusão do melhor modelo**"
      ],
      "metadata": {
        "id": "IQXZTXuBOQWN"
      }
    },
    {
      "cell_type": "code",
      "source": [
        "def print_confusion_matrix(confusion_matrix, class_names, figsize = (12,5), fontsize=14):\n",
        "  \n",
        "  confusion_matrix = confusion_matrix.astype('float') / confusion_matrix.sum(axis=1)[:, np.newaxis]\n",
        "  df_cm = pd.DataFrame(confusion_matrix, index=class_names, columns=class_names )\n",
        "  fig = plt.figure(figsize=figsize)\n",
        "  try:\n",
        "    heatmap = sns.heatmap(df_cm, annot=True, fmt=\".2f\")\n",
        "  except ValueError:\n",
        "    raise ValueError(\"Os valores da matriz de confusão devem ser inteiros.\")\n",
        "  heatmap.yaxis.set_ticklabels(heatmap.yaxis.get_ticklabels(), rotation=0, ha='right', fontsize=11)\n",
        "  heatmap.xaxis.set_ticklabels(heatmap.xaxis.get_ticklabels(), rotation=45, ha='right', fontsize=11)\n",
        "  plt.title('Matriz de confusão do Classificador', fontsize=15)\n",
        "  plt.ylabel('Classe verdadeira', fontsize=fontsize)\n",
        "  plt.xlabel('Classe prevista', fontsize=fontsize)"
      ],
      "metadata": {
        "id": "PgA-NQIi60JM"
      },
      "execution_count": null,
      "outputs": []
    },
    {
      "cell_type": "code",
      "source": [
        "predictions_2 = models[0].predict(x_test_rain_scaled)\n",
        "labels = ['Chuva fraca','Chuva moderada','Chuva forte','Chuva muito forte']\n",
        "c = confusion_matrix(y_test_rain, predictions_2)"
      ],
      "metadata": {
        "id": "BtUFFzRD64d6"
      },
      "execution_count": null,
      "outputs": []
    },
    {
      "cell_type": "code",
      "source": [
        "#Exibe a matriz de confusão\n",
        "print_confusion_matrix(c, class_names=labels)"
      ],
      "metadata": {
        "colab": {
          "base_uri": "https://localhost:8080/",
          "height": 424
        },
        "id": "I1E7dk9b7IKU",
        "outputId": "72b0369f-279c-4727-d5c0-f802e70789b6"
      },
      "execution_count": null,
      "outputs": [
        {
          "output_type": "display_data",
          "data": {
            "text/plain": [
              "<Figure size 864x360 with 2 Axes>"
            ],
            "image/png": "[encoded data removed]"
          },
          "metadata": {
            "needs_background": "light"
          }
        }
      ]
    },
    {
      "cell_type": "markdown",
      "source": [
        "## **Classificação da chuva para novos dados**\n",
        "\n",
        "Afim de tentar confirmar os resultados da avaliação nos testes, vamos usar a função **sample()** do **pandas** para selecionar aleatoriamente algumas rows do nosso Dataframe para testar novamente o modelo de classificação da chuva e ver como ele se comporta."
      ],
      "metadata": {
        "id": "PtJka2ESB7WP"
      }
    },
    {
      "cell_type": "code",
      "source": [
        "df_RD80_MP3000A.columns\n"
      ],
      "metadata": {
        "id": "bOfUC-d8shtp",
        "outputId": "5a239678-5f96-4bb4-a972-809b5944fdfc",
        "colab": {
          "base_uri": "https://localhost:8080/"
        }
      },
      "execution_count": null,
      "outputs": [
        {
          "output_type": "execute_result",
          "data": {
            "text/plain": [
              "Index(['Month_', 'Hour', 'Rain_Intensity_mm_h', 'radar_reflectivity_1_mm6m3',\n",
              "       'Liquid_watercontent_g_m3', 'Mean_weight_diameter_mm', 'Ch_51_248',\n",
              "       'Ch_51_760', 'Ch_52_280', 'Ch_52_804', 'Ch_53_336', 'Ch_53_848',\n",
              "       'Int_Liquid_mm', 'Int_Vapor_cm', 'Class_Rain'],\n",
              "      dtype='object')"
            ]
          },
          "metadata": {},
          "execution_count": 40
        }
      ]
    },
    {
      "cell_type": "code",
      "source": [
        "# Seleciona uma linha do dataframe aleatoriamente\n",
        "\n",
        "for res in range(0,2):\n",
        "  class_real = []\n",
        "  res_class_predict = []\n",
        "  indexes = []\n",
        "  for contador in range(0,5):\n",
        "    indexes.append(contador)\n",
        "    df_RD80_class_real = df_RD80_MP3000A.sample(axis = 0)\n",
        "    class_real.append(df_RD80_class_real['Class_Rain'])\n",
        "\n",
        "    df_RD80_class_predict = df_RD80_class_real.drop(columns=['Class_Rain'])\n",
        "\n",
        "    #Teste de classificação da chuva com o modelo\n",
        "\n",
        "    result_predict_class = le.classes_[models[res].predict(np.array([df_RD80_class_predict]).reshape(1,-1))][0]\n",
        "    res_class_predict.append(result_predict_class)\n",
        "\n",
        "  #class_real = pd.DataFrame(class_real)\n",
        "  resultados = {'ID':indexes,'Classe Real':class_real, 'Classe Predita':res_class_predict}\n",
        "  df_resultados = pd.DataFrame.from_dict(resultados, orient='index')\n",
        "\n",
        "  df_resultados = df_resultados.T\n",
        "\n",
        "  df_resultados.dropna(inplace=True)\n",
        "  df_resultados.reset_index(inplace=True, drop=True)\n",
        "\n",
        "df_resultados.head()\n"
      ],
      "metadata": {
        "id": "oxMRDfEVwkmK",
        "colab": {
          "base_uri": "https://localhost:8080/",
          "height": 206
        },
        "outputId": "79fa63e6-48a4-4641-d0e0-9a22872f6615"
      },
      "execution_count": null,
      "outputs": [
        {
          "output_type": "execute_result",
          "data": {
            "text/plain": [
              "  ID                                        Classe Real Classe Predita\n",
              "0  0  63595    Chuva fraca\n",
              "Name: Class_Rain, dtype: ...    Chuva fraca\n",
              "1  1  115995    Chuva fraca\n",
              "Name: Class_Rain, dtype:...    Chuva fraca\n",
              "2  2  57547    Chuva fraca\n",
              "Name: Class_Rain, dtype: ...    Chuva fraca\n",
              "3  3  146709    Chuva fraca\n",
              "Name: Class_Rain, dtype:...    Chuva fraca\n",
              "4  4  53241    Chuva moderada\n",
              "Name: Class_Rain, dtyp...    Chuva fraca"
            ],
            "text/html": [
              "\n",
              "  <div id=\"df-4043f236-2413-47ad-bcee-dae464aff6f0\">\n",
              "    <div class=\"colab-df-container\">\n",
              "      <div>\n",
              "<style scoped>\n",
              "    .dataframe tbody tr th:only-of-type {\n",
              "        vertical-align: middle;\n",
              "    }\n",
              "\n",
              "    .dataframe tbody tr th {\n",
              "        vertical-align: top;\n",
              "    }\n",
              "\n",
              "    .dataframe thead th {\n",
              "        text-align: right;\n",
              "    }\n",
              "</style>\n",
              "<table border=\"1\" class=\"dataframe\">\n",
              "  <thead>\n",
              "    <tr style=\"text-align: right;\">\n",
              "      <th></th>\n",
              "      <th>ID</th>\n",
              "      <th>Classe Real</th>\n",
              "      <th>Classe Predita</th>\n",
              "    </tr>\n",
              "  </thead>\n",
              "  <tbody>\n",
              "    <tr>\n",
              "      <th>0</th>\n",
              "      <td>0</td>\n",
              "      <td>63595    Chuva fraca\n",
              "Name: Class_Rain, dtype: ...</td>\n",
              "      <td>Chuva fraca</td>\n",
              "    </tr>\n",
              "    <tr>\n",
              "      <th>1</th>\n",
              "      <td>1</td>\n",
              "      <td>115995    Chuva fraca\n",
              "Name: Class_Rain, dtype:...</td>\n",
              "      <td>Chuva fraca</td>\n",
              "    </tr>\n",
              "    <tr>\n",
              "      <th>2</th>\n",
              "      <td>2</td>\n",
              "      <td>57547    Chuva fraca\n",
              "Name: Class_Rain, dtype: ...</td>\n",
              "      <td>Chuva fraca</td>\n",
              "    </tr>\n",
              "    <tr>\n",
              "      <th>3</th>\n",
              "      <td>3</td>\n",
              "      <td>146709    Chuva fraca\n",
              "Name: Class_Rain, dtype:...</td>\n",
              "      <td>Chuva fraca</td>\n",
              "    </tr>\n",
              "    <tr>\n",
              "      <th>4</th>\n",
              "      <td>4</td>\n",
              "      <td>53241    Chuva moderada\n",
              "Name: Class_Rain, dtyp...</td>\n",
              "      <td>Chuva fraca</td>\n",
              "    </tr>\n",
              "  </tbody>\n",
              "</table>\n",
              "</div>\n",
              "      <button class=\"colab-df-convert\" onclick=\"convertToInteractive('df-4043f236-2413-47ad-bcee-dae464aff6f0')\"\n",
              "              title=\"Convert this dataframe to an interactive table.\"\n",
              "              style=\"display:none;\">\n",
              "        \n",
              "  <svg xmlns=\"http://www.w3.org/2000/svg\" height=\"24px\"viewBox=\"0 0 24 24\"\n",
              "       width=\"24px\">\n",
              "    <path d=\"M0 0h24v24H0V0z\" fill=\"none\"/>\n",
              "    <path d=\"M18.56 5.44l.94 2.06.94-2.06 2.06-.94-2.06-.94-.94-2.06-.94 2.06-2.06.94zm-11 1L8.5 8.5l.94-2.06 2.06-.94-2.06-.94L8.5 2.5l-.94 2.06-2.06.94zm10 10l.94 2.06.94-2.06 2.06-.94-2.06-.94-.94-2.06-.94 2.06-2.06.94z\"/><path d=\"M17.41 7.96l-1.37-1.37c-.4-.4-.92-.59-1.43-.59-.52 0-1.04.2-1.43.59L10.3 9.45l-7.72 7.72c-.78.78-.78 2.05 0 2.83L4 21.41c.39.39.9.59 1.41.59.51 0 1.02-.2 1.41-.59l7.78-7.78 2.81-2.81c.8-.78.8-2.07 0-2.86zM5.41 20L4 18.59l7.72-7.72 1.47 1.35L5.41 20z\"/>\n",
              "  </svg>\n",
              "      </button>\n",
              "      \n",
              "  <style>\n",
              "    .colab-df-container {\n",
              "      display:flex;\n",
              "      flex-wrap:wrap;\n",
              "      gap: 12px;\n",
              "    }\n",
              "\n",
              "    .colab-df-convert {\n",
              "      background-color: #E8F0FE;\n",
              "      border: none;\n",
              "      border-radius: 50%;\n",
              "      cursor: pointer;\n",
              "      display: none;\n",
              "      fill: #1967D2;\n",
              "      height: 32px;\n",
              "      padding: 0 0 0 0;\n",
              "      width: 32px;\n",
              "    }\n",
              "\n",
              "    .colab-df-convert:hover {\n",
              "      background-color: #E2EBFA;\n",
              "      box-shadow: 0px 1px 2px rgba(60, 64, 67, 0.3), 0px 1px 3px 1px rgba(60, 64, 67, 0.15);\n",
              "      fill: #174EA6;\n",
              "    }\n",
              "\n",
              "    [theme=dark] .colab-df-convert {\n",
              "      background-color: #3B4455;\n",
              "      fill: #D2E3FC;\n",
              "    }\n",
              "\n",
              "    [theme=dark] .colab-df-convert:hover {\n",
              "      background-color: #434B5C;\n",
              "      box-shadow: 0px 1px 3px 1px rgba(0, 0, 0, 0.15);\n",
              "      filter: drop-shadow(0px 1px 2px rgba(0, 0, 0, 0.3));\n",
              "      fill: #FFFFFF;\n",
              "    }\n",
              "  </style>\n",
              "\n",
              "      <script>\n",
              "        const buttonEl =\n",
              "          document.querySelector('#df-4043f236-2413-47ad-bcee-dae464aff6f0 button.colab-df-convert');\n",
              "        buttonEl.style.display =\n",
              "          google.colab.kernel.accessAllowed ? 'block' : 'none';\n",
              "\n",
              "        async function convertToInteractive(key) {\n",
              "          const element = document.querySelector('#df-4043f236-2413-47ad-bcee-dae464aff6f0');\n",
              "          const dataTable =\n",
              "            await google.colab.kernel.invokeFunction('convertToInteractive',\n",
              "                                                     [key], {});\n",
              "          if (!dataTable) return;\n",
              "\n",
              "          const docLinkHtml = 'Like what you see? Visit the ' +\n",
              "            '<a target=\"_blank\" href=https://colab.research.google.com/notebooks/data_table.ipynb>data table notebook</a>'\n",
              "            + ' to learn more about interactive tables.';\n",
              "          element.innerHTML = '';\n",
              "          dataTable['output_type'] = 'display_data';\n",
              "          await google.colab.output.renderOutput(dataTable, element);\n",
              "          const docLink = document.createElement('div');\n",
              "          docLink.innerHTML = docLinkHtml;\n",
              "          element.appendChild(docLink);\n",
              "        }\n",
              "      </script>\n",
              "    </div>\n",
              "  </div>\n",
              "  "
            ]
          },
          "metadata": {},
          "execution_count": 41
        }
      ]
    },
    {
      "cell_type": "markdown",
      "metadata": {
        "id": "szsiW3KB4KTj"
      },
      "source": [
        "# **CONSIDERAÇÕES FINAIS**\n",
        "\n",
        "No presente notebook, objetivou-se apresentar a implementação de um modelo de Rede Neural Artificial, uma , que fosse capaz de predizer  e classificar a chuva. O estudo concentrou-se em três aspectos: entradas e métodos de modelagem e técnicas de pré-processamento.  \n",
        "\n",
        "De modo geral, o nosso modelo consegiu atingir uma acurácia de 98.4% nos dados de treino e 91% nos dados de validação. Por outro lado, mesmo que a acurácia tenha sido bem alta ela não obteve o mesmo desempenho na classificação de \"Chuva moderada\" e \"Chuva muito forte\". Pressupe-se que isso pode ser melhorado aplicando técnicas de data augmentation. \n",
        "\n",
        "Por fim, embora o aumento da base de dados tenha se mostrado necessário, os resultados observados nas métricas do cenário de avaliação nos levou a inferir que o modelo se mostrou eficiente, apresentando boa acurácia e precisão nos testes de classificação. \n"
      ]
    },
    {
      "cell_type": "markdown",
      "source": [
        "# **TRABALHOS FUTUROS**\n",
        "\n",
        "Melhorias do modelo desenvolvido para classificação da chuva desenvolvido no estudo podem ser apoiadas com pelo menos a instalação de outro sistema disdrômetro no entorno da área de estudo. Isso pode permitir uma melhor validação do modelo de rede neural que está sendo proposto, fazendo uso da correlação dos parâmetros de chuva observados."
      ],
      "metadata": {
        "id": "ly4HWK9KeY_A"
      }
    },
    {
      "cell_type": "markdown",
      "metadata": {
        "id": "qAVEldyd4NxD"
      },
      "source": [
        "# **REFERÊNCIAS**\n",
        "\n",
        "BASHEER, I. A.; HAJMEER, M. Artificial neural networks: fundamentals, computing, design, and application. Journal of Microbiological Methods, v. 43, p. 3–31, 2000\n",
        "\n",
        "HAYKIN, Simon. Redes Neurais : princípios e prática. Traduzido por Paulo Martins Engel. 2. ed. Porto Alegre : Bookman, 2001. 900 p. il.\n",
        "\n",
        "HSU, K. L.; GAO, X.; SOROOSHIAN, S.; GUPTA, H. V. Precipitation estimation from remotely sensed information using artificial neural networks. Journal of Applied Meteorology, v. 36, n. 9, p. 1176-1190, 1997.\n",
        "\n",
        "https://towardsdatascience.com/deep-learning-which-loss-and-activation-functions-should-i-use-ac02f1c56aa8\n",
        "\n",
        "https://sites.icmc.usp.br/andre/research/neural/MLP.htm\n",
        "\n",
        "https://acervolima.com/diferenca-entre-ann-cnn-e-rnn/\n",
        "\n",
        "KOVAKS, Z. L. Redes Neurais Artificiais: fundamentos e Aplicações. São Paulo: Acadêmica, 1996.\n",
        "\n",
        "TAFNER, Malcon A.; XEREZ, Marcos de; RODRIGUES FILHO, Ilson W. Redes neurais artificiais : introdução e princípios de neurocomputação. Blumenau : Eko, 1995.\n",
        "\n",
        "Hinton, Geoffrey, Nitish Srivastava, and Kevin Swersky. “Neural Networks for Machine Learning Lecture 6a Overview of Mini--Batch Gradient Descent,” 2012."
      ]
    }
  ]
}