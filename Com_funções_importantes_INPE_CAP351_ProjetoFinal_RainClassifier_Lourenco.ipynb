{
  "nbformat": 4,
  "nbformat_minor": 0,
  "metadata": {
    "colab": {
      "provenance": [],
      "machine_shape": "hm",
      "collapsed_sections": [
        "nt9BSI9RLVJK",
        "qAVEldyd4NxD"
      ],
      "authorship_tag": "ABX9TyMqgtrVndHX5OXNR20crZm2",
      "include_colab_link": true
    },
    "kernelspec": {
      "name": "python3",
      "display_name": "Python 3"
    },
    "language_info": {
      "name": "python"
    },
    "accelerator": "GPU",
    "gpuClass": "standard"
  },
  "cells": [
    {
      "cell_type": "markdown",
      "metadata": {
        "id": "view-in-github",
        "colab_type": "text"
      },
      "source": [
        "<a href=\"https://colab.research.google.com/github/lourencocavalcante/Advanced-Topics-in-Environmental-Modeling/blob/main/Com_fun%C3%A7%C3%B5es_importantes_INPE_CAP351_ProjetoFinal_RainClassifier_Lourenco.ipynb\" target=\"_parent\"><img src=\"https://colab.research.google.com/assets/colab-badge.svg\" alt=\"Open In Colab\"/></a>"
      ]
    },
    {
      "cell_type": "markdown",
      "metadata": {
        "id": "OCGrfcaNk9Ju"
      },
      "source": [
        "[<img src=\"https://github.com/lourencocavalcante/LogosINPE/blob/main/logoinpe.png?raw=true\" width = 500 align=\"left\">](https://www.gov.br/inpe/pt-br)\n",
        "\n",
        "[<img src=\"https://github.com/lourencocavalcante/LogosINPE/blob/main/LogoCAP.png?raw=true\" width = 300 align=\"right\">](http://www.inpe.br/posgraduacao/cap/)"
      ]
    },
    {
      "cell_type": "markdown",
      "metadata": {
        "id": "88RwBLoykL2t"
      },
      "source": [
        "# **CAP-351 Neurocomputação**\n",
        "\n",
        "**Professor:**\n",
        "*Dr. Marcos Goncalves Quiles*\n",
        "\n",
        "**Aluno:**\n",
        "*Lourenço José Cavalcante Neto*\n",
        "\n",
        "---\n",
        "\n",
        "**PROJETO FINAL:  Implementação e treino de um modelo de Rede Neural para predição de chuva em curtíssimo prazo a partir de dados metorológicos oriundos do equipamento disdrômetro RD80**\n",
        "\n",
        "* Um projeto de ML com EDA e modelo que ajuda a prever a chuva do instante seguinte treinando modelo de classificação na variável de destino Class_Rain\n",
        "\n",
        "\n",
        "2. Predição. Treinar um modelo para predizer o valor de uma variável no instante **t+k**. O modelo deve receber os dados da série temporal (instantes anteriores a **t** – verificar tamanho da janela) e predizer um favor futuro. **k** a distância da predição. *Por exemplo, podemos alimentar um modelo com dados de uma dada empresa (i.e. **PETR3**) e tentar predizer qual será o valor da ação daqui **5 dias (k==5)**.*\n"
      ]
    },
    {
      "cell_type": "markdown",
      "metadata": {
        "id": "7-jeAFnOD7S2"
      },
      "source": [
        "# **Descrição do problema**\n",
        "Este conjunto de dados contém cerca de 2 anos de observações meteorológicas diárias oriundos de dois equipamentos ( Radiômetro de Microondas MP3000A e o Disdrômetro RD80) instalados nas proximidades da torre ATTO, em sítio chamado Campina, na região amazônica.\n",
        "\n",
        "Rain Intensity é a variável de destino na qual será utilizada para predizer a chuva. Significa - choveu no dia seguinte, sim ou não? Esta coluna é Sim se a chuva naquele dia foi maior que 0.1 mm/h."
      ]
    },
    {
      "cell_type": "markdown",
      "metadata": {
        "id": "9nslGd1zQuhj"
      },
      "source": [
        "# **Objetivo**\n",
        "O presente trabalho tem por objetivo implementar e treinar um modelo de rede neural **LSTM (Long Short Term Memory)** para predição de chuva com base nos dados do disdrômetro **RD80**. Este equipamento mede adistribuição das gotas de chuva que chegam à superfície. O modelo computacional contribuirá coma a capacidade de antecipar informações sobre \"estar chovendo\" ou \"não\"."
      ]
    },
    {
      "cell_type": "markdown",
      "metadata": {
        "id": "xjkTp7kQNjZp"
      },
      "source": [
        "# **Introdução**\n",
        "Para o desenvolvimento do presente trabalho, inicialmente partirei de uma breve visualização dos dados do nosso Dataset. Em seguida, será implementado e treinando um modelo LSTM, tal qual será utilizado para predizer a ocorrência de chuva."
      ]
    },
    {
      "cell_type": "markdown",
      "metadata": {
        "id": "WnMuRzBl4zCU"
      },
      "source": [
        "# **Recurrent Neural Network (RNN)**\n",
        "Uma (RNN) é uma classe de redes neurais que inclui conexões ponderadas dentro de uma camada. Como as RNNs incluem loops, elas podem armazenar informações ao processar novas entradas. Essa memória os torna ideais para tarefas de processamento onde as entradas anteriores devem ser consideradas (no nosso caso, dados da série temporal). "
      ]
    },
    {
      "cell_type": "markdown",
      "metadata": {
        "id": "VrS5NO9p5BL8"
      },
      "source": [
        "**Long Short Term Memory (LSTM)**\n",
        "\n",
        "Em resumo, uma célula LSTM pode aprender a reconhecer uma entrada importante (que é o papel do input gate), armazená-la no estado de longo prazo, aprender a preservá-la pelo tempo necessário (esse é o papel do forget gate) e aprender a extraí-la sempre que for preciso. Isso explica por que elas têm sido surpreendentemente bem-sucedidas em capturar padrões de longo prazo em séries temporais."
      ]
    },
    {
      "cell_type": "markdown",
      "metadata": {
        "id": "2cirs7w4deeV"
      },
      "source": [
        "<img src=\"https://github.com/lourencocavalcante/Neurocomputacao/blob/1494f13955de226380c002fe2774d8641ca2efc6/Figuras/RNN_LSTM.png?raw=true\" width = 600 align=\"left\">\n"
      ]
    },
    {
      "cell_type": "markdown",
      "metadata": {
        "id": "9TfXixr-Ztoq"
      },
      "source": [
        "# **Bibliotecas/Pacotes**"
      ]
    },
    {
      "cell_type": "code",
      "source": [
        "!pip install category_encoders"
      ],
      "metadata": {
        "id": "uY273m-NhuET"
      },
      "execution_count": null,
      "outputs": []
    },
    {
      "cell_type": "code",
      "source": [
        "import pandas as pd\n",
        "from pandas import DataFrame\n",
        "from pandas import Series\n",
        "from pandas import concat\n",
        "from pandas import read_csv\n",
        "from pandas import datetime\n",
        "\n",
        "import numpy as np\n",
        "import seaborn as sns\n",
        "import missingno as msno\n",
        "\n",
        "import category_encoders as ce\n",
        "\n",
        "from math import sqrt\n",
        "import matplotlib.pyplot as plt\n",
        "from array import array\n",
        "import datetime\n",
        "import time\n",
        "import math\n",
        "import calendar\n",
        "\n",
        "import tensorflow as tf\n",
        "from tensorflow import keras\n",
        "from keras.models import Sequential\n",
        "from keras.layers import Dense, Dropout, LSTM,Flatten\n",
        "from keras.activations import sigmoid, softmax\n",
        "\n",
        "from sklearn.preprocessing import RobustScaler\n",
        "from sklearn.model_selection import train_test_split\n",
        "from sklearn.metrics import f1_score, plot_confusion_matrix, mean_squared_error, mean_absolute_error,confusion_matrix, accuracy_score\n",
        "from sklearn.preprocessing import MinMaxScaler\n",
        "\n"
      ],
      "metadata": {
        "id": "LyOJ7T7Fz7cO"
      },
      "execution_count": null,
      "outputs": []
    },
    {
      "cell_type": "markdown",
      "metadata": {
        "id": "PVYpJQGCh1Kc"
      },
      "source": [
        "# **Dataset**\n",
        "\n",
        "Os Dados são de um equipamento chamado Disdrômetro RD80 (também conhecido como Joss), instalado próximo à torre ATTO, em um sítio chamado Campina, na região amazônica, nos quais foram adquiridos e salvos no google Drive. Este equipamento mede a distribuição das gotas de chuva que chegam à superfície.  Os dados são referente ao período de **17/03/2020** à **29/06/2022**,"
      ]
    },
    {
      "cell_type": "markdown",
      "metadata": {
        "id": "-AEvKCQJYiFk"
      },
      "source": [
        "**Importação, formatação, tratamento e visualização dos dados**"
      ]
    },
    {
      "cell_type": "code",
      "execution_count": null,
      "metadata": {
        "colab": {
          "base_uri": "https://localhost:8080/"
        },
        "outputId": "f3ea388a-a6aa-4af7-f0f9-edeefc8cd3fd",
        "id": "sCoRUoFzbArI"
      },
      "outputs": [
        {
          "output_type": "stream",
          "name": "stdout",
          "text": [
            "/usr/local/lib/python3.7/dist-packages/gdown/cli.py:131: FutureWarning: Option `--id` was deprecated in version 4.3.1 and will be removed in 5.0. You don't need to pass it anymore to use a file ID.\n",
            "  category=FutureWarning,\n",
            "Downloading...\n",
            "From: https://drive.google.com/uc?id=15BiqUppgOvLOZUVRLFxcxdmP5ZQxLZE2\n",
            "To: /content/df_RD80_FINAL.csv\n",
            "100% 38.4M/38.4M [00:00<00:00, 94.6MB/s]\n"
          ]
        }
      ],
      "source": [
        "#Vamos baixar os dados do Google Drive para o ambiente de execução do nosso Notebook\n",
        "!gdown --id 15BiqUppgOvLOZUVRLFxcxdmP5ZQxLZE2"
      ]
    },
    {
      "cell_type": "markdown",
      "metadata": {
        "id": "0bfMy_1xiTff"
      },
      "source": [
        "**Pré-processamento e visualização os dados**\n",
        "\n",
        "O primeiro passo é abrir o CSV com o Pandas. Em uma visão inicial dos dados, temos:"
      ]
    },
    {
      "cell_type": "code",
      "execution_count": null,
      "metadata": {
        "id": "zqRgJOK3bArK"
      },
      "outputs": [],
      "source": [
        "#Carregar o Dataset e criar o Dataframe\n",
        "df_RD80 = pd.read_csv(\"/content/df_RD80_FINAL.csv\",parse_dates=[0], index_col=[0])\n",
        "df_RD80_final = pd.DataFrame(df_RD80)\n",
        "\n",
        "#df_RD80_final= df_RD80_final.query(\"(Month != 'Jun' and Month != 'Sep' and Month != 'Oct' and Month != 'Aug' and Month != 'Jul')\")\n",
        "#df_RD80_final= df_RD80_final.query(\"(Month != 'Jun' and Month != 'Sep' and Month != 'Oct' and Month != 'Aug' and Month != 'Jul')\")\n"
      ]
    },
    {
      "cell_type": "code",
      "execution_count": null,
      "metadata": {
        "colab": {
          "base_uri": "https://localhost:8080/"
        },
        "outputId": "7fa62eb1-0357-4228-9dd1-921dd9ce8a31",
        "id": "6RJIawzQePTs"
      },
      "outputs": [
        {
          "output_type": "stream",
          "name": "stdout",
          "text": [
            "Tamanho do dataset:  5782  - Quantidade de atributos:  19\n"
          ]
        }
      ],
      "source": [
        "#Aqui verificamos o tamanho do Dataset e quantidade de atributos \n",
        "print('Tamanho do dataset: ',df_RD80_final.shape[0], ' - Quantidade de atributos: ', df_RD80_final.shape[1])"
      ]
    },
    {
      "cell_type": "code",
      "source": [
        "df_RD80_final.loc[df_RD80_final['Rain_Intensity_mm_h'] > 0].head(n=2).append(df_RD80_final.loc[df_RD80_final['Rain_Intensity_mm_h'] == 0].tail(n=2))"
      ],
      "metadata": {
        "colab": {
          "base_uri": "https://localhost:8080/",
          "height": 378
        },
        "id": "OAMgfL__YGj8",
        "outputId": "0733e359-d3ee-48b7-aa93-1c31731ea993"
      },
      "execution_count": null,
      "outputs": [
        {
          "output_type": "execute_result",
          "data": {
            "text/plain": [
              "                   Datetime        Date  Year Month Day_of_week      Time  \\\n",
              "417     2020-03-17 20:49:00  2020-03-17  2020   Mar     Tuesday  20:49:00   \n",
              "418     2020-03-17 20:50:00  2020-03-17  2020   Mar     Tuesday  20:50:00   \n",
              "346966  2022-08-30 22:23:00  2022-08-30  2022   Aug     Tuesday  22:23:00   \n",
              "346967  2022-08-30 22:24:00  2022-08-30  2022   Aug     Tuesday  22:24:00   \n",
              "\n",
              "        Rain_Intensity_mm_h  radar_reflectivity_1_mm6m3  \\\n",
              "417                23.55615                 15159.06445   \n",
              "418                14.56254                  6636.11426   \n",
              "346966              0.00000                     0.00000   \n",
              "346967              0.00000                     0.00000   \n",
              "\n",
              "        Liquid_watercontent_g_m3  Mean_weight_diameter_mm  Time_integration_s  \\\n",
              "417                      1.06382                  1.86399                60.0   \n",
              "418                      0.72363                  1.61044                60.0   \n",
              "346966                   0.00000                  0.00000                60.0   \n",
              "346967                   0.00000                  0.00000                60.0   \n",
              "\n",
              "        Light_Rain  Moderate_Rain  Heavy_Rain  Very_Heavy_Rain  Without_Rain  \\\n",
              "417              0              0           1                0             0   \n",
              "418              0              0           1                0             0   \n",
              "346966           0              0           0                0             1   \n",
              "346967           0              0           0                0             1   \n",
              "\n",
              "        Class_Rain_id   Class_Rain  \n",
              "417                 3  Chuva forte  \n",
              "418                 3  Chuva forte  \n",
              "346966              0   Não choveu  \n",
              "346967              0   Não choveu  "
            ],
            "text/html": [
              "\n",
              "  <div id=\"df-6f7e7ff3-ca5d-4c92-ab51-c750c13a0be3\">\n",
              "    <div class=\"colab-df-container\">\n",
              "      <div>\n",
              "<style scoped>\n",
              "    .dataframe tbody tr th:only-of-type {\n",
              "        vertical-align: middle;\n",
              "    }\n",
              "\n",
              "    .dataframe tbody tr th {\n",
              "        vertical-align: top;\n",
              "    }\n",
              "\n",
              "    .dataframe thead th {\n",
              "        text-align: right;\n",
              "    }\n",
              "</style>\n",
              "<table border=\"1\" class=\"dataframe\">\n",
              "  <thead>\n",
              "    <tr style=\"text-align: right;\">\n",
              "      <th></th>\n",
              "      <th>Datetime</th>\n",
              "      <th>Date</th>\n",
              "      <th>Year</th>\n",
              "      <th>Month</th>\n",
              "      <th>Day_of_week</th>\n",
              "      <th>Time</th>\n",
              "      <th>Rain_Intensity_mm_h</th>\n",
              "      <th>radar_reflectivity_1_mm6m3</th>\n",
              "      <th>Liquid_watercontent_g_m3</th>\n",
              "      <th>Mean_weight_diameter_mm</th>\n",
              "      <th>Time_integration_s</th>\n",
              "      <th>Light_Rain</th>\n",
              "      <th>Moderate_Rain</th>\n",
              "      <th>Heavy_Rain</th>\n",
              "      <th>Very_Heavy_Rain</th>\n",
              "      <th>Without_Rain</th>\n",
              "      <th>Class_Rain_id</th>\n",
              "      <th>Class_Rain</th>\n",
              "    </tr>\n",
              "  </thead>\n",
              "  <tbody>\n",
              "    <tr>\n",
              "      <th>417</th>\n",
              "      <td>2020-03-17 20:49:00</td>\n",
              "      <td>2020-03-17</td>\n",
              "      <td>2020</td>\n",
              "      <td>Mar</td>\n",
              "      <td>Tuesday</td>\n",
              "      <td>20:49:00</td>\n",
              "      <td>23.55615</td>\n",
              "      <td>15159.06445</td>\n",
              "      <td>1.06382</td>\n",
              "      <td>1.86399</td>\n",
              "      <td>60.0</td>\n",
              "      <td>0</td>\n",
              "      <td>0</td>\n",
              "      <td>1</td>\n",
              "      <td>0</td>\n",
              "      <td>0</td>\n",
              "      <td>3</td>\n",
              "      <td>Chuva forte</td>\n",
              "    </tr>\n",
              "    <tr>\n",
              "      <th>418</th>\n",
              "      <td>2020-03-17 20:50:00</td>\n",
              "      <td>2020-03-17</td>\n",
              "      <td>2020</td>\n",
              "      <td>Mar</td>\n",
              "      <td>Tuesday</td>\n",
              "      <td>20:50:00</td>\n",
              "      <td>14.56254</td>\n",
              "      <td>6636.11426</td>\n",
              "      <td>0.72363</td>\n",
              "      <td>1.61044</td>\n",
              "      <td>60.0</td>\n",
              "      <td>0</td>\n",
              "      <td>0</td>\n",
              "      <td>1</td>\n",
              "      <td>0</td>\n",
              "      <td>0</td>\n",
              "      <td>3</td>\n",
              "      <td>Chuva forte</td>\n",
              "    </tr>\n",
              "    <tr>\n",
              "      <th>346966</th>\n",
              "      <td>2022-08-30 22:23:00</td>\n",
              "      <td>2022-08-30</td>\n",
              "      <td>2022</td>\n",
              "      <td>Aug</td>\n",
              "      <td>Tuesday</td>\n",
              "      <td>22:23:00</td>\n",
              "      <td>0.00000</td>\n",
              "      <td>0.00000</td>\n",
              "      <td>0.00000</td>\n",
              "      <td>0.00000</td>\n",
              "      <td>60.0</td>\n",
              "      <td>0</td>\n",
              "      <td>0</td>\n",
              "      <td>0</td>\n",
              "      <td>0</td>\n",
              "      <td>1</td>\n",
              "      <td>0</td>\n",
              "      <td>Não choveu</td>\n",
              "    </tr>\n",
              "    <tr>\n",
              "      <th>346967</th>\n",
              "      <td>2022-08-30 22:24:00</td>\n",
              "      <td>2022-08-30</td>\n",
              "      <td>2022</td>\n",
              "      <td>Aug</td>\n",
              "      <td>Tuesday</td>\n",
              "      <td>22:24:00</td>\n",
              "      <td>0.00000</td>\n",
              "      <td>0.00000</td>\n",
              "      <td>0.00000</td>\n",
              "      <td>0.00000</td>\n",
              "      <td>60.0</td>\n",
              "      <td>0</td>\n",
              "      <td>0</td>\n",
              "      <td>0</td>\n",
              "      <td>0</td>\n",
              "      <td>1</td>\n",
              "      <td>0</td>\n",
              "      <td>Não choveu</td>\n",
              "    </tr>\n",
              "  </tbody>\n",
              "</table>\n",
              "</div>\n",
              "      <button class=\"colab-df-convert\" onclick=\"convertToInteractive('df-6f7e7ff3-ca5d-4c92-ab51-c750c13a0be3')\"\n",
              "              title=\"Convert this dataframe to an interactive table.\"\n",
              "              style=\"display:none;\">\n",
              "        \n",
              "  <svg xmlns=\"http://www.w3.org/2000/svg\" height=\"24px\"viewBox=\"0 0 24 24\"\n",
              "       width=\"24px\">\n",
              "    <path d=\"M0 0h24v24H0V0z\" fill=\"none\"/>\n",
              "    <path d=\"M18.56 5.44l.94 2.06.94-2.06 2.06-.94-2.06-.94-.94-2.06-.94 2.06-2.06.94zm-11 1L8.5 8.5l.94-2.06 2.06-.94-2.06-.94L8.5 2.5l-.94 2.06-2.06.94zm10 10l.94 2.06.94-2.06 2.06-.94-2.06-.94-.94-2.06-.94 2.06-2.06.94z\"/><path d=\"M17.41 7.96l-1.37-1.37c-.4-.4-.92-.59-1.43-.59-.52 0-1.04.2-1.43.59L10.3 9.45l-7.72 7.72c-.78.78-.78 2.05 0 2.83L4 21.41c.39.39.9.59 1.41.59.51 0 1.02-.2 1.41-.59l7.78-7.78 2.81-2.81c.8-.78.8-2.07 0-2.86zM5.41 20L4 18.59l7.72-7.72 1.47 1.35L5.41 20z\"/>\n",
              "  </svg>\n",
              "      </button>\n",
              "      \n",
              "  <style>\n",
              "    .colab-df-container {\n",
              "      display:flex;\n",
              "      flex-wrap:wrap;\n",
              "      gap: 12px;\n",
              "    }\n",
              "\n",
              "    .colab-df-convert {\n",
              "      background-color: #E8F0FE;\n",
              "      border: none;\n",
              "      border-radius: 50%;\n",
              "      cursor: pointer;\n",
              "      display: none;\n",
              "      fill: #1967D2;\n",
              "      height: 32px;\n",
              "      padding: 0 0 0 0;\n",
              "      width: 32px;\n",
              "    }\n",
              "\n",
              "    .colab-df-convert:hover {\n",
              "      background-color: #E2EBFA;\n",
              "      box-shadow: 0px 1px 2px rgba(60, 64, 67, 0.3), 0px 1px 3px 1px rgba(60, 64, 67, 0.15);\n",
              "      fill: #174EA6;\n",
              "    }\n",
              "\n",
              "    [theme=dark] .colab-df-convert {\n",
              "      background-color: #3B4455;\n",
              "      fill: #D2E3FC;\n",
              "    }\n",
              "\n",
              "    [theme=dark] .colab-df-convert:hover {\n",
              "      background-color: #434B5C;\n",
              "      box-shadow: 0px 1px 3px 1px rgba(0, 0, 0, 0.15);\n",
              "      filter: drop-shadow(0px 1px 2px rgba(0, 0, 0, 0.3));\n",
              "      fill: #FFFFFF;\n",
              "    }\n",
              "  </style>\n",
              "\n",
              "      <script>\n",
              "        const buttonEl =\n",
              "          document.querySelector('#df-6f7e7ff3-ca5d-4c92-ab51-c750c13a0be3 button.colab-df-convert');\n",
              "        buttonEl.style.display =\n",
              "          google.colab.kernel.accessAllowed ? 'block' : 'none';\n",
              "\n",
              "        async function convertToInteractive(key) {\n",
              "          const element = document.querySelector('#df-6f7e7ff3-ca5d-4c92-ab51-c750c13a0be3');\n",
              "          const dataTable =\n",
              "            await google.colab.kernel.invokeFunction('convertToInteractive',\n",
              "                                                     [key], {});\n",
              "          if (!dataTable) return;\n",
              "\n",
              "          const docLinkHtml = 'Like what you see? Visit the ' +\n",
              "            '<a target=\"_blank\" href=https://colab.research.google.com/notebooks/data_table.ipynb>data table notebook</a>'\n",
              "            + ' to learn more about interactive tables.';\n",
              "          element.innerHTML = '';\n",
              "          dataTable['output_type'] = 'display_data';\n",
              "          await google.colab.output.renderOutput(dataTable, element);\n",
              "          const docLink = document.createElement('div');\n",
              "          docLink.innerHTML = docLinkHtml;\n",
              "          element.appendChild(docLink);\n",
              "        }\n",
              "      </script>\n",
              "    </div>\n",
              "  </div>\n",
              "  "
            ]
          },
          "metadata": {},
          "execution_count": 172
        }
      ]
    },
    {
      "cell_type": "markdown",
      "metadata": {
        "id": "eDmpdgmqq1b6"
      },
      "source": [
        "# **Modelo de Rede Neural para predição da chuva**"
      ]
    },
    {
      "cell_type": "markdown",
      "source": [
        "Vamos adicionar uma coluna extra (coluna: **Rainfall_Now**) ao conjunto de dados existente, na qual seu valor será de acordo com a ocorrência de chuva naquele instante/minuto e que será a nossa variável de destino.\n",
        "\n",
        "Regras:\n",
        "* Rainfall_Now = **1** (Com presença de chuva)\n",
        "* Rainfall_Now = **0** (Sem presença de chuva)"
      ],
      "metadata": {
        "id": "7OsVt4zDtjgu"
      }
    },
    {
      "cell_type": "code",
      "source": [
        "#Aqui criamos a coluna Rainfall_Now com preenchimento padrão 1 (Com presença de chuva)\n",
        "df_RD80_final['Rainfall_Now'] = '1'\n",
        "\n",
        "#Olhamos a variável Rain_Intensity_mm_h para saber se há registro de chuva e atualizamos\n",
        "#a variável Rainfall_Now de acordo com o rsultado encontrado.\n",
        "df_RD80_final['Rainfall_Now'][df_RD80_final['Rain_Intensity_mm_h'] == 0 ] = '0'"
      ],
      "metadata": {
        "colab": {
          "base_uri": "https://localhost:8080/"
        },
        "id": "E5VxEL-IqPii",
        "outputId": "2e8b6cc2-1d77-4fb6-bb65-1f5dc64927c3"
      },
      "execution_count": null,
      "outputs": [
        {
          "output_type": "stream",
          "name": "stderr",
          "text": [
            "/usr/local/lib/python3.7/dist-packages/ipykernel_launcher.py:6: SettingWithCopyWarning: \n",
            "A value is trying to be set on a copy of a slice from a DataFrame\n",
            "\n",
            "See the caveats in the documentation: https://pandas.pydata.org/pandas-docs/stable/user_guide/indexing.html#returning-a-view-versus-a-copy\n",
            "  \n"
          ]
        }
      ]
    },
    {
      "cell_type": "code",
      "source": [
        "#Vamos converter o \"Datetime\" em um objeto datetime para que seja mais fácil realizar outras manipulações\n",
        "df_RD80_final['Datetime'] = df_RD80_final.Datetime.astype('datetime64')\n",
        "\n",
        "#Dividindo a coluna hora do dia em diferentes sessões em um dia\n",
        "df_RD80_final=df_RD80_final.assign(session=pd.cut(df_RD80_final.Datetime.dt.hour,\n",
        "                              [0,6,12,18,23],\n",
        "                              labels=['Night','Morning','Afternoon','Evening'],\n",
        "                              include_lowest=True))"
      ],
      "metadata": {
        "id": "NUZwheYdpOOj"
      },
      "execution_count": null,
      "outputs": []
    },
    {
      "cell_type": "code",
      "source": [
        "#Vamos visualizar as primeiras 2 e últimas 2 linhas dos dados\n",
        "df_RD80_final.loc[df_RD80_final['Rain_Intensity_mm_h'] > 0].head(n=2).append(df_RD80_final.loc[df_RD80_final['Rain_Intensity_mm_h'] == 0].tail(n=2))"
      ],
      "metadata": {
        "colab": {
          "base_uri": "https://localhost:8080/",
          "height": 378
        },
        "id": "hUHL0m8RsZGD",
        "outputId": "ba676227-6f41-4128-bbc5-825f688ff8db"
      },
      "execution_count": null,
      "outputs": [
        {
          "output_type": "execute_result",
          "data": {
            "text/plain": [
              "                  Datetime        Date  Year Month Day_of_week      Time  \\\n",
              "417    2020-03-17 20:49:00  2020-03-17  2020   Mar     Tuesday  20:49:00   \n",
              "418    2020-03-17 20:50:00  2020-03-17  2020   Mar     Tuesday  20:50:00   \n",
              "346966 2022-08-30 22:23:00  2022-08-30  2022   Aug     Tuesday  22:23:00   \n",
              "346967 2022-08-30 22:24:00  2022-08-30  2022   Aug     Tuesday  22:24:00   \n",
              "\n",
              "        Rain_Intensity_mm_h  radar_reflectivity_1_mm6m3  \\\n",
              "417                23.55615                 15159.06445   \n",
              "418                14.56254                  6636.11426   \n",
              "346966              0.00000                     0.00000   \n",
              "346967              0.00000                     0.00000   \n",
              "\n",
              "        Liquid_watercontent_g_m3  Mean_weight_diameter_mm  Time_integration_s  \\\n",
              "417                      1.06382                  1.86399                60.0   \n",
              "418                      0.72363                  1.61044                60.0   \n",
              "346966                   0.00000                  0.00000                60.0   \n",
              "346967                   0.00000                  0.00000                60.0   \n",
              "\n",
              "        Light_Rain  Moderate_Rain  Heavy_Rain  Very_Heavy_Rain  Without_Rain  \\\n",
              "417              0              0           1                0             0   \n",
              "418              0              0           1                0             0   \n",
              "346966           0              0           0                0             1   \n",
              "346967           0              0           0                0             1   \n",
              "\n",
              "        Class_Rain_id   Class_Rain Rainfall_Now  session  \n",
              "417                 3  Chuva forte            1  Evening  \n",
              "418                 3  Chuva forte            1  Evening  \n",
              "346966              0   Não choveu            0  Evening  \n",
              "346967              0   Não choveu            0  Evening  "
            ],
            "text/html": [
              "\n",
              "  <div id=\"df-227b384d-563d-4072-8e10-1e9db547aa27\">\n",
              "    <div class=\"colab-df-container\">\n",
              "      <div>\n",
              "<style scoped>\n",
              "    .dataframe tbody tr th:only-of-type {\n",
              "        vertical-align: middle;\n",
              "    }\n",
              "\n",
              "    .dataframe tbody tr th {\n",
              "        vertical-align: top;\n",
              "    }\n",
              "\n",
              "    .dataframe thead th {\n",
              "        text-align: right;\n",
              "    }\n",
              "</style>\n",
              "<table border=\"1\" class=\"dataframe\">\n",
              "  <thead>\n",
              "    <tr style=\"text-align: right;\">\n",
              "      <th></th>\n",
              "      <th>Datetime</th>\n",
              "      <th>Date</th>\n",
              "      <th>Year</th>\n",
              "      <th>Month</th>\n",
              "      <th>Day_of_week</th>\n",
              "      <th>Time</th>\n",
              "      <th>Rain_Intensity_mm_h</th>\n",
              "      <th>radar_reflectivity_1_mm6m3</th>\n",
              "      <th>Liquid_watercontent_g_m3</th>\n",
              "      <th>Mean_weight_diameter_mm</th>\n",
              "      <th>Time_integration_s</th>\n",
              "      <th>Light_Rain</th>\n",
              "      <th>Moderate_Rain</th>\n",
              "      <th>Heavy_Rain</th>\n",
              "      <th>Very_Heavy_Rain</th>\n",
              "      <th>Without_Rain</th>\n",
              "      <th>Class_Rain_id</th>\n",
              "      <th>Class_Rain</th>\n",
              "      <th>Rainfall_Now</th>\n",
              "      <th>session</th>\n",
              "    </tr>\n",
              "  </thead>\n",
              "  <tbody>\n",
              "    <tr>\n",
              "      <th>417</th>\n",
              "      <td>2020-03-17 20:49:00</td>\n",
              "      <td>2020-03-17</td>\n",
              "      <td>2020</td>\n",
              "      <td>Mar</td>\n",
              "      <td>Tuesday</td>\n",
              "      <td>20:49:00</td>\n",
              "      <td>23.55615</td>\n",
              "      <td>15159.06445</td>\n",
              "      <td>1.06382</td>\n",
              "      <td>1.86399</td>\n",
              "      <td>60.0</td>\n",
              "      <td>0</td>\n",
              "      <td>0</td>\n",
              "      <td>1</td>\n",
              "      <td>0</td>\n",
              "      <td>0</td>\n",
              "      <td>3</td>\n",
              "      <td>Chuva forte</td>\n",
              "      <td>1</td>\n",
              "      <td>Evening</td>\n",
              "    </tr>\n",
              "    <tr>\n",
              "      <th>418</th>\n",
              "      <td>2020-03-17 20:50:00</td>\n",
              "      <td>2020-03-17</td>\n",
              "      <td>2020</td>\n",
              "      <td>Mar</td>\n",
              "      <td>Tuesday</td>\n",
              "      <td>20:50:00</td>\n",
              "      <td>14.56254</td>\n",
              "      <td>6636.11426</td>\n",
              "      <td>0.72363</td>\n",
              "      <td>1.61044</td>\n",
              "      <td>60.0</td>\n",
              "      <td>0</td>\n",
              "      <td>0</td>\n",
              "      <td>1</td>\n",
              "      <td>0</td>\n",
              "      <td>0</td>\n",
              "      <td>3</td>\n",
              "      <td>Chuva forte</td>\n",
              "      <td>1</td>\n",
              "      <td>Evening</td>\n",
              "    </tr>\n",
              "    <tr>\n",
              "      <th>346966</th>\n",
              "      <td>2022-08-30 22:23:00</td>\n",
              "      <td>2022-08-30</td>\n",
              "      <td>2022</td>\n",
              "      <td>Aug</td>\n",
              "      <td>Tuesday</td>\n",
              "      <td>22:23:00</td>\n",
              "      <td>0.00000</td>\n",
              "      <td>0.00000</td>\n",
              "      <td>0.00000</td>\n",
              "      <td>0.00000</td>\n",
              "      <td>60.0</td>\n",
              "      <td>0</td>\n",
              "      <td>0</td>\n",
              "      <td>0</td>\n",
              "      <td>0</td>\n",
              "      <td>1</td>\n",
              "      <td>0</td>\n",
              "      <td>Não choveu</td>\n",
              "      <td>0</td>\n",
              "      <td>Evening</td>\n",
              "    </tr>\n",
              "    <tr>\n",
              "      <th>346967</th>\n",
              "      <td>2022-08-30 22:24:00</td>\n",
              "      <td>2022-08-30</td>\n",
              "      <td>2022</td>\n",
              "      <td>Aug</td>\n",
              "      <td>Tuesday</td>\n",
              "      <td>22:24:00</td>\n",
              "      <td>0.00000</td>\n",
              "      <td>0.00000</td>\n",
              "      <td>0.00000</td>\n",
              "      <td>0.00000</td>\n",
              "      <td>60.0</td>\n",
              "      <td>0</td>\n",
              "      <td>0</td>\n",
              "      <td>0</td>\n",
              "      <td>0</td>\n",
              "      <td>1</td>\n",
              "      <td>0</td>\n",
              "      <td>Não choveu</td>\n",
              "      <td>0</td>\n",
              "      <td>Evening</td>\n",
              "    </tr>\n",
              "  </tbody>\n",
              "</table>\n",
              "</div>\n",
              "      <button class=\"colab-df-convert\" onclick=\"convertToInteractive('df-227b384d-563d-4072-8e10-1e9db547aa27')\"\n",
              "              title=\"Convert this dataframe to an interactive table.\"\n",
              "              style=\"display:none;\">\n",
              "        \n",
              "  <svg xmlns=\"http://www.w3.org/2000/svg\" height=\"24px\"viewBox=\"0 0 24 24\"\n",
              "       width=\"24px\">\n",
              "    <path d=\"M0 0h24v24H0V0z\" fill=\"none\"/>\n",
              "    <path d=\"M18.56 5.44l.94 2.06.94-2.06 2.06-.94-2.06-.94-.94-2.06-.94 2.06-2.06.94zm-11 1L8.5 8.5l.94-2.06 2.06-.94-2.06-.94L8.5 2.5l-.94 2.06-2.06.94zm10 10l.94 2.06.94-2.06 2.06-.94-2.06-.94-.94-2.06-.94 2.06-2.06.94z\"/><path d=\"M17.41 7.96l-1.37-1.37c-.4-.4-.92-.59-1.43-.59-.52 0-1.04.2-1.43.59L10.3 9.45l-7.72 7.72c-.78.78-.78 2.05 0 2.83L4 21.41c.39.39.9.59 1.41.59.51 0 1.02-.2 1.41-.59l7.78-7.78 2.81-2.81c.8-.78.8-2.07 0-2.86zM5.41 20L4 18.59l7.72-7.72 1.47 1.35L5.41 20z\"/>\n",
              "  </svg>\n",
              "      </button>\n",
              "      \n",
              "  <style>\n",
              "    .colab-df-container {\n",
              "      display:flex;\n",
              "      flex-wrap:wrap;\n",
              "      gap: 12px;\n",
              "    }\n",
              "\n",
              "    .colab-df-convert {\n",
              "      background-color: #E8F0FE;\n",
              "      border: none;\n",
              "      border-radius: 50%;\n",
              "      cursor: pointer;\n",
              "      display: none;\n",
              "      fill: #1967D2;\n",
              "      height: 32px;\n",
              "      padding: 0 0 0 0;\n",
              "      width: 32px;\n",
              "    }\n",
              "\n",
              "    .colab-df-convert:hover {\n",
              "      background-color: #E2EBFA;\n",
              "      box-shadow: 0px 1px 2px rgba(60, 64, 67, 0.3), 0px 1px 3px 1px rgba(60, 64, 67, 0.15);\n",
              "      fill: #174EA6;\n",
              "    }\n",
              "\n",
              "    [theme=dark] .colab-df-convert {\n",
              "      background-color: #3B4455;\n",
              "      fill: #D2E3FC;\n",
              "    }\n",
              "\n",
              "    [theme=dark] .colab-df-convert:hover {\n",
              "      background-color: #434B5C;\n",
              "      box-shadow: 0px 1px 3px 1px rgba(0, 0, 0, 0.15);\n",
              "      filter: drop-shadow(0px 1px 2px rgba(0, 0, 0, 0.3));\n",
              "      fill: #FFFFFF;\n",
              "    }\n",
              "  </style>\n",
              "\n",
              "      <script>\n",
              "        const buttonEl =\n",
              "          document.querySelector('#df-227b384d-563d-4072-8e10-1e9db547aa27 button.colab-df-convert');\n",
              "        buttonEl.style.display =\n",
              "          google.colab.kernel.accessAllowed ? 'block' : 'none';\n",
              "\n",
              "        async function convertToInteractive(key) {\n",
              "          const element = document.querySelector('#df-227b384d-563d-4072-8e10-1e9db547aa27');\n",
              "          const dataTable =\n",
              "            await google.colab.kernel.invokeFunction('convertToInteractive',\n",
              "                                                     [key], {});\n",
              "          if (!dataTable) return;\n",
              "\n",
              "          const docLinkHtml = 'Like what you see? Visit the ' +\n",
              "            '<a target=\"_blank\" href=https://colab.research.google.com/notebooks/data_table.ipynb>data table notebook</a>'\n",
              "            + ' to learn more about interactive tables.';\n",
              "          element.innerHTML = '';\n",
              "          dataTable['output_type'] = 'display_data';\n",
              "          await google.colab.output.renderOutput(dataTable, element);\n",
              "          const docLink = document.createElement('div');\n",
              "          docLink.innerHTML = docLinkHtml;\n",
              "          element.appendChild(docLink);\n",
              "        }\n",
              "      </script>\n",
              "    </div>\n",
              "  </div>\n",
              "  "
            ]
          },
          "metadata": {},
          "execution_count": 135
        }
      ]
    },
    {
      "cell_type": "markdown",
      "source": [
        "Vamos ver o percentual de chuva para todo o período de dados."
      ],
      "metadata": {
        "id": "h0U2H-Jp7_vq"
      }
    },
    {
      "cell_type": "code",
      "execution_count": null,
      "metadata": {
        "colab": {
          "base_uri": "https://localhost:8080/"
        },
        "outputId": "9bb1ca11-5dfe-4b5c-d053-ac3918f60b71",
        "id": "oFwaVTxkePTw"
      },
      "outputs": [
        {
          "output_type": "stream",
          "name": "stdout",
          "text": [
            "Total de registros verificados: 346968\n",
            "\n",
            "Total de registros (CHUVA SIM): 23061 (6.65%)\n",
            "Total de registros (CHUVA NÃO): 323907 (93.35%)\n"
          ]
        }
      ],
      "source": [
        "tot_choveu, tot_nao_choveu = round(df_RD80_final.loc[df_RD80_final['Rain_Intensity_mm_h'] > 0].Rain_Intensity_mm_h.count()), round(df_RD80_final.loc[df_RD80_final['Rain_Intensity_mm_h'] == 0].Rain_Intensity_mm_h.count())\n",
        "\n",
        "soma = tot_choveu + tot_nao_choveu\n",
        "\n",
        "print(f'Total de registros verificados: {soma}\\n')\n",
        "print(f'Total de registros (CHUVA SIM): {tot_choveu} ({round((tot_choveu*100/soma), 2)}%)')\n",
        "print(f'Total de registros (CHUVA NÃO): {tot_nao_choveu} ({round((tot_nao_choveu*100/soma), 2)}%)')\n",
        "\n"
      ]
    },
    {
      "cell_type": "code",
      "execution_count": null,
      "metadata": {
        "colab": {
          "base_uri": "https://localhost:8080/",
          "height": 175
        },
        "outputId": "faa2b3da-1ce2-485e-abae-c347b5455351",
        "id": "HaFiNCuSePTx"
      },
      "outputs": [
        {
          "output_type": "execute_result",
          "data": {
            "text/plain": [
              "      Rain_Intensity_mm_h\n",
              "Year                     \n",
              "2022               254061\n",
              "2021                85256\n",
              "2020                 7651"
            ],
            "text/html": [
              "\n",
              "  <div id=\"df-598506b9-66d3-4ce3-a73c-d8fc2f192456\">\n",
              "    <div class=\"colab-df-container\">\n",
              "      <div>\n",
              "<style scoped>\n",
              "    .dataframe tbody tr th:only-of-type {\n",
              "        vertical-align: middle;\n",
              "    }\n",
              "\n",
              "    .dataframe tbody tr th {\n",
              "        vertical-align: top;\n",
              "    }\n",
              "\n",
              "    .dataframe thead th {\n",
              "        text-align: right;\n",
              "    }\n",
              "</style>\n",
              "<table border=\"1\" class=\"dataframe\">\n",
              "  <thead>\n",
              "    <tr style=\"text-align: right;\">\n",
              "      <th></th>\n",
              "      <th>Rain_Intensity_mm_h</th>\n",
              "    </tr>\n",
              "    <tr>\n",
              "      <th>Year</th>\n",
              "      <th></th>\n",
              "    </tr>\n",
              "  </thead>\n",
              "  <tbody>\n",
              "    <tr>\n",
              "      <th>2022</th>\n",
              "      <td>254061</td>\n",
              "    </tr>\n",
              "    <tr>\n",
              "      <th>2021</th>\n",
              "      <td>85256</td>\n",
              "    </tr>\n",
              "    <tr>\n",
              "      <th>2020</th>\n",
              "      <td>7651</td>\n",
              "    </tr>\n",
              "  </tbody>\n",
              "</table>\n",
              "</div>\n",
              "      <button class=\"colab-df-convert\" onclick=\"convertToInteractive('df-598506b9-66d3-4ce3-a73c-d8fc2f192456')\"\n",
              "              title=\"Convert this dataframe to an interactive table.\"\n",
              "              style=\"display:none;\">\n",
              "        \n",
              "  <svg xmlns=\"http://www.w3.org/2000/svg\" height=\"24px\"viewBox=\"0 0 24 24\"\n",
              "       width=\"24px\">\n",
              "    <path d=\"M0 0h24v24H0V0z\" fill=\"none\"/>\n",
              "    <path d=\"M18.56 5.44l.94 2.06.94-2.06 2.06-.94-2.06-.94-.94-2.06-.94 2.06-2.06.94zm-11 1L8.5 8.5l.94-2.06 2.06-.94-2.06-.94L8.5 2.5l-.94 2.06-2.06.94zm10 10l.94 2.06.94-2.06 2.06-.94-2.06-.94-.94-2.06-.94 2.06-2.06.94z\"/><path d=\"M17.41 7.96l-1.37-1.37c-.4-.4-.92-.59-1.43-.59-.52 0-1.04.2-1.43.59L10.3 9.45l-7.72 7.72c-.78.78-.78 2.05 0 2.83L4 21.41c.39.39.9.59 1.41.59.51 0 1.02-.2 1.41-.59l7.78-7.78 2.81-2.81c.8-.78.8-2.07 0-2.86zM5.41 20L4 18.59l7.72-7.72 1.47 1.35L5.41 20z\"/>\n",
              "  </svg>\n",
              "      </button>\n",
              "      \n",
              "  <style>\n",
              "    .colab-df-container {\n",
              "      display:flex;\n",
              "      flex-wrap:wrap;\n",
              "      gap: 12px;\n",
              "    }\n",
              "\n",
              "    .colab-df-convert {\n",
              "      background-color: #E8F0FE;\n",
              "      border: none;\n",
              "      border-radius: 50%;\n",
              "      cursor: pointer;\n",
              "      display: none;\n",
              "      fill: #1967D2;\n",
              "      height: 32px;\n",
              "      padding: 0 0 0 0;\n",
              "      width: 32px;\n",
              "    }\n",
              "\n",
              "    .colab-df-convert:hover {\n",
              "      background-color: #E2EBFA;\n",
              "      box-shadow: 0px 1px 2px rgba(60, 64, 67, 0.3), 0px 1px 3px 1px rgba(60, 64, 67, 0.15);\n",
              "      fill: #174EA6;\n",
              "    }\n",
              "\n",
              "    [theme=dark] .colab-df-convert {\n",
              "      background-color: #3B4455;\n",
              "      fill: #D2E3FC;\n",
              "    }\n",
              "\n",
              "    [theme=dark] .colab-df-convert:hover {\n",
              "      background-color: #434B5C;\n",
              "      box-shadow: 0px 1px 3px 1px rgba(0, 0, 0, 0.15);\n",
              "      filter: drop-shadow(0px 1px 2px rgba(0, 0, 0, 0.3));\n",
              "      fill: #FFFFFF;\n",
              "    }\n",
              "  </style>\n",
              "\n",
              "      <script>\n",
              "        const buttonEl =\n",
              "          document.querySelector('#df-598506b9-66d3-4ce3-a73c-d8fc2f192456 button.colab-df-convert');\n",
              "        buttonEl.style.display =\n",
              "          google.colab.kernel.accessAllowed ? 'block' : 'none';\n",
              "\n",
              "        async function convertToInteractive(key) {\n",
              "          const element = document.querySelector('#df-598506b9-66d3-4ce3-a73c-d8fc2f192456');\n",
              "          const dataTable =\n",
              "            await google.colab.kernel.invokeFunction('convertToInteractive',\n",
              "                                                     [key], {});\n",
              "          if (!dataTable) return;\n",
              "\n",
              "          const docLinkHtml = 'Like what you see? Visit the ' +\n",
              "            '<a target=\"_blank\" href=https://colab.research.google.com/notebooks/data_table.ipynb>data table notebook</a>'\n",
              "            + ' to learn more about interactive tables.';\n",
              "          element.innerHTML = '';\n",
              "          dataTable['output_type'] = 'display_data';\n",
              "          await google.colab.output.renderOutput(dataTable, element);\n",
              "          const docLink = document.createElement('div');\n",
              "          docLink.innerHTML = docLinkHtml;\n",
              "          element.appendChild(docLink);\n",
              "        }\n",
              "      </script>\n",
              "    </div>\n",
              "  </div>\n",
              "  "
            ]
          },
          "metadata": {},
          "execution_count": 137
        }
      ],
      "source": [
        "cont_reg_rain_year = df_RD80_final.groupby('Year').count()[['Rain_Intensity_mm_h']].sort_values(by = 'Rain_Intensity_mm_h', ascending = False)\n",
        "cont_reg_rain_year"
      ]
    },
    {
      "cell_type": "code",
      "execution_count": null,
      "metadata": {
        "colab": {
          "base_uri": "https://localhost:8080/",
          "height": 354
        },
        "outputId": "f145bfb2-0f04-4274-b76f-7886d44b596e",
        "id": "ptvgrxW1ePTw"
      },
      "outputs": [
        {
          "output_type": "display_data",
          "data": {
            "text/plain": [
              "<Figure size 1152x360 with 2 Axes>"
            ],
            "image/png": "[encoded data removed]"
          },
          "metadata": {
            "needs_background": "light"
          }
        }
      ],
      "source": [
        "fig, axes = plt.subplots(1, 2, figsize=(16, 5))\n",
        "sns.countplot(ax=axes[0], x='Month',data=df_RD80_final.loc[df_RD80_final['Rain_Intensity_mm_h'] > 0], order = df_RD80_final['Month'].value_counts().index)\n",
        "axes[0].set_title('ACUMULADO DE REGISTROS DE CHUVA POR MESES')\n",
        "axes[0].set_xlabel(\"Meses\", fontdict={'fontsize':14})\n",
        "axes[0].set_ylabel(\"Ocorrências\", fontdict={'fontsize':14})\n",
        "sns.countplot(ax=axes[1], x='Class_Rain',data=df_RD80_final.loc[df_RD80_final['Rain_Intensity_mm_h'] > 0], order = df_RD80_final['Class_Rain'].value_counts().index)\n",
        "axes[1].set_title('ACUMULADO DE REGISTROS DE CHUVA POR CATEGORIA DA CHUVA')\n",
        "axes[1].set_xlabel(\"Categoria\", fontdict={'fontsize':14})\n",
        "axes[1].set_ylabel(\"Ocorrências\", fontdict={'fontsize':14})\n",
        "\n",
        "plt.show()"
      ]
    },
    {
      "cell_type": "markdown",
      "metadata": {
        "id": "IDsTsIonePTy"
      },
      "source": [
        "Vamos separar os recursos **numéricos** e **categóricos**"
      ]
    },
    {
      "cell_type": "code",
      "execution_count": null,
      "metadata": {
        "colab": {
          "base_uri": "https://localhost:8080/"
        },
        "outputId": "1b67df1c-eca4-45fd-f719-bcca38a3305c",
        "id": "onouVPGnePTy"
      },
      "outputs": [
        {
          "output_type": "stream",
          "name": "stdout",
          "text": [
            "Numéricos: ['Datetime', 'Year', 'Rain_Intensity_mm_h', 'radar_reflectivity_1_mm6m3', 'Liquid_watercontent_g_m3', 'Mean_weight_diameter_mm', 'Time_integration_s', 'Light_Rain', 'Moderate_Rain', 'Heavy_Rain', 'Very_Heavy_Rain', 'Without_Rain', 'Class_Rain_id', 'session'] \n",
            "\n",
            "Categoricos: ['Date', 'Month', 'Day_of_week', 'Time', 'Class_Rain', 'Rainfall_Now']\n"
          ]
        }
      ],
      "source": [
        "#Separando recursos numéricos e categóricos\n",
        "\n",
        "categorical_features = [column_name for column_name in df_RD80_final.columns if df_RD80_final[column_name].dtype == 'O']\n",
        "numerical_features=[column_name for column_name in df_RD80_final.columns if df_RD80_final[column_name].dtype != 'O']\n",
        "print('Numéricos:',numerical_features,'\\n')\n",
        "print('Categoricos:',categorical_features)"
      ]
    },
    {
      "cell_type": "code",
      "execution_count": null,
      "metadata": {
        "colab": {
          "base_uri": "https://localhost:8080/",
          "height": 425
        },
        "outputId": "b47efd53-119a-4719-f14e-e07ba0eadeb1",
        "id": "5sooaib_ePTx"
      },
      "outputs": [
        {
          "output_type": "stream",
          "name": "stderr",
          "text": [
            "/usr/local/lib/python3.7/dist-packages/ipykernel_launcher.py:5: UserWarning: To output multiple subplots, the figure containing the passed axes is being cleared\n",
            "  \"\"\"\n"
          ]
        },
        {
          "output_type": "display_data",
          "data": {
            "text/plain": [
              "<Figure size 864x432 with 4 Axes>"
            ],
            "image/png": "[encoded data removed]"
          },
          "metadata": {
            "needs_background": "light"
          }
        }
      ],
      "source": [
        "#Vamos plotar o gráfico em dados numéricos\n",
        "df_numeric = df_RD80_final[['Rain_Intensity_mm_h', 'radar_reflectivity_1_mm6m3', 'Liquid_watercontent_g_m3', 'Mean_weight_diameter_mm']]\n",
        "fig = plt.figure(figsize = (12,6))\n",
        "ax = fig.gca()\n",
        "df_numeric.loc[df_numeric['Rain_Intensity_mm_h'] > 0].hist(ax=ax)\n",
        "\n",
        "plt.show()"
      ]
    },
    {
      "cell_type": "markdown",
      "metadata": {
        "id": "r2hjOPl-dfzR"
      },
      "source": [
        "## **Encontrando as Correlações**"
      ]
    },
    {
      "cell_type": "code",
      "execution_count": null,
      "metadata": {
        "colab": {
          "base_uri": "https://localhost:8080/"
        },
        "outputId": "fc647e1c-3de2-47aa-ee23-7fceadc36129",
        "id": "yzcECWGeePTy"
      },
      "outputs": [
        {
          "output_type": "stream",
          "name": "stdout",
          "text": [
            "<class 'pandas.core.frame.DataFrame'>\n",
            "Int64Index: 346968 entries, 0 to 346967\n",
            "Data columns (total 20 columns):\n",
            " #   Column                      Non-Null Count   Dtype         \n",
            "---  ------                      --------------   -----         \n",
            " 0   Datetime                    346968 non-null  datetime64[ns]\n",
            " 1   Date                        346968 non-null  object        \n",
            " 2   Year                        346968 non-null  int64         \n",
            " 3   Month                       346968 non-null  object        \n",
            " 4   Day_of_week                 346968 non-null  object        \n",
            " 5   Time                        346968 non-null  object        \n",
            " 6   Rain_Intensity_mm_h         346968 non-null  float64       \n",
            " 7   radar_reflectivity_1_mm6m3  346968 non-null  float64       \n",
            " 8   Liquid_watercontent_g_m3    346968 non-null  float64       \n",
            " 9   Mean_weight_diameter_mm     346968 non-null  float64       \n",
            " 10  Time_integration_s          346968 non-null  float64       \n",
            " 11  Light_Rain                  346968 non-null  int64         \n",
            " 12  Moderate_Rain               346968 non-null  int64         \n",
            " 13  Heavy_Rain                  346968 non-null  int64         \n",
            " 14  Very_Heavy_Rain             346968 non-null  int64         \n",
            " 15  Without_Rain                346968 non-null  int64         \n",
            " 16  Class_Rain_id               346968 non-null  int64         \n",
            " 17  Class_Rain                  346968 non-null  object        \n",
            " 18  Rainfall_Now                346968 non-null  object        \n",
            " 19  session                     346968 non-null  category      \n",
            "dtypes: category(1), datetime64[ns](1), float64(5), int64(7), object(6)\n",
            "memory usage: 53.3+ MB\n"
          ]
        }
      ],
      "source": [
        "df_RD80_final.info()"
      ]
    },
    {
      "cell_type": "code",
      "source": [
        "#Modificanto o tipo da coluna Rainfall_Now para (int)\n",
        "df_RD80_final[['Rainfall_Now']] = df_RD80_final[['Rainfall_Now']].astype(int)"
      ],
      "metadata": {
        "id": "t6aHG1fzNRq4"
      },
      "execution_count": null,
      "outputs": []
    },
    {
      "cell_type": "markdown",
      "source": [
        "HeatMap - Variáveis categóricas VS Númericas"
      ],
      "metadata": {
        "id": "ykpzLjjtCsW9"
      }
    },
    {
      "cell_type": "code",
      "source": [
        "queres = ['Year', 'Month','Day_of_week','session']\n",
        "names = ['Ano', 'Mês','Dia da semana','Sessão do dia']\n",
        "\n",
        "\n",
        "fig = plt.figure(figsize=(16,8),dpi=80)\n",
        "ax = fig.gca()\n",
        "#plt.suptitle('HeatMap - Variáveis categóricas VS Númericas', size=14)\n",
        "for res in range(0,4):\n",
        "  result = pd.pivot_table(data=df_RD80_final, index=queres[res], columns='Class_Rain', values='Rain_Intensity_mm_h')\n",
        "  plt.subplot(2,2,res+1)\n",
        "  heatmap = sns.heatmap(result, annot=True, cmap = 'RdYlGn', center=0.117)\n",
        "  heatmap.set_title(names[res] + ' vs Categoria da chuva vs Intensidade da chuva (mm/h)', fontdict={'fontsize':11});\n",
        "  plt.ylabel(names[res], fontdict={'fontsize':14})\n",
        "  plt.xlabel(\"Categoria da chuva\", fontdict={'fontsize':14})\n",
        "  plt.tight_layout()\n",
        "  plt.savefig('heatmap2.png')\n",
        "plt.show()"
      ],
      "metadata": {
        "colab": {
          "base_uri": "https://localhost:8080/",
          "height": 648
        },
        "id": "K3FsFwiUxhN7",
        "outputId": "f9c23e8b-31e8-4ad5-b800-224fa6326dce"
      },
      "execution_count": null,
      "outputs": [
        {
          "output_type": "display_data",
          "data": {
            "text/plain": [
              "<Figure size 1280x640 with 8 Axes>"
            ],
            "image/png": "[encoded data removed]"
          },
          "metadata": {
            "needs_background": "light"
          }
        }
      ]
    },
    {
      "cell_type": "markdown",
      "source": [
        "**Encontrando as Correlações no Heatmap**"
      ],
      "metadata": {
        "id": "sHI_ctDkPyXE"
      }
    },
    {
      "cell_type": "code",
      "execution_count": null,
      "metadata": {
        "colab": {
          "base_uri": "https://localhost:8080/",
          "height": 507
        },
        "outputId": "5149f96d-2425-4a2b-eec1-7db2a5854e09",
        "id": "Nx3G9fl_dfzR"
      },
      "outputs": [
        {
          "output_type": "display_data",
          "data": {
            "text/plain": [
              "<Figure size 1296x432 with 2 Axes>"
            ],
            "image/png": "[encoded data removed]"
          },
          "metadata": {
            "needs_background": "light"
          }
        }
      ],
      "source": [
        "#Encontrando a Correlação no Heatmap\n",
        "\n",
        "matrix = np.triu(df_RD80_final.corr())\n",
        "plt.figure(figsize=(18,6));\n",
        "sns.heatmap(df_RD80_final.corr(),mask=matrix, annot=True, cmap='bwr_r');"
      ]
    },
    {
      "cell_type": "markdown",
      "metadata": {
        "id": "dmZYUqhsePTt"
      },
      "source": [
        "Vamos selecionar somente as colunas que iremos utilizar a partir daqui."
      ]
    },
    {
      "cell_type": "code",
      "execution_count": null,
      "metadata": {
        "id": "RYPUuuOjePTv"
      },
      "outputs": [],
      "source": [
        "#df_RD80_final.drop('Datetime', axis = 1, inplace = True)"
      ]
    },
    {
      "cell_type": "code",
      "execution_count": null,
      "metadata": {
        "colab": {
          "base_uri": "https://localhost:8080/"
        },
        "outputId": "6c75fbb2-d22b-41c6-b071-a695c80a93f5",
        "id": "Nz1iGa8UePTt"
      },
      "outputs": [
        {
          "output_type": "execute_result",
          "data": {
            "text/plain": [
              "Index(['Datetime', 'Date', 'Year', 'Month', 'Day_of_week', 'Time',\n",
              "       'Rain_Intensity_mm_h', 'radar_reflectivity_1_mm6m3',\n",
              "       'Liquid_watercontent_g_m3', 'Mean_weight_diameter_mm',\n",
              "       'Time_integration_s', 'Light_Rain', 'Moderate_Rain', 'Heavy_Rain',\n",
              "       'Very_Heavy_Rain', 'Without_Rain', 'Class_Rain_id', 'Class_Rain',\n",
              "       'Rainfall_Now', 'session'],\n",
              "      dtype='object')"
            ]
          },
          "metadata": {},
          "execution_count": 146
        }
      ],
      "source": [
        "df_RD80_final.columns"
      ]
    },
    {
      "cell_type": "code",
      "source": [
        "data_x = df_RD80_final.drop(['Datetime', 'Date', 'Year', 'Month', 'Day_of_week', 'Time' ,\n",
        "       'Time_integration_s', 'Light_Rain', 'Moderate_Rain', 'Heavy_Rain',\n",
        "       'Very_Heavy_Rain', 'Without_Rain', 'Class_Rain_id', 'Class_Rain',\n",
        "       'Rainfall_Now', 'session'], axis=1)\n",
        "\n",
        "data_y = df_RD80_final[['Rainfall_Now']]\n"
      ],
      "metadata": {
        "id": "SnG1Axo9Leh8"
      },
      "execution_count": null,
      "outputs": []
    },
    {
      "cell_type": "code",
      "source": [
        "data_x.info()"
      ],
      "metadata": {
        "colab": {
          "base_uri": "https://localhost:8080/"
        },
        "id": "SZjRpAo8LefM",
        "outputId": "d7ec3e61-2f76-4b40-ccb3-ea938bbc9355"
      },
      "execution_count": null,
      "outputs": [
        {
          "output_type": "stream",
          "name": "stdout",
          "text": [
            "<class 'pandas.core.frame.DataFrame'>\n",
            "Int64Index: 346968 entries, 0 to 346967\n",
            "Data columns (total 4 columns):\n",
            " #   Column                      Non-Null Count   Dtype  \n",
            "---  ------                      --------------   -----  \n",
            " 0   Rain_Intensity_mm_h         346968 non-null  float64\n",
            " 1   radar_reflectivity_1_mm6m3  346968 non-null  float64\n",
            " 2   Liquid_watercontent_g_m3    346968 non-null  float64\n",
            " 3   Mean_weight_diameter_mm     346968 non-null  float64\n",
            "dtypes: float64(4)\n",
            "memory usage: 13.2 MB\n"
          ]
        }
      ]
    },
    {
      "cell_type": "code",
      "source": [
        "scaler = RobustScaler()\n",
        "data_x = pd.DataFrame(scaler.fit_transform(data_x), columns = data_x.columns)"
      ],
      "metadata": {
        "id": "aaiB92sDKrWO"
      },
      "execution_count": null,
      "outputs": []
    },
    {
      "cell_type": "code",
      "source": [
        "data_x.info()"
      ],
      "metadata": {
        "colab": {
          "base_uri": "https://localhost:8080/"
        },
        "id": "vaj4fwZkK0Qs",
        "outputId": "1ea742cc-9cea-4e9b-b742-69ed577034af"
      },
      "execution_count": null,
      "outputs": [
        {
          "output_type": "stream",
          "name": "stdout",
          "text": [
            "<class 'pandas.core.frame.DataFrame'>\n",
            "RangeIndex: 346968 entries, 0 to 346967\n",
            "Data columns (total 4 columns):\n",
            " #   Column                      Non-Null Count   Dtype  \n",
            "---  ------                      --------------   -----  \n",
            " 0   Rain_Intensity_mm_h         346968 non-null  float64\n",
            " 1   radar_reflectivity_1_mm6m3  346968 non-null  float64\n",
            " 2   Liquid_watercontent_g_m3    346968 non-null  float64\n",
            " 3   Mean_weight_diameter_mm     346968 non-null  float64\n",
            "dtypes: float64(4)\n",
            "memory usage: 10.6 MB\n"
          ]
        }
      ]
    },
    {
      "cell_type": "markdown",
      "source": [
        "**Vamos dividir os dados em Treino e Teste**"
      ],
      "metadata": {
        "id": "33W_eVyZK4c4"
      }
    },
    {
      "cell_type": "code",
      "source": [
        "#X_train, X_test, Y_train, Y_test = train_test_split(data_x, data_y, test_size = 0.25, random_state=42) #25% Test"
      ],
      "metadata": {
        "id": "G3JSglWgK-Lq"
      },
      "execution_count": null,
      "outputs": []
    },
    {
      "cell_type": "code",
      "source": [
        "# treino, teste, cv com 0.6, 0.2 e 0.2 proporções\n",
        "\n",
        "x, X_test, y, Y_test = train_test_split(data_x, data_y, test_size=0.2, train_size=0.8)\n",
        "\n",
        "X_train, x_cv, Y_train, y_cv = train_test_split(x, y, test_size = 0.25, train_size =0.75)"
      ],
      "metadata": {
        "id": "9FJGhymnssXK"
      },
      "execution_count": null,
      "outputs": []
    },
    {
      "cell_type": "code",
      "source": [
        "print(data_x.shape,X_train.shape,X_test.shape)"
      ],
      "metadata": {
        "colab": {
          "base_uri": "https://localhost:8080/"
        },
        "id": "2NCY4x8DLMYn",
        "outputId": "8698a8c1-fb32-4a8a-b3fa-59014fdb3dd1"
      },
      "execution_count": null,
      "outputs": [
        {
          "output_type": "stream",
          "name": "stdout",
          "text": [
            "(346968, 4) (208180, 4) (69394, 4)\n"
          ]
        }
      ]
    },
    {
      "cell_type": "markdown",
      "source": [
        "## **Definições do Modelo de Rede Neural**"
      ],
      "metadata": {
        "id": "nt9BSI9RLVJK"
      }
    },
    {
      "cell_type": "code",
      "source": [
        "EPOCHS = 500\n",
        "batch_size = 128\n",
        "input_dim = len(X_train.columns)\n",
        "\n",
        "# SGD como função de otimização\n",
        "sgd = tf.keras.optimizers.SGD(learning_rate= 0.01, momentum = 0.6)\n",
        "\n",
        "# Instancia de um modelo de classificação binária\n",
        "model = keras.Sequential(\n",
        "    [\n",
        "        keras.layers.Dense(128, input_dim=input_dim, activation=\"relu\"),\n",
        "        keras.layers.Dropout(0.3),\n",
        "        keras.layers.Dense(64, kernel_regularizer=tf.keras.regularizers.l2(l=0.02), activation=\"relu\"),\n",
        "        keras.layers.Dropout(0.3),\n",
        "        keras.layers.Dense(64, kernel_regularizer=tf.keras.regularizers.l2(l=0.02),activation=\"relu\"),\n",
        "        keras.layers.Dropout(0.3),\n",
        "        keras.layers.Dense(64, kernel_regularizer=tf.keras.regularizers.l2(l=0.02),activation=\"relu\"),\n",
        "        keras.layers.Dense(32, kernel_regularizer=tf.keras.regularizers.l2(l=0.02),activation=\"relu\"),\n",
        "        keras.layers.Dense(16, kernel_regularizer=tf.keras.regularizers.l2(l=0.02),activation=\"relu\"),\n",
        "        keras.layers.Dense(8, activation=\"relu\"),\n",
        "        keras.layers.Dense(1, activation=\"sigmoid\")\n",
        "    ]\n",
        ")\n",
        "\n",
        "# Instancia uma função de perda logística que espera alvos de número inteiro.\n",
        "binary_crossentropy = tf.keras.losses.BinaryCrossentropy()\n",
        "\n",
        "# Instancia uma métrica de precisão.\n",
        "accuracy = tf.keras.metrics.BinaryAccuracy(\n",
        "    name=\"binary_accuracy\", dtype=None, threshold=0.5\n",
        ")\n",
        "\n",
        "lr_schedule = keras.optimizers.schedules.ExponentialDecay(\n",
        "    0.0015, decay_steps=5000, decay_rate=0.95, staircase=True\n",
        ")\n",
        "\n",
        "# Adicionando as funções ao modelo\n",
        "\n",
        "#optimizer=keras.optimizers.Adam(learning_rate=lr_schedule)\n",
        "model.compile(optimizer=keras.optimizers.Adam(learning_rate=lr_schedule), loss=binary_crossentropy, metrics=[accuracy])\n"
      ],
      "metadata": {
        "id": "K8tZ46tDLeZP"
      },
      "execution_count": null,
      "outputs": []
    },
    {
      "cell_type": "code",
      "source": [
        "tf.keras.utils.plot_model(model, show_shapes=True)"
      ],
      "metadata": {
        "colab": {
          "base_uri": "https://localhost:8080/",
          "height": 1000
        },
        "id": "kKW3c1AbvDQP",
        "outputId": "6e83b64d-48c4-4c4b-b64e-a420a09cdf8e"
      },
      "execution_count": null,
      "outputs": [
        {
          "output_type": "execute_result",
          "data": {
            "image/png": "[encoded data removed]",
            "text/plain": [
              "<IPython.core.display.Image object>"
            ]
          },
          "metadata": {},
          "execution_count": 155
        }
      ]
    },
    {
      "cell_type": "code",
      "source": [
        "model.summary()"
      ],
      "metadata": {
        "colab": {
          "base_uri": "https://localhost:8080/"
        },
        "id": "Y-mS5OTh4xMV",
        "outputId": "88e24e09-7de9-4399-f3b1-900fdc3fdc31"
      },
      "execution_count": null,
      "outputs": [
        {
          "output_type": "stream",
          "name": "stdout",
          "text": [
            "Model: \"sequential_5\"\n",
            "_________________________________________________________________\n",
            " Layer (type)                Output Shape              Param #   \n",
            "=================================================================\n",
            " dense_40 (Dense)            (None, 128)               640       \n",
            "                                                                 \n",
            " dropout_15 (Dropout)        (None, 128)               0         \n",
            "                                                                 \n",
            " dense_41 (Dense)            (None, 64)                8256      \n",
            "                                                                 \n",
            " dropout_16 (Dropout)        (None, 64)                0         \n",
            "                                                                 \n",
            " dense_42 (Dense)            (None, 64)                4160      \n",
            "                                                                 \n",
            " dropout_17 (Dropout)        (None, 64)                0         \n",
            "                                                                 \n",
            " dense_43 (Dense)            (None, 64)                4160      \n",
            "                                                                 \n",
            " dense_44 (Dense)            (None, 32)                2080      \n",
            "                                                                 \n",
            " dense_45 (Dense)            (None, 16)                528       \n",
            "                                                                 \n",
            " dense_46 (Dense)            (None, 8)                 136       \n",
            "                                                                 \n",
            " dense_47 (Dense)            (None, 1)                 9         \n",
            "                                                                 \n",
            "=================================================================\n",
            "Total params: 19,969\n",
            "Trainable params: 19,969\n",
            "Non-trainable params: 0\n",
            "_________________________________________________________________\n"
          ]
        }
      ]
    },
    {
      "cell_type": "code",
      "source": [
        "df_RD80_final['Minuto'] = pd.to_datetime(df_RD80_final['Datetime']).dt.minute"
      ],
      "metadata": {
        "id": "VWx_df84nRGC"
      },
      "execution_count": null,
      "outputs": []
    },
    {
      "cell_type": "code",
      "source": [
        "df_RD80_final = df_RD80_final.loc[df_RD80_final['Minuto'] == 1]"
      ],
      "metadata": {
        "id": "uReo5tu1p9QC"
      },
      "execution_count": null,
      "outputs": []
    },
    {
      "cell_type": "markdown",
      "source": [
        "## **Treinamento do modelo**"
      ],
      "metadata": {
        "id": "nsNiP9pEfSYa"
      }
    },
    {
      "cell_type": "code",
      "source": [
        "# Treino loops (epocas)\n",
        "history = model.fit(X_train, Y_train, validation_data=((x_cv, y_cv)), epochs=EPOCHS, batch_size=batch_size)"
      ],
      "metadata": {
        "id": "8anY_QXbfVAU"
      },
      "execution_count": null,
      "outputs": []
    },
    {
      "cell_type": "markdown",
      "source": [
        "## **Resultados do Treinamento**"
      ],
      "metadata": {
        "id": "R5q7RmtRlcTr"
      }
    },
    {
      "cell_type": "code",
      "source": [
        "fig, (ax1, ax2) = plt.subplots(1, 2, figsize=(18, 5))\n",
        "ax1.plot(history.history['binary_accuracy'])\n",
        "ax1.plot(history.history['val_binary_accuracy'])\n",
        "ax1.set_title('Acurácia do modelo de Rede Neural')\n",
        "ax1.set_ylabel('Acurácia',fontdict={'fontsize':14})\n",
        "ax1.set_xlabel('Épocas',fontdict={'fontsize':14})\n",
        "ax1.legend(['MLP - Treino', 'MLP - Validação'], loc='lower right')\n",
        "ax1.grid()\n",
        "\n",
        "ax2.plot(history.history['loss'])\n",
        "ax2.plot(history.history['val_loss'])\n",
        "ax2.set_title('Perda do modelo de Rede Neural')\n",
        "ax2.set_ylabel('Perda',fontdict={'fontsize':14})\n",
        "ax2.set_xlabel('Épocas',fontdict={'fontsize':14})\n",
        "ax2.legend(['MLP - Treino', 'MLP - Validação'], loc='upper left')\n",
        "ax2.grid()"
      ],
      "metadata": {
        "colab": {
          "base_uri": "https://localhost:8080/",
          "height": 356
        },
        "id": "5-Zho-h_5kX7",
        "outputId": "fe2cbe49-ea7d-4e62-def1-c8e0a95c21c6"
      },
      "execution_count": null,
      "outputs": [
        {
          "output_type": "display_data",
          "data": {
            "text/plain": [
              "<Figure size 1296x360 with 2 Axes>"
            ],
            "image/png": "[encoded data removed]"
          },
          "metadata": {
            "needs_background": "light"
          }
        }
      ]
    },
    {
      "cell_type": "markdown",
      "metadata": {
        "id": "CB9O_A4e_xQ4"
      },
      "source": [
        "Qual foi a época do treino em que apresentou baixa perda de valor?"
      ]
    },
    {
      "cell_type": "code",
      "execution_count": null,
      "metadata": {
        "id": "Ae4OkhPF_xQ4",
        "colab": {
          "base_uri": "https://localhost:8080/"
        },
        "outputId": "97639707-4d0a-41d2-a2c8-3476b4e3888e"
      },
      "outputs": [
        {
          "output_type": "stream",
          "name": "stdout",
          "text": [
            "A época que apresentou uma baixa perda de valor foi: 288\n"
          ]
        }
      ],
      "source": [
        "res_epoch = np.argmin(history.history['val_loss'])\n",
        "print(f'A época que apresentou uma baixa perda de valor foi: {res_epoch}')"
      ]
    },
    {
      "cell_type": "markdown",
      "source": [
        "## **Avaliação do Modelo**"
      ],
      "metadata": {
        "id": "xYHt2CZall7A"
      }
    },
    {
      "cell_type": "markdown",
      "metadata": {
        "id": "UtS2OO_z_xQ4"
      },
      "source": [
        "**Acurácia do Modelo**"
      ]
    },
    {
      "cell_type": "code",
      "source": [
        "y_tested = Y_test.to_numpy()\n",
        "\n",
        "\n",
        "y_pred1 = model.predict(X_test)\n",
        "classes = y_pred1 > 0.5\n",
        "\n",
        "m = tf.keras.metrics.BinaryAccuracy(name='binary_accuracy', dtype=None, threshold=0.5)\n",
        "m.update_state(classes,y_tested)\n",
        "m.result().numpy()"
      ],
      "metadata": {
        "colab": {
          "base_uri": "https://localhost:8080/"
        },
        "id": "XhICsO9GsEvF",
        "outputId": "cea8101b-260f-46b2-cc0d-0c3090f54a2a"
      },
      "execution_count": null,
      "outputs": [
        {
          "output_type": "execute_result",
          "data": {
            "text/plain": [
              "0.99992794"
            ]
          },
          "metadata": {},
          "execution_count": 160
        }
      ]
    },
    {
      "cell_type": "code",
      "execution_count": null,
      "metadata": {
        "colab": {
          "base_uri": "https://localhost:8080/"
        },
        "id": "fc2H_edk_xQ4",
        "outputId": "8e77b25c-4c0d-4fdd-a9f0-547de226f738"
      },
      "outputs": [
        {
          "output_type": "stream",
          "name": "stdout",
          "text": [
            "Acurácia do Modelo : 0.9999%\n"
          ]
        }
      ],
      "source": [
        "print(f'Acurácia do Modelo : {round(model.evaluate(X_test, Y_test, verbose = 0)[1],4)}%')"
      ]
    },
    {
      "cell_type": "code",
      "execution_count": null,
      "metadata": {
        "colab": {
          "base_uri": "https://localhost:8080/"
        },
        "id": "FzvZf8qE_xQ5",
        "outputId": "7cf38d4f-c0e2-4de8-95b7-9a57148e122c"
      },
      "outputs": [
        {
          "output_type": "stream",
          "name": "stdout",
          "text": [
            "F1 Score : 0.0 \n"
          ]
        }
      ],
      "source": [
        "y_pred = model.predict(X_test)\n",
        "y_pred = list(map(lambda x: np.argmax(x), y_pred))\n",
        "print(f'F1 Score : {f1_score(Y_test, y_pred)} ')"
      ]
    },
    {
      "cell_type": "code",
      "source": [
        "score = model.evaluate(X_test, Y_test, verbose=1)\n",
        "print('Modelo')\n",
        "print('Teste loss:',   score[0])\n",
        "print('Teste métricas:', score[1])\n",
        "#print(f'Taxa de acerto: {round((accuracy_score(Y_test,y_pred)* 100),2)}%')\n",
        "print('----------------------------------------')"
      ],
      "metadata": {
        "colab": {
          "base_uri": "https://localhost:8080/"
        },
        "id": "Se7cAbEFk-Np",
        "outputId": "0d32e430-1ec5-43fd-a83e-75d54c6dd10a"
      },
      "execution_count": null,
      "outputs": [
        {
          "output_type": "stream",
          "name": "stdout",
          "text": [
            "2169/2169 [==============================] - 6s 3ms/step - loss: 0.0045 - binary_accuracy: 0.9999\n",
            "Modelo\n",
            "Teste loss: 0.004466751124709845\n",
            "Teste métricas: 0.9999279379844666\n",
            "----------------------------------------\n"
          ]
        }
      ]
    },
    {
      "cell_type": "markdown",
      "metadata": {
        "id": "jshRS29A_xQ5"
      },
      "source": [
        "**Matriz de confusão**\n",
        "\n",
        "A matriz de confusão nos permitirá visualizar facilmente quantos exemplos foram classificados corretamente e erroneamente em cada classe, que ajuda a entender se o modelo está favorecendo uma classe em detrimento da outra."
      ]
    },
    {
      "cell_type": "code",
      "execution_count": null,
      "metadata": {
        "id": "63GeiqLhKXzo"
      },
      "outputs": [],
      "source": [
        "def make_confusion_matrix(y_test,y_pred):\n",
        "    cm = confusion_matrix(y_test,y_pred)\n",
        "\n",
        "    group_names = ['True Negativo','False Positivo','False Negativo','True Positivo']\n",
        "    group_counts = [\"{0:0.0f}\".format(value) for value in cm.flatten()]\n",
        "    group_percentages = [\"{0:.2%}\".format(value) for value in cm.flatten()/np.sum(cm)]\n",
        "\n",
        "    labels = [f'{v1}\\n{v2}\\n{v3}' for v1, v2, v3 in zip(group_names,group_counts,group_percentages)]\n",
        "    labels = np.asarray(labels).reshape(2,2)\n",
        "\n",
        "    categories = ['Sem chuva','Com chuva']\n",
        "    fig = plt.figure(figsize=(8,6),dpi=80)\n",
        "    ax = fig.gca()\n",
        "    plt.title(\"Matriz de confusão\",fontdict={'fontsize':16})\n",
        "    sns.heatmap(cm, annot=labels, fmt='',xticklabels=categories,yticklabels=categories)\n",
        "    plt.ylabel('Rótulo verdadeiro',fontdict={'fontsize':14})\n",
        "    plt.xlabel('Rótulo previsto',fontdict={'fontsize':14})\n",
        "    plt.show()"
      ]
    },
    {
      "cell_type": "code",
      "execution_count": null,
      "metadata": {
        "colab": {
          "base_uri": "https://localhost:8080/",
          "height": 454
        },
        "id": "eSCysUXiKXzp",
        "outputId": "3e663b13-3a54-4ed6-899d-89ca27cbd014"
      },
      "outputs": [
        {
          "output_type": "display_data",
          "data": {
            "text/plain": [
              "<Figure size 640x480 with 2 Axes>"
            ],
            "image/png": "[encoded data removed]"
          },
          "metadata": {
            "needs_background": "light"
          }
        }
      ],
      "source": [
        "make_confusion_matrix(Y_test, y_pred)"
      ]
    },
    {
      "cell_type": "code",
      "source": [],
      "metadata": {
        "id": "LKd37xvlfP1r"
      },
      "execution_count": null,
      "outputs": []
    },
    {
      "cell_type": "code",
      "source": [],
      "metadata": {
        "id": "nrUDdnlQfSKQ"
      },
      "execution_count": null,
      "outputs": []
    },
    {
      "cell_type": "code",
      "source": [],
      "metadata": {
        "id": "ozsqYYJyfTIa"
      },
      "execution_count": null,
      "outputs": []
    },
    {
      "cell_type": "code",
      "source": [],
      "metadata": {
        "id": "Hh8v306nfTEA"
      },
      "execution_count": null,
      "outputs": []
    },
    {
      "cell_type": "code",
      "source": [],
      "metadata": {
        "id": "AXJ9PF4yfTAj"
      },
      "execution_count": null,
      "outputs": []
    },
    {
      "cell_type": "markdown",
      "source": [
        "# **Classificação da chuva usando Redes Neurais Multi-Layer Perceptron (MLP)**\n",
        "\n",
        "Neural Networks (MLPs): camadas usando combinações lineares de recursos com uma função de ativação não linear.\n",
        "\n",
        "Redes do tipo Multi-Layer Perceptron (MLP), são estruturas organizadas em múltiplas camadas, capazes de aprender padrões, e identificar classificações de saída em qualquer modelo multivariado.A figura abaixo ilustra a configuração de uma rede em multicamadas e suas conexões sinápticas."
      ],
      "metadata": {
        "id": "5LFgskwt4oxR"
      }
    },
    {
      "cell_type": "code",
      "source": [
        "import numpy as np\n",
        "import scipy as sp\n",
        "import pandas as pd\n",
        "import matplotlib.pyplot as plt\n",
        "import seaborn as sns\n",
        "import warnings\n",
        "warnings.simplefilter('ignore')"
      ],
      "metadata": {
        "id": "HGEEf3vx5OhC"
      },
      "execution_count": null,
      "outputs": []
    },
    {
      "cell_type": "code",
      "source": [
        "%matplotlib inline"
      ],
      "metadata": {
        "id": "-yG2y_JF5QHK"
      },
      "execution_count": null,
      "outputs": []
    },
    {
      "cell_type": "code",
      "source": [
        "from sklearn.neighbors import KNeighborsClassifier\n",
        "from sklearn.naive_bayes import GaussianNB\n",
        "from sklearn.linear_model import LogisticRegression\n",
        "from sklearn.svm import SVC\n",
        "from sklearn.tree import DecisionTreeClassifier\n",
        "from sklearn.ensemble import RandomForestClassifier\n",
        "from sklearn.neural_network import MLPClassifier\n",
        "from sklearn.preprocessing import LabelEncoder\n",
        "from sklearn.model_selection import train_test_split\n",
        "from sklearn.metrics import classification_report, accuracy_score\n",
        "from sklearn.metrics import f1_score, plot_confusion_matrix, mean_squared_error, mean_absolute_error,confusion_matrix, accuracy_score\n",
        "\n",
        "from sklearn.preprocessing import StandardScaler\n",
        "from sklearn.decomposition import PCA\n",
        "\n",
        "\n",
        "import tensorflow as tf\n",
        "from tensorflow import keras\n",
        "from keras.models import Sequential\n",
        "from keras.layers import Dense, Dropout, LSTM,Flatten\n",
        "from keras.activations import sigmoid, softmax\n"
      ],
      "metadata": {
        "id": "qdYbJfon42tx"
      },
      "execution_count": null,
      "outputs": []
    },
    {
      "cell_type": "code",
      "execution_count": null,
      "metadata": {
        "colab": {
          "base_uri": "https://localhost:8080/"
        },
        "outputId": "50a04f63-6aaf-4866-a7f4-a5fb158080a6",
        "id": "2w4OTyMB43DS"
      },
      "outputs": [
        {
          "output_type": "stream",
          "name": "stdout",
          "text": [
            "/usr/local/lib/python3.7/dist-packages/gdown/cli.py:131: FutureWarning: Option `--id` was deprecated in version 4.3.1 and will be removed in 5.0. You don't need to pass it anymore to use a file ID.\n",
            "  category=FutureWarning,\n",
            "Downloading...\n",
            "From: https://drive.google.com/uc?id=1-OrjDXmZtcgtC25HVrH52llyUmclvpXs\n",
            "To: /content/df_MP3000A_RD80_final.csv\n",
            "100% 508M/508M [00:02<00:00, 239MB/s]\n"
          ]
        }
      ],
      "source": [
        "#Vamos baixar os dados do Google Drive para o ambiente de execução do nosso Notebook\n",
        "#!gdown --id 15BiqUppgOvLOZUVRLFxcxdmP5ZQxLZE2\n",
        "\n",
        "#!gdown --id 1vV99gFuJ7i8MXXjFhEAsF3w1988ZNTQ_\n",
        "\n",
        "!gdown --id 1-OrjDXmZtcgtC25HVrH52llyUmclvpXs"
      ]
    },
    {
      "cell_type": "code",
      "execution_count": null,
      "metadata": {
        "id": "dD7eMk3l43DU"
      },
      "outputs": [],
      "source": [
        "#Carregar o Dataset e criar o Dataframe\n",
        "df_RD80 = pd.read_csv(\"/content/df_MP3000A_RD80_final.csv\",parse_dates=[0], index_col=[0])\n"
      ]
    },
    {
      "cell_type": "code",
      "source": [
        "df_RD80['Day'] = pd.to_datetime(df_RD80['Datetime']).dt.day\n",
        "df_RD80['Month_'] = pd.to_datetime(df_RD80['Datetime']).dt.month\n",
        "df_RD80['Hour'] = pd.to_datetime(df_RD80['Datetime']).dt.hour\n",
        "df_RD80['Minute'] = pd.to_datetime(df_RD80['Datetime']).dt.minute"
      ],
      "metadata": {
        "id": "8Bdfp3oIro5G"
      },
      "execution_count": null,
      "outputs": []
    },
    {
      "cell_type": "code",
      "source": [
        "#df_RD80_final = df_RD80.query(\"(Minute == 00 or Minute == 15 or Minute == 30 or Minute == 45)\")\n",
        "df_RD80_final = df_RD80"
      ],
      "metadata": {
        "id": "OZlv06SKro5a"
      },
      "execution_count": null,
      "outputs": []
    },
    {
      "cell_type": "code",
      "execution_count": null,
      "metadata": {
        "colab": {
          "base_uri": "https://localhost:8080/"
        },
        "outputId": "33dc5ce7-e1a1-4764-cc89-4cc6fd9e0f7a",
        "id": "Wi4DLBvy43DV"
      },
      "outputs": [
        {
          "output_type": "stream",
          "name": "stdout",
          "text": [
            "Tamanho do dataset:  1190466  - Quantidade de atributos:  53\n"
          ]
        }
      ],
      "source": [
        "#Aqui verificamos o tamanho do Dataset e quantidade de atributos \n",
        "print('Tamanho do dataset: ',df_RD80_final.shape[0], ' - Quantidade de atributos: ', df_RD80_final.shape[1])"
      ]
    },
    {
      "cell_type": "code",
      "source": [
        "for index, row in df_RD80_final.iterrows():\n",
        "\n",
        "    if (row['Rain_Intensity_mm_h'] >= 0.1) and (row['Rain_Intensity_mm_h'] <= 2.5):\n",
        "      df_RD80_final.loc[index,'Light_Rain'] = 1\n",
        "      df_RD80_final.loc[index,'Class_Rain'] = 'Chuva fraca'\n",
        "      df_RD80_final.loc[index,'Class_Rain_id'] = 1\n",
        "    elif(row['Rain_Intensity_mm_h']  > 2.5) and (row['Rain_Intensity_mm_h']  <= 10):\n",
        "      df_RD80_final.loc[index,'Moderate_Rain'] = 1\n",
        "      df_RD80_final.loc[index,'Class_Rain'] = 'Chuva moderada'\n",
        "      df_RD80_final.loc[index,'Class_Rain_id'] = 2\n",
        "    elif (row['Rain_Intensity_mm_h']  > 10) and (row['Rain_Intensity_mm_h']  <= 50):\n",
        "      df_RD80_final.loc[index,'Heavy_Rain'] = 1\n",
        "      df_RD80_final.loc[index,'Class_Rain'] = 'Chuva forte'\n",
        "      df_RD80_final.loc[index,'Class_Rain_id'] = 3\n",
        "    elif (row['Rain_Intensity_mm_h']  > 50):\n",
        "      df_RD80_final.loc[index,'Very_Heavy_Rain'] = 1\n",
        "      df_RD80_final.loc[index,'Class_Rain'] = 'Chuva muito forte'\n",
        "      df_RD80_final.loc[index,'Class_Rain_id'] = 4\n",
        "    else:\n",
        "      df_RD80_final.loc[index,'Without_Rain'] = 1\n",
        "      df_RD80_final.loc[index,'Class_Rain'] = 'Não choveu'\n",
        "      df_RD80_final.loc[index,'Class_Rain_id'] = 0"
      ],
      "metadata": {
        "id": "mkBkgUgIllHp"
      },
      "execution_count": null,
      "outputs": []
    },
    {
      "cell_type": "code",
      "source": [
        "df_RD80_numeric = ['Rain_Intensity_mm_h', 'radar_reflectivity_1_mm6m3', 'Liquid_watercontent_g_m3', 'Mean_weight_diameter_mm', 'Tamb_K', 'Rh_percent', 'Pres_mb', 'Tir_K', 'Ch_22_234', 'Ch_22_500', 'Ch_23_034', 'Ch_23_834', 'Ch_25_000', 'Ch_26_234', 'Ch_28_000', 'Ch_30_000', 'Ch_51_248', 'Ch_51_760', 'Ch_52_280', 'Ch_52_804', 'Ch_53_336', 'Ch_53_848', 'Ch_54_400', 'Ch_54_940', 'Ch_55_500', 'Ch_56_020', 'Ch_56_660', 'Ch_57_288', 'Ch_57_964', 'Ch_58_800', 'Int_Vapor_cm', 'Int_Liquid_mm', 'Cloud_Base_km']"
      ],
      "metadata": {
        "id": "PP62DJe8vSmV"
      },
      "execution_count": null,
      "outputs": []
    },
    {
      "cell_type": "code",
      "source": [
        "for  i in df_RD80_numeric:\n",
        "    df_RD80_final[i][df_RD80_final[i] == -1273.14] = 0\n",
        "\n",
        "\n",
        "for  i in df_RD80_numeric:\n",
        "    df_RD80_final[i][df_RD80_final[i] == -999.99] = 0"
      ],
      "metadata": {
        "id": "u6KXr4MFviKC"
      },
      "execution_count": null,
      "outputs": []
    },
    {
      "cell_type": "code",
      "source": [
        "df_RD80_final.loc[df_RD80_final['Rain_Intensity_mm_h'] > 0].head(n=2).append(df_RD80_final.loc[df_RD80_final['Rain_Intensity_mm_h'] == 0].tail(n=2))"
      ],
      "metadata": {
        "colab": {
          "base_uri": "https://localhost:8080/",
          "height": 407
        },
        "outputId": "29ffa144-9a15-43a5-cb0a-de6ab5190a17",
        "id": "p-e5jm-Z43DV"
      },
      "execution_count": null,
      "outputs": [
        {
          "output_type": "execute_result",
          "data": {
            "text/plain": [
              "                   Datetime        Date  Year Month Day_of_week      Time  \\\n",
              "0       2022-01-17 13:47:00  2022-01-17  2022   Jan      Monday  13:47:00   \n",
              "1       2022-01-17 13:48:00  2022-01-17  2022   Jan      Monday  13:48:00   \n",
              "222191  2022-06-29 09:08:00  2022-06-29  2022   Jun   Wednesday  09:08:00   \n",
              "222192  2022-06-29 09:09:00  2022-06-29  2022   Jun   Wednesday  09:09:00   \n",
              "\n",
              "          session  Rain_Intensity_mm_h  radar_reflectivity_1_mm6m3  \\\n",
              "0       Afternoon              0.14179                    20.98903   \n",
              "1       Afternoon              0.15971                    23.59070   \n",
              "222191    Morning              0.00000                     0.10235   \n",
              "222192    Morning              0.00000                     0.00000   \n",
              "\n",
              "        Liquid_watercontent_g_m3  ...  Moderate_Rain  Heavy_Rain  \\\n",
              "0                        0.01019  ...            0.0         0.0   \n",
              "1                        0.01125  ...            0.0         0.0   \n",
              "222191                   0.00088  ...            0.0         0.0   \n",
              "222192                   0.00000  ...            0.0         0.0   \n",
              "\n",
              "        Very_Heavy_Rain  Without_Rain  Class_Rain_id   Class_Rain  Day  \\\n",
              "0                   0.0           0.0            1.0  Chuva fraca   17   \n",
              "1                   0.0           0.0            1.0  Chuva fraca   17   \n",
              "222191              0.0           1.0            0.0   Não choveu   29   \n",
              "222192              0.0           1.0            0.0   Não choveu   29   \n",
              "\n",
              "        Month_  Hour  Minute  \n",
              "0            1    13      47  \n",
              "1            1    13      48  \n",
              "222191       6     9       8  \n",
              "222192       6     9       9  \n",
              "\n",
              "[4 rows x 53 columns]"
            ],
            "text/html": [
              "\n",
              "  <div id=\"df-0a5e7e86-33e4-41fc-9ff2-d3c7dd003cf8\">\n",
              "    <div class=\"colab-df-container\">\n",
              "      <div>\n",
              "<style scoped>\n",
              "    .dataframe tbody tr th:only-of-type {\n",
              "        vertical-align: middle;\n",
              "    }\n",
              "\n",
              "    .dataframe tbody tr th {\n",
              "        vertical-align: top;\n",
              "    }\n",
              "\n",
              "    .dataframe thead th {\n",
              "        text-align: right;\n",
              "    }\n",
              "</style>\n",
              "<table border=\"1\" class=\"dataframe\">\n",
              "  <thead>\n",
              "    <tr style=\"text-align: right;\">\n",
              "      <th></th>\n",
              "      <th>Datetime</th>\n",
              "      <th>Date</th>\n",
              "      <th>Year</th>\n",
              "      <th>Month</th>\n",
              "      <th>Day_of_week</th>\n",
              "      <th>Time</th>\n",
              "      <th>session</th>\n",
              "      <th>Rain_Intensity_mm_h</th>\n",
              "      <th>radar_reflectivity_1_mm6m3</th>\n",
              "      <th>Liquid_watercontent_g_m3</th>\n",
              "      <th>...</th>\n",
              "      <th>Moderate_Rain</th>\n",
              "      <th>Heavy_Rain</th>\n",
              "      <th>Very_Heavy_Rain</th>\n",
              "      <th>Without_Rain</th>\n",
              "      <th>Class_Rain_id</th>\n",
              "      <th>Class_Rain</th>\n",
              "      <th>Day</th>\n",
              "      <th>Month_</th>\n",
              "      <th>Hour</th>\n",
              "      <th>Minute</th>\n",
              "    </tr>\n",
              "  </thead>\n",
              "  <tbody>\n",
              "    <tr>\n",
              "      <th>0</th>\n",
              "      <td>2022-01-17 13:47:00</td>\n",
              "      <td>2022-01-17</td>\n",
              "      <td>2022</td>\n",
              "      <td>Jan</td>\n",
              "      <td>Monday</td>\n",
              "      <td>13:47:00</td>\n",
              "      <td>Afternoon</td>\n",
              "      <td>0.14179</td>\n",
              "      <td>20.98903</td>\n",
              "      <td>0.01019</td>\n",
              "      <td>...</td>\n",
              "      <td>0.0</td>\n",
              "      <td>0.0</td>\n",
              "      <td>0.0</td>\n",
              "      <td>0.0</td>\n",
              "      <td>1.0</td>\n",
              "      <td>Chuva fraca</td>\n",
              "      <td>17</td>\n",
              "      <td>1</td>\n",
              "      <td>13</td>\n",
              "      <td>47</td>\n",
              "    </tr>\n",
              "    <tr>\n",
              "      <th>1</th>\n",
              "      <td>2022-01-17 13:48:00</td>\n",
              "      <td>2022-01-17</td>\n",
              "      <td>2022</td>\n",
              "      <td>Jan</td>\n",
              "      <td>Monday</td>\n",
              "      <td>13:48:00</td>\n",
              "      <td>Afternoon</td>\n",
              "      <td>0.15971</td>\n",
              "      <td>23.59070</td>\n",
              "      <td>0.01125</td>\n",
              "      <td>...</td>\n",
              "      <td>0.0</td>\n",
              "      <td>0.0</td>\n",
              "      <td>0.0</td>\n",
              "      <td>0.0</td>\n",
              "      <td>1.0</td>\n",
              "      <td>Chuva fraca</td>\n",
              "      <td>17</td>\n",
              "      <td>1</td>\n",
              "      <td>13</td>\n",
              "      <td>48</td>\n",
              "    </tr>\n",
              "    <tr>\n",
              "      <th>222191</th>\n",
              "      <td>2022-06-29 09:08:00</td>\n",
              "      <td>2022-06-29</td>\n",
              "      <td>2022</td>\n",
              "      <td>Jun</td>\n",
              "      <td>Wednesday</td>\n",
              "      <td>09:08:00</td>\n",
              "      <td>Morning</td>\n",
              "      <td>0.00000</td>\n",
              "      <td>0.10235</td>\n",
              "      <td>0.00088</td>\n",
              "      <td>...</td>\n",
              "      <td>0.0</td>\n",
              "      <td>0.0</td>\n",
              "      <td>0.0</td>\n",
              "      <td>1.0</td>\n",
              "      <td>0.0</td>\n",
              "      <td>Não choveu</td>\n",
              "      <td>29</td>\n",
              "      <td>6</td>\n",
              "      <td>9</td>\n",
              "      <td>8</td>\n",
              "    </tr>\n",
              "    <tr>\n",
              "      <th>222192</th>\n",
              "      <td>2022-06-29 09:09:00</td>\n",
              "      <td>2022-06-29</td>\n",
              "      <td>2022</td>\n",
              "      <td>Jun</td>\n",
              "      <td>Wednesday</td>\n",
              "      <td>09:09:00</td>\n",
              "      <td>Morning</td>\n",
              "      <td>0.00000</td>\n",
              "      <td>0.00000</td>\n",
              "      <td>0.00000</td>\n",
              "      <td>...</td>\n",
              "      <td>0.0</td>\n",
              "      <td>0.0</td>\n",
              "      <td>0.0</td>\n",
              "      <td>1.0</td>\n",
              "      <td>0.0</td>\n",
              "      <td>Não choveu</td>\n",
              "      <td>29</td>\n",
              "      <td>6</td>\n",
              "      <td>9</td>\n",
              "      <td>9</td>\n",
              "    </tr>\n",
              "  </tbody>\n",
              "</table>\n",
              "<p>4 rows × 53 columns</p>\n",
              "</div>\n",
              "      <button class=\"colab-df-convert\" onclick=\"convertToInteractive('df-0a5e7e86-33e4-41fc-9ff2-d3c7dd003cf8')\"\n",
              "              title=\"Convert this dataframe to an interactive table.\"\n",
              "              style=\"display:none;\">\n",
              "        \n",
              "  <svg xmlns=\"http://www.w3.org/2000/svg\" height=\"24px\"viewBox=\"0 0 24 24\"\n",
              "       width=\"24px\">\n",
              "    <path d=\"M0 0h24v24H0V0z\" fill=\"none\"/>\n",
              "    <path d=\"M18.56 5.44l.94 2.06.94-2.06 2.06-.94-2.06-.94-.94-2.06-.94 2.06-2.06.94zm-11 1L8.5 8.5l.94-2.06 2.06-.94-2.06-.94L8.5 2.5l-.94 2.06-2.06.94zm10 10l.94 2.06.94-2.06 2.06-.94-2.06-.94-.94-2.06-.94 2.06-2.06.94z\"/><path d=\"M17.41 7.96l-1.37-1.37c-.4-.4-.92-.59-1.43-.59-.52 0-1.04.2-1.43.59L10.3 9.45l-7.72 7.72c-.78.78-.78 2.05 0 2.83L4 21.41c.39.39.9.59 1.41.59.51 0 1.02-.2 1.41-.59l7.78-7.78 2.81-2.81c.8-.78.8-2.07 0-2.86zM5.41 20L4 18.59l7.72-7.72 1.47 1.35L5.41 20z\"/>\n",
              "  </svg>\n",
              "      </button>\n",
              "      \n",
              "  <style>\n",
              "    .colab-df-container {\n",
              "      display:flex;\n",
              "      flex-wrap:wrap;\n",
              "      gap: 12px;\n",
              "    }\n",
              "\n",
              "    .colab-df-convert {\n",
              "      background-color: #E8F0FE;\n",
              "      border: none;\n",
              "      border-radius: 50%;\n",
              "      cursor: pointer;\n",
              "      display: none;\n",
              "      fill: #1967D2;\n",
              "      height: 32px;\n",
              "      padding: 0 0 0 0;\n",
              "      width: 32px;\n",
              "    }\n",
              "\n",
              "    .colab-df-convert:hover {\n",
              "      background-color: #E2EBFA;\n",
              "      box-shadow: 0px 1px 2px rgba(60, 64, 67, 0.3), 0px 1px 3px 1px rgba(60, 64, 67, 0.15);\n",
              "      fill: #174EA6;\n",
              "    }\n",
              "\n",
              "    [theme=dark] .colab-df-convert {\n",
              "      background-color: #3B4455;\n",
              "      fill: #D2E3FC;\n",
              "    }\n",
              "\n",
              "    [theme=dark] .colab-df-convert:hover {\n",
              "      background-color: #434B5C;\n",
              "      box-shadow: 0px 1px 3px 1px rgba(0, 0, 0, 0.15);\n",
              "      filter: drop-shadow(0px 1px 2px rgba(0, 0, 0, 0.3));\n",
              "      fill: #FFFFFF;\n",
              "    }\n",
              "  </style>\n",
              "\n",
              "      <script>\n",
              "        const buttonEl =\n",
              "          document.querySelector('#df-0a5e7e86-33e4-41fc-9ff2-d3c7dd003cf8 button.colab-df-convert');\n",
              "        buttonEl.style.display =\n",
              "          google.colab.kernel.accessAllowed ? 'block' : 'none';\n",
              "\n",
              "        async function convertToInteractive(key) {\n",
              "          const element = document.querySelector('#df-0a5e7e86-33e4-41fc-9ff2-d3c7dd003cf8');\n",
              "          const dataTable =\n",
              "            await google.colab.kernel.invokeFunction('convertToInteractive',\n",
              "                                                     [key], {});\n",
              "          if (!dataTable) return;\n",
              "\n",
              "          const docLinkHtml = 'Like what you see? Visit the ' +\n",
              "            '<a target=\"_blank\" href=https://colab.research.google.com/notebooks/data_table.ipynb>data table notebook</a>'\n",
              "            + ' to learn more about interactive tables.';\n",
              "          element.innerHTML = '';\n",
              "          dataTable['output_type'] = 'display_data';\n",
              "          await google.colab.output.renderOutput(dataTable, element);\n",
              "          const docLink = document.createElement('div');\n",
              "          docLink.innerHTML = docLinkHtml;\n",
              "          element.appendChild(docLink);\n",
              "        }\n",
              "      </script>\n",
              "    </div>\n",
              "  </div>\n",
              "  "
            ]
          },
          "metadata": {},
          "execution_count": 129
        }
      ]
    },
    {
      "cell_type": "code",
      "source": [
        "df_RD80_final['Datetime'] = df_RD80_final.Datetime.astype('datetime64')"
      ],
      "metadata": {
        "id": "20bjYcBNy7Nd"
      },
      "execution_count": null,
      "outputs": []
    },
    {
      "cell_type": "code",
      "source": [
        "df_RD80_final = df_RD80_final.set_index('Datetime')"
      ],
      "metadata": {
        "id": "iQDL2o8ryukY"
      },
      "execution_count": null,
      "outputs": []
    },
    {
      "cell_type": "code",
      "source": [
        "# Agrupamento de dados e gerar um novo DF\n",
        "# freq=\"1W\", freq=\"1D\", freq=\"1min\"\n",
        "df_RD80_final = df_RD80_final.groupby(pd.Grouper(freq='30min')).mean()"
      ],
      "metadata": {
        "id": "1HD_H2pUx3fj"
      },
      "execution_count": null,
      "outputs": []
    },
    {
      "cell_type": "code",
      "source": [
        "df_RD80_final = df_RD80_final.reset_index('Datetime')"
      ],
      "metadata": {
        "id": "9RkTFVF11g_9"
      },
      "execution_count": null,
      "outputs": []
    },
    {
      "cell_type": "code",
      "source": [
        "#Plotando o acumulado da intensidade da chuva por horário do dia\n",
        "#df_RD80_filter = df_RD80_final.query(\"(Datetime >= '2022-05-19' and Datetime <= '2022-05-20')\")\n",
        "df_RD80_filter = df_RD80_final\n",
        "\n",
        "ax = plt.gca()\n",
        "plt.rcParams[\"figure.figsize\"] = [21,5]\n",
        "\n",
        "df_RD80_filter.plot(kind='line',x='Datetime',y=\"Tamb_K\", label='Temperatura do Ambiente (°C)', ax=ax)\n",
        "df_RD80_filter.plot(kind='line',x='Datetime',y=\"Tir_K\", label='Temperatura no canal Infravermelho (°C)', ax=ax)\n",
        "df_RD80_filter.plot(kind='line',x='Datetime',y=\"Int_Liquid_mm\", label='Conteúdo de água líquida integrado na nuvem (mm)', ax=ax)\n",
        "df_RD80_filter.plot(kind=\"line\",x=\"Datetime\",y=\"Rain_Intensity_mm_h\",label='Intensidade de chuva (mm/h)', ax=ax)"
      ],
      "metadata": {
        "colab": {
          "base_uri": "https://localhost:8080/",
          "height": 362
        },
        "id": "WfRQy1fqjY-L",
        "outputId": "1a653116-d96c-4571-9708-c83c9e106ddc"
      },
      "execution_count": null,
      "outputs": [
        {
          "output_type": "execute_result",
          "data": {
            "text/plain": [
              "<matplotlib.axes._subplots.AxesSubplot at 0x7f6520d122d0>"
            ]
          },
          "metadata": {},
          "execution_count": 139
        },
        {
          "output_type": "display_data",
          "data": {
            "text/plain": [
              "<Figure size 1512x360 with 1 Axes>"
            ],
            "image/png": "[encoded data removed]"
          },
          "metadata": {
            "needs_background": "light"
          }
        }
      ]
    },
    {
      "cell_type": "code",
      "source": [
        "df_RD80_final.dtypes"
      ],
      "metadata": {
        "colab": {
          "base_uri": "https://localhost:8080/"
        },
        "id": "6e3l81875XSa",
        "outputId": "c9c4c619-ce2a-45cb-d917-ff56f2102622"
      },
      "execution_count": null,
      "outputs": [
        {
          "output_type": "execute_result",
          "data": {
            "text/plain": [
              "Datetime                       object\n",
              "Date                           object\n",
              "Year                            int64\n",
              "Month                          object\n",
              "Day_of_week                    object\n",
              "Time                           object\n",
              "session                        object\n",
              "Rain_Intensity_mm_h           float64\n",
              "radar_reflectivity_1_mm6m3    float64\n",
              "Liquid_watercontent_g_m3      float64\n",
              "Mean_weight_diameter_mm       float64\n",
              "Time_integration_s            float64\n",
              "DataQuality                   float64\n",
              "Tamb_K                        float64\n",
              "Rh_percent                    float64\n",
              "Pres_mb                       float64\n",
              "Tir_K                         float64\n",
              "Ch_22_234                     float64\n",
              "Ch_22_500                     float64\n",
              "Ch_23_034                     float64\n",
              "Ch_23_834                     float64\n",
              "Ch_25_000                     float64\n",
              "Ch_26_234                     float64\n",
              "Ch_28_000                     float64\n",
              "Ch_30_000                     float64\n",
              "Ch_51_248                     float64\n",
              "Ch_51_760                     float64\n",
              "Ch_52_280                     float64\n",
              "Ch_52_804                     float64\n",
              "Ch_53_336                     float64\n",
              "Ch_53_848                     float64\n",
              "Ch_54_400                     float64\n",
              "Ch_54_940                     float64\n",
              "Ch_55_500                     float64\n",
              "Ch_56_020                     float64\n",
              "Ch_56_660                     float64\n",
              "Ch_57_288                     float64\n",
              "Ch_57_964                     float64\n",
              "Ch_58_800                     float64\n",
              "Int_Vapor_cm                  float64\n",
              "Int_Liquid_mm                 float64\n",
              "Cloud_Base_km                 float64\n",
              "Light_Rain                    float64\n",
              "Moderate_Rain                 float64\n",
              "Heavy_Rain                    float64\n",
              "Very_Heavy_Rain               float64\n",
              "Without_Rain                  float64\n",
              "Class_Rain_id                 float64\n",
              "Class_Rain                     object\n",
              "Day                             int64\n",
              "Month_                          int64\n",
              "Hour                            int64\n",
              "Minute                          int64\n",
              "dtype: object"
            ]
          },
          "metadata": {},
          "execution_count": 10
        }
      ]
    },
    {
      "cell_type": "code",
      "source": [
        "df_RD80_final.columns"
      ],
      "metadata": {
        "colab": {
          "base_uri": "https://localhost:8080/"
        },
        "id": "I_rGTtjzsFar",
        "outputId": "861e9142-8422-4f0f-ec5c-1e704bcc1153"
      },
      "execution_count": null,
      "outputs": [
        {
          "output_type": "execute_result",
          "data": {
            "text/plain": [
              "Index(['Datetime', 'Date', 'Year', 'Month', 'Day_of_week', 'Time', 'session',\n",
              "       'Rain_Intensity_mm_h', 'radar_reflectivity_1_mm6m3',\n",
              "       'Liquid_watercontent_g_m3', 'Mean_weight_diameter_mm',\n",
              "       'Time_integration_s', 'DataQuality', 'Tamb_K', 'Rh_percent', 'Pres_mb',\n",
              "       'Tir_K', 'Ch_22_234', 'Ch_22_500', 'Ch_23_034', 'Ch_23_834',\n",
              "       'Ch_25_000', 'Ch_26_234', 'Ch_28_000', 'Ch_30_000', 'Ch_51_248',\n",
              "       'Ch_51_760', 'Ch_52_280', 'Ch_52_804', 'Ch_53_336', 'Ch_53_848',\n",
              "       'Ch_54_400', 'Ch_54_940', 'Ch_55_500', 'Ch_56_020', 'Ch_56_660',\n",
              "       'Ch_57_288', 'Ch_57_964', 'Ch_58_800', 'Int_Vapor_cm', 'Int_Liquid_mm',\n",
              "       'Cloud_Base_km', 'Light_Rain', 'Moderate_Rain', 'Heavy_Rain',\n",
              "       'Very_Heavy_Rain', 'Without_Rain', 'Class_Rain_id', 'Class_Rain', 'Day',\n",
              "       'Month_', 'Hour', 'Minute'],\n",
              "      dtype='object')"
            ]
          },
          "metadata": {},
          "execution_count": 11
        }
      ]
    },
    {
      "cell_type": "code",
      "source": [
        "df_RD80_final = df_RD80_final.reindex(columns=['Datetime', 'Date', 'Year','Month_','Day', 'Hour', 'Minute', 'Month', 'Day_of_week', 'Time','session',\n",
        "       'Rain_Intensity_mm_h', 'radar_reflectivity_1_mm6m3',\n",
        "       'Liquid_watercontent_g_m3', 'Mean_weight_diameter_mm',\n",
        "       'Time_integration_s', 'DataQuality', 'Tamb_K', 'Rh_percent', 'Pres_mb',\n",
        "       'Tir_K', 'Ch_22_234', 'Ch_22_500', 'Ch_23_034', 'Ch_23_834',\n",
        "       'Ch_25_000', 'Ch_26_234', 'Ch_28_000', 'Ch_30_000', 'Ch_51_248',\n",
        "       'Ch_51_760', 'Ch_52_280', 'Ch_52_804', 'Ch_53_336', 'Ch_53_848',\n",
        "       'Ch_54_400', 'Ch_54_940', 'Ch_55_500', 'Ch_56_020', 'Ch_56_660',\n",
        "       'Ch_57_288', 'Ch_57_964', 'Ch_58_800', 'Int_Vapor_cm', 'Int_Liquid_mm',\n",
        "       'Cloud_Base_km', 'Light_Rain', 'Moderate_Rain', 'Heavy_Rain',\n",
        "       'Very_Heavy_Rain', 'Without_Rain', 'Class_Rain_id', 'Class_Rain'])"
      ],
      "metadata": {
        "id": "oWORAr7fsAaa"
      },
      "execution_count": null,
      "outputs": []
    },
    {
      "cell_type": "code",
      "source": [
        "# -999.99 significa os valores ausentes\n",
        "df_RD80_final['Rain_Intensity_mm_h'] = df_RD80_final['Rain_Intensity_mm_h'].replace(-999.99, np.nan)"
      ],
      "metadata": {
        "id": "F2wVG2W65p6x"
      },
      "execution_count": null,
      "outputs": []
    },
    {
      "cell_type": "code",
      "source": [
        "# Interpolação dos valores ausentes\n",
        "df_RD80_final = df_RD80_final.interpolate(method='akima')     "
      ],
      "metadata": {
        "id": "9hR4VXvh54vQ"
      },
      "execution_count": null,
      "outputs": []
    },
    {
      "cell_type": "code",
      "source": [
        "#Verificando o recurso de chuva para os valores ausentes\n",
        "df_RD80_final[df_RD80_final['Rain_Intensity_mm_h'].isnull()] "
      ],
      "metadata": {
        "colab": {
          "base_uri": "https://localhost:8080/",
          "height": 143
        },
        "id": "6ANDG1ZE5ipZ",
        "outputId": "e3b91754-baeb-479a-8c2c-ca4b4625eab1"
      },
      "execution_count": null,
      "outputs": [
        {
          "output_type": "execute_result",
          "data": {
            "text/plain": [
              "Empty DataFrame\n",
              "Columns: [Datetime, Date, Year, Month_, Day, Hour, Minute, Month, Day_of_week, Time, session, Rain_Intensity_mm_h, radar_reflectivity_1_mm6m3, Liquid_watercontent_g_m3, Mean_weight_diameter_mm, Time_integration_s, DataQuality, Tamb_K, Rh_percent, Pres_mb, Tir_K, Ch_22_234, Ch_22_500, Ch_23_034, Ch_23_834, Ch_25_000, Ch_26_234, Ch_28_000, Ch_30_000, Ch_51_248, Ch_51_760, Ch_52_280, Ch_52_804, Ch_53_336, Ch_53_848, Ch_54_400, Ch_54_940, Ch_55_500, Ch_56_020, Ch_56_660, Ch_57_288, Ch_57_964, Ch_58_800, Int_Vapor_cm, Int_Liquid_mm, Cloud_Base_km, Light_Rain, Moderate_Rain, Heavy_Rain, Very_Heavy_Rain, Without_Rain, Class_Rain_id, Class_Rain]\n",
              "Index: []\n",
              "\n",
              "[0 rows x 53 columns]"
            ],
            "text/html": [
              "\n",
              "  <div id=\"df-13d0607c-61fc-48aa-a5bf-a7113d47b96f\">\n",
              "    <div class=\"colab-df-container\">\n",
              "      <div>\n",
              "<style scoped>\n",
              "    .dataframe tbody tr th:only-of-type {\n",
              "        vertical-align: middle;\n",
              "    }\n",
              "\n",
              "    .dataframe tbody tr th {\n",
              "        vertical-align: top;\n",
              "    }\n",
              "\n",
              "    .dataframe thead th {\n",
              "        text-align: right;\n",
              "    }\n",
              "</style>\n",
              "<table border=\"1\" class=\"dataframe\">\n",
              "  <thead>\n",
              "    <tr style=\"text-align: right;\">\n",
              "      <th></th>\n",
              "      <th>Datetime</th>\n",
              "      <th>Date</th>\n",
              "      <th>Year</th>\n",
              "      <th>Month_</th>\n",
              "      <th>Day</th>\n",
              "      <th>Hour</th>\n",
              "      <th>Minute</th>\n",
              "      <th>Month</th>\n",
              "      <th>Day_of_week</th>\n",
              "      <th>Time</th>\n",
              "      <th>...</th>\n",
              "      <th>Int_Vapor_cm</th>\n",
              "      <th>Int_Liquid_mm</th>\n",
              "      <th>Cloud_Base_km</th>\n",
              "      <th>Light_Rain</th>\n",
              "      <th>Moderate_Rain</th>\n",
              "      <th>Heavy_Rain</th>\n",
              "      <th>Very_Heavy_Rain</th>\n",
              "      <th>Without_Rain</th>\n",
              "      <th>Class_Rain_id</th>\n",
              "      <th>Class_Rain</th>\n",
              "    </tr>\n",
              "  </thead>\n",
              "  <tbody>\n",
              "  </tbody>\n",
              "</table>\n",
              "<p>0 rows × 53 columns</p>\n",
              "</div>\n",
              "      <button class=\"colab-df-convert\" onclick=\"convertToInteractive('df-13d0607c-61fc-48aa-a5bf-a7113d47b96f')\"\n",
              "              title=\"Convert this dataframe to an interactive table.\"\n",
              "              style=\"display:none;\">\n",
              "        \n",
              "  <svg xmlns=\"http://www.w3.org/2000/svg\" height=\"24px\"viewBox=\"0 0 24 24\"\n",
              "       width=\"24px\">\n",
              "    <path d=\"M0 0h24v24H0V0z\" fill=\"none\"/>\n",
              "    <path d=\"M18.56 5.44l.94 2.06.94-2.06 2.06-.94-2.06-.94-.94-2.06-.94 2.06-2.06.94zm-11 1L8.5 8.5l.94-2.06 2.06-.94-2.06-.94L8.5 2.5l-.94 2.06-2.06.94zm10 10l.94 2.06.94-2.06 2.06-.94-2.06-.94-.94-2.06-.94 2.06-2.06.94z\"/><path d=\"M17.41 7.96l-1.37-1.37c-.4-.4-.92-.59-1.43-.59-.52 0-1.04.2-1.43.59L10.3 9.45l-7.72 7.72c-.78.78-.78 2.05 0 2.83L4 21.41c.39.39.9.59 1.41.59.51 0 1.02-.2 1.41-.59l7.78-7.78 2.81-2.81c.8-.78.8-2.07 0-2.86zM5.41 20L4 18.59l7.72-7.72 1.47 1.35L5.41 20z\"/>\n",
              "  </svg>\n",
              "      </button>\n",
              "      \n",
              "  <style>\n",
              "    .colab-df-container {\n",
              "      display:flex;\n",
              "      flex-wrap:wrap;\n",
              "      gap: 12px;\n",
              "    }\n",
              "\n",
              "    .colab-df-convert {\n",
              "      background-color: #E8F0FE;\n",
              "      border: none;\n",
              "      border-radius: 50%;\n",
              "      cursor: pointer;\n",
              "      display: none;\n",
              "      fill: #1967D2;\n",
              "      height: 32px;\n",
              "      padding: 0 0 0 0;\n",
              "      width: 32px;\n",
              "    }\n",
              "\n",
              "    .colab-df-convert:hover {\n",
              "      background-color: #E2EBFA;\n",
              "      box-shadow: 0px 1px 2px rgba(60, 64, 67, 0.3), 0px 1px 3px 1px rgba(60, 64, 67, 0.15);\n",
              "      fill: #174EA6;\n",
              "    }\n",
              "\n",
              "    [theme=dark] .colab-df-convert {\n",
              "      background-color: #3B4455;\n",
              "      fill: #D2E3FC;\n",
              "    }\n",
              "\n",
              "    [theme=dark] .colab-df-convert:hover {\n",
              "      background-color: #434B5C;\n",
              "      box-shadow: 0px 1px 3px 1px rgba(0, 0, 0, 0.15);\n",
              "      filter: drop-shadow(0px 1px 2px rgba(0, 0, 0, 0.3));\n",
              "      fill: #FFFFFF;\n",
              "    }\n",
              "  </style>\n",
              "\n",
              "      <script>\n",
              "        const buttonEl =\n",
              "          document.querySelector('#df-13d0607c-61fc-48aa-a5bf-a7113d47b96f button.colab-df-convert');\n",
              "        buttonEl.style.display =\n",
              "          google.colab.kernel.accessAllowed ? 'block' : 'none';\n",
              "\n",
              "        async function convertToInteractive(key) {\n",
              "          const element = document.querySelector('#df-13d0607c-61fc-48aa-a5bf-a7113d47b96f');\n",
              "          const dataTable =\n",
              "            await google.colab.kernel.invokeFunction('convertToInteractive',\n",
              "                                                     [key], {});\n",
              "          if (!dataTable) return;\n",
              "\n",
              "          const docLinkHtml = 'Like what you see? Visit the ' +\n",
              "            '<a target=\"_blank\" href=https://colab.research.google.com/notebooks/data_table.ipynb>data table notebook</a>'\n",
              "            + ' to learn more about interactive tables.';\n",
              "          element.innerHTML = '';\n",
              "          dataTable['output_type'] = 'display_data';\n",
              "          await google.colab.output.renderOutput(dataTable, element);\n",
              "          const docLink = document.createElement('div');\n",
              "          docLink.innerHTML = docLinkHtml;\n",
              "          element.appendChild(docLink);\n",
              "        }\n",
              "      </script>\n",
              "    </div>\n",
              "  </div>\n",
              "  "
            ]
          },
          "metadata": {},
          "execution_count": 15
        }
      ]
    },
    {
      "cell_type": "code",
      "source": [
        "df_RD80_final.columns"
      ],
      "metadata": {
        "colab": {
          "base_uri": "https://localhost:8080/"
        },
        "id": "DakprNMrDGEx",
        "outputId": "20e24fe0-3c51-46f4-8568-e97cd6b280da"
      },
      "execution_count": null,
      "outputs": [
        {
          "output_type": "execute_result",
          "data": {
            "text/plain": [
              "Index(['Datetime', 'Date', 'Year', 'Month_', 'Day', 'Hour', 'Minute', 'Month',\n",
              "       'Day_of_week', 'Time', 'session', 'Rain_Intensity_mm_h',\n",
              "       'radar_reflectivity_1_mm6m3', 'Liquid_watercontent_g_m3',\n",
              "       'Mean_weight_diameter_mm', 'Time_integration_s', 'DataQuality',\n",
              "       'Tamb_K', 'Rh_percent', 'Pres_mb', 'Tir_K', 'Ch_22_234', 'Ch_22_500',\n",
              "       'Ch_23_034', 'Ch_23_834', 'Ch_25_000', 'Ch_26_234', 'Ch_28_000',\n",
              "       'Ch_30_000', 'Ch_51_248', 'Ch_51_760', 'Ch_52_280', 'Ch_52_804',\n",
              "       'Ch_53_336', 'Ch_53_848', 'Ch_54_400', 'Ch_54_940', 'Ch_55_500',\n",
              "       'Ch_56_020', 'Ch_56_660', 'Ch_57_288', 'Ch_57_964', 'Ch_58_800',\n",
              "       'Int_Vapor_cm', 'Int_Liquid_mm', 'Cloud_Base_km', 'Light_Rain',\n",
              "       'Moderate_Rain', 'Heavy_Rain', 'Very_Heavy_Rain', 'Without_Rain',\n",
              "       'Class_Rain_id', 'Class_Rain'],\n",
              "      dtype='object')"
            ]
          },
          "metadata": {},
          "execution_count": 16
        }
      ]
    },
    {
      "cell_type": "code",
      "source": [
        "df_RD80_final = df_RD80_final.drop(columns=['Datetime', 'Date', 'Month', 'Day_of_week', 'Time', 'session','Rain_Intensity_mm_h',\n",
        "       'Mean_weight_diameter_mm', 'Time_integration_s', 'DataQuality',   \n",
        "        'Ch_22_234', 'Ch_22_500', 'Ch_23_034', 'Ch_23_834',\n",
        "       'Ch_25_000', 'Ch_26_234', 'Ch_28_000', 'Ch_30_000', 'Ch_51_248',\n",
        "       'Ch_51_760', 'Ch_52_280', 'Ch_52_804', 'Ch_53_336', 'Ch_53_848',\n",
        "       'Ch_54_400', 'Ch_54_940', 'Ch_55_500', 'Ch_56_020', 'Ch_56_660',\n",
        "       'Ch_57_288', 'Ch_57_964', 'Ch_58_800',\n",
        "       'Cloud_Base_km', 'Light_Rain', 'Moderate_Rain', 'Heavy_Rain',\n",
        "       'Very_Heavy_Rain', 'Without_Rain', 'Class_Rain_id'])\n",
        "df_RD80_final.head()"
      ],
      "metadata": {
        "colab": {
          "base_uri": "https://localhost:8080/",
          "height": 270
        },
        "id": "csyDqwrT6O1B",
        "outputId": "ff85a33c-690c-4c7f-905f-cf01d5adc85f"
      },
      "execution_count": null,
      "outputs": [
        {
          "output_type": "execute_result",
          "data": {
            "text/plain": [
              "        Year  Month_  Day  Hour  Minute  radar_reflectivity_1_mm6m3  \\\n",
              "222231  2022       1   11    12      30                         0.0   \n",
              "222232  2022       1   11    12      30                         0.0   \n",
              "222233  2022       1   11    12      30                         0.0   \n",
              "222234  2022       1   11    12      30                         0.0   \n",
              "222235  2022       1   11    12      30                         0.0   \n",
              "\n",
              "        Liquid_watercontent_g_m3  Tamb_K  Rh_percent  Pres_mb  Tir_K  \\\n",
              "222231                       0.0    0.00        0.00     0.00   0.00   \n",
              "222232                       0.0   27.70       78.49  1008.01   6.80   \n",
              "222233                       0.0    0.00        0.00     0.00   0.00   \n",
              "222234                       0.0    0.00        0.00     0.00   0.00   \n",
              "222235                       0.0   27.69       78.36  1007.91   6.67   \n",
              "\n",
              "        Int_Vapor_cm  Int_Liquid_mm  Class_Rain  \n",
              "222231        46.972          0.000  Não choveu  \n",
              "222232         0.000          0.000  Não choveu  \n",
              "222233         0.000          0.000  Não choveu  \n",
              "222234         4.587          0.037  Não choveu  \n",
              "222235         0.000          0.000  Não choveu  "
            ],
            "text/html": [
              "\n",
              "  <div id=\"df-a907ce6b-c0ca-4b87-a541-12c2aa7cf636\">\n",
              "    <div class=\"colab-df-container\">\n",
              "      <div>\n",
              "<style scoped>\n",
              "    .dataframe tbody tr th:only-of-type {\n",
              "        vertical-align: middle;\n",
              "    }\n",
              "\n",
              "    .dataframe tbody tr th {\n",
              "        vertical-align: top;\n",
              "    }\n",
              "\n",
              "    .dataframe thead th {\n",
              "        text-align: right;\n",
              "    }\n",
              "</style>\n",
              "<table border=\"1\" class=\"dataframe\">\n",
              "  <thead>\n",
              "    <tr style=\"text-align: right;\">\n",
              "      <th></th>\n",
              "      <th>Year</th>\n",
              "      <th>Month_</th>\n",
              "      <th>Day</th>\n",
              "      <th>Hour</th>\n",
              "      <th>Minute</th>\n",
              "      <th>radar_reflectivity_1_mm6m3</th>\n",
              "      <th>Liquid_watercontent_g_m3</th>\n",
              "      <th>Tamb_K</th>\n",
              "      <th>Rh_percent</th>\n",
              "      <th>Pres_mb</th>\n",
              "      <th>Tir_K</th>\n",
              "      <th>Int_Vapor_cm</th>\n",
              "      <th>Int_Liquid_mm</th>\n",
              "      <th>Class_Rain</th>\n",
              "    </tr>\n",
              "  </thead>\n",
              "  <tbody>\n",
              "    <tr>\n",
              "      <th>222231</th>\n",
              "      <td>2022</td>\n",
              "      <td>1</td>\n",
              "      <td>11</td>\n",
              "      <td>12</td>\n",
              "      <td>30</td>\n",
              "      <td>0.0</td>\n",
              "      <td>0.0</td>\n",
              "      <td>0.00</td>\n",
              "      <td>0.00</td>\n",
              "      <td>0.00</td>\n",
              "      <td>0.00</td>\n",
              "      <td>46.972</td>\n",
              "      <td>0.000</td>\n",
              "      <td>Não choveu</td>\n",
              "    </tr>\n",
              "    <tr>\n",
              "      <th>222232</th>\n",
              "      <td>2022</td>\n",
              "      <td>1</td>\n",
              "      <td>11</td>\n",
              "      <td>12</td>\n",
              "      <td>30</td>\n",
              "      <td>0.0</td>\n",
              "      <td>0.0</td>\n",
              "      <td>27.70</td>\n",
              "      <td>78.49</td>\n",
              "      <td>1008.01</td>\n",
              "      <td>6.80</td>\n",
              "      <td>0.000</td>\n",
              "      <td>0.000</td>\n",
              "      <td>Não choveu</td>\n",
              "    </tr>\n",
              "    <tr>\n",
              "      <th>222233</th>\n",
              "      <td>2022</td>\n",
              "      <td>1</td>\n",
              "      <td>11</td>\n",
              "      <td>12</td>\n",
              "      <td>30</td>\n",
              "      <td>0.0</td>\n",
              "      <td>0.0</td>\n",
              "      <td>0.00</td>\n",
              "      <td>0.00</td>\n",
              "      <td>0.00</td>\n",
              "      <td>0.00</td>\n",
              "      <td>0.000</td>\n",
              "      <td>0.000</td>\n",
              "      <td>Não choveu</td>\n",
              "    </tr>\n",
              "    <tr>\n",
              "      <th>222234</th>\n",
              "      <td>2022</td>\n",
              "      <td>1</td>\n",
              "      <td>11</td>\n",
              "      <td>12</td>\n",
              "      <td>30</td>\n",
              "      <td>0.0</td>\n",
              "      <td>0.0</td>\n",
              "      <td>0.00</td>\n",
              "      <td>0.00</td>\n",
              "      <td>0.00</td>\n",
              "      <td>0.00</td>\n",
              "      <td>4.587</td>\n",
              "      <td>0.037</td>\n",
              "      <td>Não choveu</td>\n",
              "    </tr>\n",
              "    <tr>\n",
              "      <th>222235</th>\n",
              "      <td>2022</td>\n",
              "      <td>1</td>\n",
              "      <td>11</td>\n",
              "      <td>12</td>\n",
              "      <td>30</td>\n",
              "      <td>0.0</td>\n",
              "      <td>0.0</td>\n",
              "      <td>27.69</td>\n",
              "      <td>78.36</td>\n",
              "      <td>1007.91</td>\n",
              "      <td>6.67</td>\n",
              "      <td>0.000</td>\n",
              "      <td>0.000</td>\n",
              "      <td>Não choveu</td>\n",
              "    </tr>\n",
              "  </tbody>\n",
              "</table>\n",
              "</div>\n",
              "      <button class=\"colab-df-convert\" onclick=\"convertToInteractive('df-a907ce6b-c0ca-4b87-a541-12c2aa7cf636')\"\n",
              "              title=\"Convert this dataframe to an interactive table.\"\n",
              "              style=\"display:none;\">\n",
              "        \n",
              "  <svg xmlns=\"http://www.w3.org/2000/svg\" height=\"24px\"viewBox=\"0 0 24 24\"\n",
              "       width=\"24px\">\n",
              "    <path d=\"M0 0h24v24H0V0z\" fill=\"none\"/>\n",
              "    <path d=\"M18.56 5.44l.94 2.06.94-2.06 2.06-.94-2.06-.94-.94-2.06-.94 2.06-2.06.94zm-11 1L8.5 8.5l.94-2.06 2.06-.94-2.06-.94L8.5 2.5l-.94 2.06-2.06.94zm10 10l.94 2.06.94-2.06 2.06-.94-2.06-.94-.94-2.06-.94 2.06-2.06.94z\"/><path d=\"M17.41 7.96l-1.37-1.37c-.4-.4-.92-.59-1.43-.59-.52 0-1.04.2-1.43.59L10.3 9.45l-7.72 7.72c-.78.78-.78 2.05 0 2.83L4 21.41c.39.39.9.59 1.41.59.51 0 1.02-.2 1.41-.59l7.78-7.78 2.81-2.81c.8-.78.8-2.07 0-2.86zM5.41 20L4 18.59l7.72-7.72 1.47 1.35L5.41 20z\"/>\n",
              "  </svg>\n",
              "      </button>\n",
              "      \n",
              "  <style>\n",
              "    .colab-df-container {\n",
              "      display:flex;\n",
              "      flex-wrap:wrap;\n",
              "      gap: 12px;\n",
              "    }\n",
              "\n",
              "    .colab-df-convert {\n",
              "      background-color: #E8F0FE;\n",
              "      border: none;\n",
              "      border-radius: 50%;\n",
              "      cursor: pointer;\n",
              "      display: none;\n",
              "      fill: #1967D2;\n",
              "      height: 32px;\n",
              "      padding: 0 0 0 0;\n",
              "      width: 32px;\n",
              "    }\n",
              "\n",
              "    .colab-df-convert:hover {\n",
              "      background-color: #E2EBFA;\n",
              "      box-shadow: 0px 1px 2px rgba(60, 64, 67, 0.3), 0px 1px 3px 1px rgba(60, 64, 67, 0.15);\n",
              "      fill: #174EA6;\n",
              "    }\n",
              "\n",
              "    [theme=dark] .colab-df-convert {\n",
              "      background-color: #3B4455;\n",
              "      fill: #D2E3FC;\n",
              "    }\n",
              "\n",
              "    [theme=dark] .colab-df-convert:hover {\n",
              "      background-color: #434B5C;\n",
              "      box-shadow: 0px 1px 3px 1px rgba(0, 0, 0, 0.15);\n",
              "      filter: drop-shadow(0px 1px 2px rgba(0, 0, 0, 0.3));\n",
              "      fill: #FFFFFF;\n",
              "    }\n",
              "  </style>\n",
              "\n",
              "      <script>\n",
              "        const buttonEl =\n",
              "          document.querySelector('#df-a907ce6b-c0ca-4b87-a541-12c2aa7cf636 button.colab-df-convert');\n",
              "        buttonEl.style.display =\n",
              "          google.colab.kernel.accessAllowed ? 'block' : 'none';\n",
              "\n",
              "        async function convertToInteractive(key) {\n",
              "          const element = document.querySelector('#df-a907ce6b-c0ca-4b87-a541-12c2aa7cf636');\n",
              "          const dataTable =\n",
              "            await google.colab.kernel.invokeFunction('convertToInteractive',\n",
              "                                                     [key], {});\n",
              "          if (!dataTable) return;\n",
              "\n",
              "          const docLinkHtml = 'Like what you see? Visit the ' +\n",
              "            '<a target=\"_blank\" href=https://colab.research.google.com/notebooks/data_table.ipynb>data table notebook</a>'\n",
              "            + ' to learn more about interactive tables.';\n",
              "          element.innerHTML = '';\n",
              "          dataTable['output_type'] = 'display_data';\n",
              "          await google.colab.output.renderOutput(dataTable, element);\n",
              "          const docLink = document.createElement('div');\n",
              "          docLink.innerHTML = docLinkHtml;\n",
              "          element.appendChild(docLink);\n",
              "        }\n",
              "      </script>\n",
              "    </div>\n",
              "  </div>\n",
              "  "
            ]
          },
          "metadata": {},
          "execution_count": 17
        }
      ]
    },
    {
      "cell_type": "code",
      "source": [
        "df_RD80_final.dtypes"
      ],
      "metadata": {
        "colab": {
          "base_uri": "https://localhost:8080/"
        },
        "id": "gVGnmk0ELO2D",
        "outputId": "34b33f5b-8fce-4c17-f034-45efe191808a"
      },
      "execution_count": null,
      "outputs": [
        {
          "output_type": "execute_result",
          "data": {
            "text/plain": [
              "Year                            int64\n",
              "Month_                          int64\n",
              "Day                             int64\n",
              "Hour                            int64\n",
              "Minute                          int64\n",
              "radar_reflectivity_1_mm6m3    float64\n",
              "Liquid_watercontent_g_m3      float64\n",
              "Tamb_K                        float64\n",
              "Rh_percent                    float64\n",
              "Pres_mb                       float64\n",
              "Tir_K                         float64\n",
              "Int_Vapor_cm                  float64\n",
              "Int_Liquid_mm                 float64\n",
              "Class_Rain                     object\n",
              "dtype: object"
            ]
          },
          "metadata": {},
          "execution_count": 18
        }
      ]
    },
    {
      "cell_type": "code",
      "source": [
        "df_RD80_final[df_RD80_final.columns[0:13]] = df_RD80_final[df_RD80_final.columns[0:13]].astype('float64')\n",
        "df_RD80_final.dtypes"
      ],
      "metadata": {
        "colab": {
          "base_uri": "https://localhost:8080/"
        },
        "id": "apELEcJ080SB",
        "outputId": "5488916b-f2c5-4188-fc20-56683c8f3a3c"
      },
      "execution_count": null,
      "outputs": [
        {
          "output_type": "execute_result",
          "data": {
            "text/plain": [
              "Year                          float64\n",
              "Month_                        float64\n",
              "Day                           float64\n",
              "Hour                          float64\n",
              "Minute                        float64\n",
              "radar_reflectivity_1_mm6m3    float64\n",
              "Liquid_watercontent_g_m3      float64\n",
              "Tamb_K                        float64\n",
              "Rh_percent                    float64\n",
              "Pres_mb                       float64\n",
              "Tir_K                         float64\n",
              "Int_Vapor_cm                  float64\n",
              "Int_Liquid_mm                 float64\n",
              "Class_Rain                     object\n",
              "dtype: object"
            ]
          },
          "metadata": {},
          "execution_count": 19
        }
      ]
    },
    {
      "cell_type": "code",
      "source": [
        "df_RD80_final['Class_Rain'].value_counts()"
      ],
      "metadata": {
        "colab": {
          "base_uri": "https://localhost:8080/"
        },
        "id": "TzMt0Kff7PFT",
        "outputId": "fd39cd72-4d96-45dd-e15e-220066c07316"
      },
      "execution_count": null,
      "outputs": [
        {
          "output_type": "execute_result",
          "data": {
            "text/plain": [
              "Não choveu           78120\n",
              "Chuva fraca            824\n",
              "Chuva moderada         241\n",
              "Chuva forte            121\n",
              "Chuva muito forte       32\n",
              "Name: Class_Rain, dtype: int64"
            ]
          },
          "metadata": {},
          "execution_count": 20
        }
      ]
    },
    {
      "cell_type": "code",
      "source": [
        "# codificar os rótulos, convertendo-os de strings para inteiros\n",
        "le = LabelEncoder()\n",
        "labels = le.fit_transform(df_RD80_final['Class_Rain'].values)\n",
        "labels"
      ],
      "metadata": {
        "colab": {
          "base_uri": "https://localhost:8080/"
        },
        "id": "zfeaoXvh7Z-R",
        "outputId": "51066180-ba23-4ecf-ce41-432f612355c7"
      },
      "execution_count": null,
      "outputs": [
        {
          "output_type": "execute_result",
          "data": {
            "text/plain": [
              "array([4, 4, 4, ..., 4, 4, 4])"
            ]
          },
          "metadata": {},
          "execution_count": 21
        }
      ]
    },
    {
      "cell_type": "code",
      "source": [
        "# realizar uma divisão de teste de treinamento, usando 75% dos dados para\n",
        "# treinamento e 25% para avaliação\n",
        "(x_train_rain, x_test_rain, y_train_rain, y_test_rain) = train_test_split(df_RD80_final[df_RD80_final.columns[0:13]].values, labels, random_state=3, test_size=0.25)\n",
        "print('Tamanho do dataset para treinamento: ',len(x_train_rain))\n",
        "print('Tamanho do dataset para validação: ',len(x_test_rain))"
      ],
      "metadata": {
        "colab": {
          "base_uri": "https://localhost:8080/"
        },
        "id": "zYl4km-o7zL4",
        "outputId": "6b6b1d80-745c-4e2d-a562-7a9b8a043995"
      },
      "execution_count": null,
      "outputs": [
        {
          "output_type": "stream",
          "name": "stdout",
          "text": [
            "Tamanho do dataset para treinamento:  59503\n",
            "Tamanho do dataset para validação:  19835\n"
          ]
        }
      ]
    },
    {
      "cell_type": "markdown",
      "source": [
        "Para treinar uma rede MLP, os dados devem ser sempre dimensionados, pois são muito sensíveis a eles."
      ],
      "metadata": {
        "id": "cCPB13MUR4hC"
      }
    },
    {
      "cell_type": "code",
      "source": [
        "sc=StandardScaler()\n",
        "\n",
        "scaler = sc.fit(x_train_rain)\n",
        "x_train_rain_scaled = scaler.transform(x_train_rain)\n",
        "x_test_rain_scaled = scaler.transform(x_test_rain)"
      ],
      "metadata": {
        "id": "MSeJ8-ivR3Mr"
      },
      "execution_count": null,
      "outputs": []
    },
    {
      "cell_type": "markdown",
      "source": [
        "## **Definições do modelo**"
      ],
      "metadata": {
        "id": "gn-EJqght1ZR"
      }
    },
    {
      "cell_type": "code",
      "source": [
        "#Definições do modelo\n",
        "\n",
        "MLP_model = MLPClassifier(hidden_layer_sizes=(50,10),\n",
        "                        max_iter = 1000,activation = 'relu',random_state=42,\n",
        "                        alpha=0.0005, batch_size=32,learning_rate='constant',\n",
        "                        momentum=0.9, solver = 'adam', verbose=True)\n",
        "\n",
        "# sobre a sintaxe para camadas ocultas: hidden_layer_sizes=(H1, H2, H3) significa TRÊS camadas ocultas de respectivos tamanhos (neurônios) H1, H2, H3 \n",
        "# Enquanto hidden_layer_sizes=(H1,) significaria UMA camada oculta de respectivos tamanhos H1 e H2\n",
        "# sobre iteração: max_iter - especifica um número de EPOCHS (= passando por todos os exemplos de treinamento)\n",
        "\n",
        "\n",
        "# Treino do modelo MLP\n",
        "history = MLP_model.fit(x_train_rain_scaled, y_train_rain)"
      ],
      "metadata": {
        "id": "Z3tkKK1eENNK",
        "colab": {
          "base_uri": "https://localhost:8080/"
        },
        "outputId": "8e35ea92-0433-4c3b-f445-a3a907c3e35c"
      },
      "execution_count": null,
      "outputs": [
        {
          "output_type": "stream",
          "name": "stdout",
          "text": [
            "Iteration 1, loss = 0.10728884\n",
            "Iteration 2, loss = 0.02127111\n",
            "Iteration 3, loss = 0.01054744\n",
            "Iteration 4, loss = 0.00748017\n",
            "Iteration 5, loss = 0.00656163\n",
            "Iteration 6, loss = 0.00630711\n",
            "Iteration 7, loss = 0.00604833\n",
            "Iteration 8, loss = 0.00571665\n",
            "Iteration 9, loss = 0.00596028\n",
            "Iteration 10, loss = 0.00535602\n",
            "Iteration 11, loss = 0.00536079\n",
            "Iteration 12, loss = 0.00546093\n",
            "Iteration 13, loss = 0.00522484\n",
            "Iteration 14, loss = 0.00534242\n",
            "Iteration 15, loss = 0.00518568\n",
            "Iteration 16, loss = 0.00478711\n",
            "Iteration 17, loss = 0.00502952\n",
            "Iteration 18, loss = 0.00526321\n",
            "Iteration 19, loss = 0.00496095\n",
            "Iteration 20, loss = 0.00484040\n",
            "Iteration 21, loss = 0.00494114\n",
            "Iteration 22, loss = 0.00472117\n",
            "Iteration 23, loss = 0.00488256\n",
            "Iteration 24, loss = 0.00469240\n",
            "Iteration 25, loss = 0.00450788\n",
            "Iteration 26, loss = 0.00482528\n",
            "Iteration 27, loss = 0.00465807\n",
            "Iteration 28, loss = 0.00453165\n",
            "Iteration 29, loss = 0.00467422\n",
            "Iteration 30, loss = 0.00439857\n",
            "Iteration 31, loss = 0.00475841\n",
            "Iteration 32, loss = 0.00448450\n",
            "Iteration 33, loss = 0.00443676\n",
            "Iteration 34, loss = 0.00454854\n",
            "Iteration 35, loss = 0.00444333\n",
            "Iteration 36, loss = 0.00438607\n",
            "Iteration 37, loss = 0.00457564\n",
            "Iteration 38, loss = 0.00468309\n",
            "Iteration 39, loss = 0.00415738\n",
            "Iteration 40, loss = 0.00457995\n",
            "Iteration 41, loss = 0.00435092\n",
            "Iteration 42, loss = 0.00432242\n",
            "Iteration 43, loss = 0.00444703\n",
            "Iteration 44, loss = 0.00419130\n",
            "Iteration 45, loss = 0.00438211\n",
            "Iteration 46, loss = 0.00446114\n",
            "Iteration 47, loss = 0.00445210\n",
            "Iteration 48, loss = 0.00441701\n",
            "Iteration 49, loss = 0.00444511\n",
            "Iteration 50, loss = 0.00434622\n",
            "Training loss did not improve more than tol=0.000100 for 10 consecutive epochs. Stopping.\n"
          ]
        }
      ]
    },
    {
      "cell_type": "markdown",
      "source": [
        "## **Avaliação do modelo**"
      ],
      "metadata": {
        "id": "HNYik73GuTXZ"
      }
    },
    {
      "cell_type": "code",
      "source": [
        "# Fazendo previsões sobre nossos dados e mostrar uma pontuação de precisão\n",
        "print(\"[INFO] Avaliação do modelo...\")\n",
        "predictions = MLP_model.predict(x_test_rain_scaled)\n",
        "MLP_accur = accuracy_score(y_test_rain, predictions)\n",
        "print(f'\\nA pontuação de precisão da capacidade do modelo MLP de classificar a chuva é: {round((MLP_accur*100), 2)}%')"
      ],
      "metadata": {
        "colab": {
          "base_uri": "https://localhost:8080/"
        },
        "id": "hYWRz_B6uF-R",
        "outputId": "b35a5cdf-f80e-42e1-a2c4-21890c9e71c9"
      },
      "execution_count": null,
      "outputs": [
        {
          "output_type": "stream",
          "name": "stdout",
          "text": [
            "[INFO] Avaliação do modelo...\n",
            "\n",
            "A pontuação de precisão da capacidade do modelo MLP de classificar a chuva é: 99.84%\n"
          ]
        }
      ]
    },
    {
      "cell_type": "code",
      "source": [
        "score_obj = dict(zip(['Accuracy Score'], [[MLP_accur]]))\n",
        "score_df = pd.DataFrame(score_obj, index=['MLP'])\n",
        "score_df"
      ],
      "metadata": {
        "id": "ykzWQajNEPfW",
        "colab": {
          "base_uri": "https://localhost:8080/",
          "height": 81
        },
        "outputId": "91a0e94f-ffc1-4867-fbfa-e1dc86007fa3"
      },
      "execution_count": null,
      "outputs": [
        {
          "output_type": "execute_result",
          "data": {
            "text/plain": [
              "     Accuracy Score\n",
              "MLP        0.998689"
            ],
            "text/html": [
              "\n",
              "  <div id=\"df-4a64b39d-ffe4-4cda-94a7-7f1d181f9013\">\n",
              "    <div class=\"colab-df-container\">\n",
              "      <div>\n",
              "<style scoped>\n",
              "    .dataframe tbody tr th:only-of-type {\n",
              "        vertical-align: middle;\n",
              "    }\n",
              "\n",
              "    .dataframe tbody tr th {\n",
              "        vertical-align: top;\n",
              "    }\n",
              "\n",
              "    .dataframe thead th {\n",
              "        text-align: right;\n",
              "    }\n",
              "</style>\n",
              "<table border=\"1\" class=\"dataframe\">\n",
              "  <thead>\n",
              "    <tr style=\"text-align: right;\">\n",
              "      <th></th>\n",
              "      <th>Accuracy Score</th>\n",
              "    </tr>\n",
              "  </thead>\n",
              "  <tbody>\n",
              "    <tr>\n",
              "      <th>MLP</th>\n",
              "      <td>0.998689</td>\n",
              "    </tr>\n",
              "  </tbody>\n",
              "</table>\n",
              "</div>\n",
              "      <button class=\"colab-df-convert\" onclick=\"convertToInteractive('df-4a64b39d-ffe4-4cda-94a7-7f1d181f9013')\"\n",
              "              title=\"Convert this dataframe to an interactive table.\"\n",
              "              style=\"display:none;\">\n",
              "        \n",
              "  <svg xmlns=\"http://www.w3.org/2000/svg\" height=\"24px\"viewBox=\"0 0 24 24\"\n",
              "       width=\"24px\">\n",
              "    <path d=\"M0 0h24v24H0V0z\" fill=\"none\"/>\n",
              "    <path d=\"M18.56 5.44l.94 2.06.94-2.06 2.06-.94-2.06-.94-.94-2.06-.94 2.06-2.06.94zm-11 1L8.5 8.5l.94-2.06 2.06-.94-2.06-.94L8.5 2.5l-.94 2.06-2.06.94zm10 10l.94 2.06.94-2.06 2.06-.94-2.06-.94-.94-2.06-.94 2.06-2.06.94z\"/><path d=\"M17.41 7.96l-1.37-1.37c-.4-.4-.92-.59-1.43-.59-.52 0-1.04.2-1.43.59L10.3 9.45l-7.72 7.72c-.78.78-.78 2.05 0 2.83L4 21.41c.39.39.9.59 1.41.59.51 0 1.02-.2 1.41-.59l7.78-7.78 2.81-2.81c.8-.78.8-2.07 0-2.86zM5.41 20L4 18.59l7.72-7.72 1.47 1.35L5.41 20z\"/>\n",
              "  </svg>\n",
              "      </button>\n",
              "      \n",
              "  <style>\n",
              "    .colab-df-container {\n",
              "      display:flex;\n",
              "      flex-wrap:wrap;\n",
              "      gap: 12px;\n",
              "    }\n",
              "\n",
              "    .colab-df-convert {\n",
              "      background-color: #E8F0FE;\n",
              "      border: none;\n",
              "      border-radius: 50%;\n",
              "      cursor: pointer;\n",
              "      display: none;\n",
              "      fill: #1967D2;\n",
              "      height: 32px;\n",
              "      padding: 0 0 0 0;\n",
              "      width: 32px;\n",
              "    }\n",
              "\n",
              "    .colab-df-convert:hover {\n",
              "      background-color: #E2EBFA;\n",
              "      box-shadow: 0px 1px 2px rgba(60, 64, 67, 0.3), 0px 1px 3px 1px rgba(60, 64, 67, 0.15);\n",
              "      fill: #174EA6;\n",
              "    }\n",
              "\n",
              "    [theme=dark] .colab-df-convert {\n",
              "      background-color: #3B4455;\n",
              "      fill: #D2E3FC;\n",
              "    }\n",
              "\n",
              "    [theme=dark] .colab-df-convert:hover {\n",
              "      background-color: #434B5C;\n",
              "      box-shadow: 0px 1px 3px 1px rgba(0, 0, 0, 0.15);\n",
              "      filter: drop-shadow(0px 1px 2px rgba(0, 0, 0, 0.3));\n",
              "      fill: #FFFFFF;\n",
              "    }\n",
              "  </style>\n",
              "\n",
              "      <script>\n",
              "        const buttonEl =\n",
              "          document.querySelector('#df-4a64b39d-ffe4-4cda-94a7-7f1d181f9013 button.colab-df-convert');\n",
              "        buttonEl.style.display =\n",
              "          google.colab.kernel.accessAllowed ? 'block' : 'none';\n",
              "\n",
              "        async function convertToInteractive(key) {\n",
              "          const element = document.querySelector('#df-4a64b39d-ffe4-4cda-94a7-7f1d181f9013');\n",
              "          const dataTable =\n",
              "            await google.colab.kernel.invokeFunction('convertToInteractive',\n",
              "                                                     [key], {});\n",
              "          if (!dataTable) return;\n",
              "\n",
              "          const docLinkHtml = 'Like what you see? Visit the ' +\n",
              "            '<a target=\"_blank\" href=https://colab.research.google.com/notebooks/data_table.ipynb>data table notebook</a>'\n",
              "            + ' to learn more about interactive tables.';\n",
              "          element.innerHTML = '';\n",
              "          dataTable['output_type'] = 'display_data';\n",
              "          await google.colab.output.renderOutput(dataTable, element);\n",
              "          const docLink = document.createElement('div');\n",
              "          docLink.innerHTML = docLinkHtml;\n",
              "          element.appendChild(docLink);\n",
              "        }\n",
              "      </script>\n",
              "    </div>\n",
              "  </div>\n",
              "  "
            ]
          },
          "metadata": {},
          "execution_count": 26
        }
      ]
    },
    {
      "cell_type": "code",
      "source": [
        "\n",
        "categories = ['Sem chuva','Chuva fraca','Chuva moderada','Chuva forte','Chuva muito forte']\n",
        "plt.figure(figsize=(16,6),dpi=80)\n",
        "fig = plot_confusion_matrix(MLP_model, x_test_rain_scaled, y_test_rain, display_labels=categories)\n",
        "fig.figure_.suptitle(\"Confusion Matrix para Classificação da Chuva\")\n",
        "plt.show()"
      ],
      "metadata": {
        "colab": {
          "base_uri": "https://localhost:8080/",
          "height": 325
        },
        "id": "3oImYnMOQ-h4",
        "outputId": "f485e2f2-716b-4ecf-8913-ec02eed3feaa"
      },
      "execution_count": null,
      "outputs": [
        {
          "output_type": "display_data",
          "data": {
            "text/plain": [
              "<Figure size 1280x480 with 0 Axes>"
            ]
          },
          "metadata": {}
        },
        {
          "output_type": "display_data",
          "data": {
            "text/plain": [
              "<Figure size 432x288 with 2 Axes>"
            ],
            "image/png": "[encoded data removed]"
          },
          "metadata": {
            "needs_background": "light"
          }
        }
      ]
    },
    {
      "cell_type": "code",
      "source": [
        "plt.figure(figsize=(7,4),dpi=80)\n",
        "plt.suptitle('AVALIAÇÃO', size=14)\n",
        "y_rest = MLP_model.predict(x_train_rain_scaled)\n",
        "plt.plot(x_train_rain_scaled, y_train_rain, '.', color='#4682B4')\n",
        "plt.plot(x_train_rain_scaled, y_rest, '.',color='#FF4500')\n",
        "plt.title('Modelo MLP')\n",
        "plt.xlabel(\"Epochs\")\n",
        "plt.ylabel(\"Loss\")\n",
        "\n",
        "plt.show()"
      ],
      "metadata": {
        "colab": {
          "base_uri": "https://localhost:8080/",
          "height": 338
        },
        "id": "3ZvFLXxCiYtY",
        "outputId": "81a2a2d7-fa8c-4bdd-e1b8-dd33088db846"
      },
      "execution_count": null,
      "outputs": [
        {
          "output_type": "display_data",
          "data": {
            "text/plain": [
              "<Figure size 560x320 with 1 Axes>"
            ],
            "image/png": "[encoded data removed]"
          },
          "metadata": {
            "needs_background": "light"
          }
        }
      ]
    },
    {
      "cell_type": "code",
      "source": [
        "from sklearn.metrics import mean_squared_error\n",
        "from math import sqrt\n",
        "\n",
        "rmse = sqrt(mean_squared_error(y_test_rain, predictions))\n",
        "rmse"
      ],
      "metadata": {
        "colab": {
          "base_uri": "https://localhost:8080/"
        },
        "id": "4O_fjwRSX-t8",
        "outputId": "d4e8206d-3c87-47d3-b961-0df31e9f08a1"
      },
      "execution_count": null,
      "outputs": [
        {
          "output_type": "execute_result",
          "data": {
            "text/plain": [
              "0.09499711430746542"
            ]
          },
          "metadata": {},
          "execution_count": 29
        }
      ]
    },
    {
      "cell_type": "code",
      "source": [
        "print(classification_report(y_test_rain, predictions))"
      ],
      "metadata": {
        "colab": {
          "base_uri": "https://localhost:8080/"
        },
        "id": "JgiKEjVcYaO5",
        "outputId": "45e997bf-4c96-48b0-fd88-1c9f72282e58"
      },
      "execution_count": null,
      "outputs": [
        {
          "output_type": "stream",
          "name": "stdout",
          "text": [
            "              precision    recall  f1-score   support\n",
            "\n",
            "           0       0.96      0.86      0.91        29\n",
            "           1       0.94      0.97      0.95       215\n",
            "           2       0.95      0.91      0.93        57\n",
            "           3       0.75      1.00      0.86         6\n",
            "           4       1.00      1.00      1.00     19528\n",
            "\n",
            "    accuracy                           1.00     19835\n",
            "   macro avg       0.92      0.95      0.93     19835\n",
            "weighted avg       1.00      1.00      1.00     19835\n",
            "\n"
          ]
        }
      ]
    },
    {
      "cell_type": "code",
      "source": [
        "# Plot the LEARNING CURVE\n",
        "plt.title(\"Evolução do ERRO DE TREINO durante o treinamento\")\n",
        "plt.xlabel(\"Interações (epochs)\")\n",
        "plt.ylabel(\"ERRO DE TREINAMENTO\")\n",
        "plt.plot(MLP_model.loss_curve_)\n",
        "plt.show()\n",
        "\n"
      ],
      "metadata": {
        "colab": {
          "base_uri": "https://localhost:8080/",
          "height": 295
        },
        "id": "xtCCGo6zYtER",
        "outputId": "c496b462-ee5d-4129-8b00-357a053848ca"
      },
      "execution_count": null,
      "outputs": [
        {
          "output_type": "display_data",
          "data": {
            "text/plain": [
              "<Figure size 432x288 with 1 Axes>"
            ],
            "image/png": "[encoded data removed]"
          },
          "metadata": {
            "needs_background": "light"
          }
        }
      ]
    },
    {
      "cell_type": "code",
      "source": [],
      "metadata": {
        "id": "jCkpq2f7Q-a3"
      },
      "execution_count": null,
      "outputs": []
    },
    {
      "cell_type": "code",
      "source": [],
      "metadata": {
        "id": "SfRp53j_Q-Xw"
      },
      "execution_count": null,
      "outputs": []
    },
    {
      "cell_type": "code",
      "source": [
        "# Seleciona uma linha do dataframe aleatoriamente\n",
        "class_real = []\n",
        "res_class_predict = []\n",
        "indexes = []\n",
        "\n",
        "for contador in range(0,500):\n",
        "  indexes.append(contador)\n",
        "  df_RD80_class_real = df_RD80_final.sample(axis = 0)\n",
        "  class_real.append(df_RD80_class_real['Class_Rain'])\n",
        "\n",
        "\n",
        "  df_RD80_class_predict = df_RD80_class_real.drop(columns=['Class_Rain'])\n",
        "\n",
        "  #Teste de classificação da chuva com o modelo\n",
        "\n",
        "  result_predict_class = le.classes_[MLP_model.predict(np.array([df_RD80_class_predict]).reshape(1,-1))][0]\n",
        "  res_class_predict.append(result_predict_class)\n",
        "\n",
        "  \n",
        "\n",
        "\n",
        "resultados = {'ID':indexes,'Class Real':class_real, 'Class Predita':res_class_predict}\n",
        "df_resultados = pd.DataFrame.from_dict(resultados, orient='index')\n",
        "\n",
        "df_resultados = df_resultados.T\n",
        "\n",
        "df_resultados.dropna(inplace=True)\n",
        "df_resultados.reset_index(inplace=True, drop=True)\n",
        "\n",
        "\n",
        "df_resultados.head(n=500)\n",
        "\n",
        "\n"
      ],
      "metadata": {
        "id": "oxMRDfEVwkmK",
        "colab": {
          "base_uri": "https://localhost:8080/",
          "height": 424
        },
        "outputId": "361d4f9e-b54a-4bd5-d17b-e9847d7177c3"
      },
      "execution_count": null,
      "outputs": [
        {
          "output_type": "execute_result",
          "data": {
            "text/plain": [
              "      ID                                         Class Real   Class Predita\n",
              "0      0  1097155    Não choveu\n",
              "Name: Class_Rain, dtype:...  Chuva moderada\n",
              "1      1  1128459    Não choveu\n",
              "Name: Class_Rain, dtype:...     Chuva forte\n",
              "2      2  760722    Não choveu\n",
              "Name: Class_Rain, dtype: ...     Chuva forte\n",
              "3      3  224971    Não choveu\n",
              "Name: Class_Rain, dtype: ...     Chuva forte\n",
              "4      4  620414    Não choveu\n",
              "Name: Class_Rain, dtype: ...      Não choveu\n",
              "..   ...                                                ...             ...\n",
              "495  495  1156188    Não choveu\n",
              "Name: Class_Rain, dtype:...     Chuva forte\n",
              "496  496  238172    Não choveu\n",
              "Name: Class_Rain, dtype: ...  Chuva moderada\n",
              "497  497  907318    Não choveu\n",
              "Name: Class_Rain, dtype: ...  Chuva moderada\n",
              "498  498  549920    Não choveu\n",
              "Name: Class_Rain, dtype: ...  Chuva moderada\n",
              "499  499  675209    Não choveu\n",
              "Name: Class_Rain, dtype: ...      Não choveu\n",
              "\n",
              "[500 rows x 3 columns]"
            ],
            "text/html": [
              "\n",
              "  <div id=\"df-ef83f0ae-f04c-4f29-814d-19e9bcb45679\">\n",
              "    <div class=\"colab-df-container\">\n",
              "      <div>\n",
              "<style scoped>\n",
              "    .dataframe tbody tr th:only-of-type {\n",
              "        vertical-align: middle;\n",
              "    }\n",
              "\n",
              "    .dataframe tbody tr th {\n",
              "        vertical-align: top;\n",
              "    }\n",
              "\n",
              "    .dataframe thead th {\n",
              "        text-align: right;\n",
              "    }\n",
              "</style>\n",
              "<table border=\"1\" class=\"dataframe\">\n",
              "  <thead>\n",
              "    <tr style=\"text-align: right;\">\n",
              "      <th></th>\n",
              "      <th>ID</th>\n",
              "      <th>Class Real</th>\n",
              "      <th>Class Predita</th>\n",
              "    </tr>\n",
              "  </thead>\n",
              "  <tbody>\n",
              "    <tr>\n",
              "      <th>0</th>\n",
              "      <td>0</td>\n",
              "      <td>1097155    Não choveu\n",
              "Name: Class_Rain, dtype:...</td>\n",
              "      <td>Chuva moderada</td>\n",
              "    </tr>\n",
              "    <tr>\n",
              "      <th>1</th>\n",
              "      <td>1</td>\n",
              "      <td>1128459    Não choveu\n",
              "Name: Class_Rain, dtype:...</td>\n",
              "      <td>Chuva forte</td>\n",
              "    </tr>\n",
              "    <tr>\n",
              "      <th>2</th>\n",
              "      <td>2</td>\n",
              "      <td>760722    Não choveu\n",
              "Name: Class_Rain, dtype: ...</td>\n",
              "      <td>Chuva forte</td>\n",
              "    </tr>\n",
              "    <tr>\n",
              "      <th>3</th>\n",
              "      <td>3</td>\n",
              "      <td>224971    Não choveu\n",
              "Name: Class_Rain, dtype: ...</td>\n",
              "      <td>Chuva forte</td>\n",
              "    </tr>\n",
              "    <tr>\n",
              "      <th>4</th>\n",
              "      <td>4</td>\n",
              "      <td>620414    Não choveu\n",
              "Name: Class_Rain, dtype: ...</td>\n",
              "      <td>Não choveu</td>\n",
              "    </tr>\n",
              "    <tr>\n",
              "      <th>...</th>\n",
              "      <td>...</td>\n",
              "      <td>...</td>\n",
              "      <td>...</td>\n",
              "    </tr>\n",
              "    <tr>\n",
              "      <th>495</th>\n",
              "      <td>495</td>\n",
              "      <td>1156188    Não choveu\n",
              "Name: Class_Rain, dtype:...</td>\n",
              "      <td>Chuva forte</td>\n",
              "    </tr>\n",
              "    <tr>\n",
              "      <th>496</th>\n",
              "      <td>496</td>\n",
              "      <td>238172    Não choveu\n",
              "Name: Class_Rain, dtype: ...</td>\n",
              "      <td>Chuva moderada</td>\n",
              "    </tr>\n",
              "    <tr>\n",
              "      <th>497</th>\n",
              "      <td>497</td>\n",
              "      <td>907318    Não choveu\n",
              "Name: Class_Rain, dtype: ...</td>\n",
              "      <td>Chuva moderada</td>\n",
              "    </tr>\n",
              "    <tr>\n",
              "      <th>498</th>\n",
              "      <td>498</td>\n",
              "      <td>549920    Não choveu\n",
              "Name: Class_Rain, dtype: ...</td>\n",
              "      <td>Chuva moderada</td>\n",
              "    </tr>\n",
              "    <tr>\n",
              "      <th>499</th>\n",
              "      <td>499</td>\n",
              "      <td>675209    Não choveu\n",
              "Name: Class_Rain, dtype: ...</td>\n",
              "      <td>Não choveu</td>\n",
              "    </tr>\n",
              "  </tbody>\n",
              "</table>\n",
              "<p>500 rows × 3 columns</p>\n",
              "</div>\n",
              "      <button class=\"colab-df-convert\" onclick=\"convertToInteractive('df-ef83f0ae-f04c-4f29-814d-19e9bcb45679')\"\n",
              "              title=\"Convert this dataframe to an interactive table.\"\n",
              "              style=\"display:none;\">\n",
              "        \n",
              "  <svg xmlns=\"http://www.w3.org/2000/svg\" height=\"24px\"viewBox=\"0 0 24 24\"\n",
              "       width=\"24px\">\n",
              "    <path d=\"M0 0h24v24H0V0z\" fill=\"none\"/>\n",
              "    <path d=\"M18.56 5.44l.94 2.06.94-2.06 2.06-.94-2.06-.94-.94-2.06-.94 2.06-2.06.94zm-11 1L8.5 8.5l.94-2.06 2.06-.94-2.06-.94L8.5 2.5l-.94 2.06-2.06.94zm10 10l.94 2.06.94-2.06 2.06-.94-2.06-.94-.94-2.06-.94 2.06-2.06.94z\"/><path d=\"M17.41 7.96l-1.37-1.37c-.4-.4-.92-.59-1.43-.59-.52 0-1.04.2-1.43.59L10.3 9.45l-7.72 7.72c-.78.78-.78 2.05 0 2.83L4 21.41c.39.39.9.59 1.41.59.51 0 1.02-.2 1.41-.59l7.78-7.78 2.81-2.81c.8-.78.8-2.07 0-2.86zM5.41 20L4 18.59l7.72-7.72 1.47 1.35L5.41 20z\"/>\n",
              "  </svg>\n",
              "      </button>\n",
              "      \n",
              "  <style>\n",
              "    .colab-df-container {\n",
              "      display:flex;\n",
              "      flex-wrap:wrap;\n",
              "      gap: 12px;\n",
              "    }\n",
              "\n",
              "    .colab-df-convert {\n",
              "      background-color: #E8F0FE;\n",
              "      border: none;\n",
              "      border-radius: 50%;\n",
              "      cursor: pointer;\n",
              "      display: none;\n",
              "      fill: #1967D2;\n",
              "      height: 32px;\n",
              "      padding: 0 0 0 0;\n",
              "      width: 32px;\n",
              "    }\n",
              "\n",
              "    .colab-df-convert:hover {\n",
              "      background-color: #E2EBFA;\n",
              "      box-shadow: 0px 1px 2px rgba(60, 64, 67, 0.3), 0px 1px 3px 1px rgba(60, 64, 67, 0.15);\n",
              "      fill: #174EA6;\n",
              "    }\n",
              "\n",
              "    [theme=dark] .colab-df-convert {\n",
              "      background-color: #3B4455;\n",
              "      fill: #D2E3FC;\n",
              "    }\n",
              "\n",
              "    [theme=dark] .colab-df-convert:hover {\n",
              "      background-color: #434B5C;\n",
              "      box-shadow: 0px 1px 3px 1px rgba(0, 0, 0, 0.15);\n",
              "      filter: drop-shadow(0px 1px 2px rgba(0, 0, 0, 0.3));\n",
              "      fill: #FFFFFF;\n",
              "    }\n",
              "  </style>\n",
              "\n",
              "      <script>\n",
              "        const buttonEl =\n",
              "          document.querySelector('#df-ef83f0ae-f04c-4f29-814d-19e9bcb45679 button.colab-df-convert');\n",
              "        buttonEl.style.display =\n",
              "          google.colab.kernel.accessAllowed ? 'block' : 'none';\n",
              "\n",
              "        async function convertToInteractive(key) {\n",
              "          const element = document.querySelector('#df-ef83f0ae-f04c-4f29-814d-19e9bcb45679');\n",
              "          const dataTable =\n",
              "            await google.colab.kernel.invokeFunction('convertToInteractive',\n",
              "                                                     [key], {});\n",
              "          if (!dataTable) return;\n",
              "\n",
              "          const docLinkHtml = 'Like what you see? Visit the ' +\n",
              "            '<a target=\"_blank\" href=https://colab.research.google.com/notebooks/data_table.ipynb>data table notebook</a>'\n",
              "            + ' to learn more about interactive tables.';\n",
              "          element.innerHTML = '';\n",
              "          dataTable['output_type'] = 'display_data';\n",
              "          await google.colab.output.renderOutput(dataTable, element);\n",
              "          const docLink = document.createElement('div');\n",
              "          docLink.innerHTML = docLinkHtml;\n",
              "          element.appendChild(docLink);\n",
              "        }\n",
              "      </script>\n",
              "    </div>\n",
              "  </div>\n",
              "  "
            ]
          },
          "metadata": {},
          "execution_count": 32
        }
      ]
    },
    {
      "cell_type": "code",
      "source": [
        "'''score_test = dict(zip(['Resultado dos testes de Classificação'], [[class_real,res_class_predict]]))\n",
        "\n",
        "score_test = pd.DataFrame(score_test, index=['Class Real', 'Class Predita'])\n",
        "score_test'''"
      ],
      "metadata": {
        "id": "NWAJ-DJ-8Pg3"
      },
      "execution_count": null,
      "outputs": []
    },
    {
      "cell_type": "markdown",
      "metadata": {
        "id": "szsiW3KB4KTj"
      },
      "source": [
        "# **Considerações Finais**\n",
        "\n",
        "No presente notebook, objetivou-se apresentar a implementação de um modelo de RNN - uma LSTM -, que fosse capaz de predizer a chuva. Face do Dataset utilizado e tendo como parâmetro os resultados dos testes, é possível inferir que o modelo treinado obteve resultados satifatórios. No entanto, sugere-se também que usar mais de 01 (uma) LSTM e diferentes parâmetros pode resultar em melhorias na predição da taxa.\n",
        "\n",
        "A classificação multiclasse pode ser feita com uma abordagem de um contra o resto usando LogisticRegression, onde você pode especificar o solucionador numérico, o padrão é uma força de regularização razoável. Alternativamente, a classificação multiclasse pode ser feita com a ferramenta de rede neural MLPClassifier do sklearn, que usa propagação direta para calcular o estado da rede e, a partir daí, a função de custo, e usa propagação de volta como uma etapa para calcular as derivadas parciais da função de custo. Você também precisa especificar o solver para esta classe, e a arquitetura de rede específica deve ser escolhida pelo usuário. O MLPClassifier tem o útil atributo loss_curve_ que realmente armazena a progressão da função de perda durante o ajuste para fornecer algumas informações sobre o processo de ajuste. Uma boa maneira de visualizar um modelo de rede ajustado é traçar uma imagem do que faz com que cada neurônio oculto \"fogue\", ou seja, que tipo de vetor de entrada faz com que o neurônio oculto seja ativado próximo a 1."
      ]
    },
    {
      "cell_type": "markdown",
      "metadata": {
        "id": "qAVEldyd4NxD"
      },
      "source": [
        "# **Referências**\n",
        "\n",
        "BASHEER, I. A.; HAJMEER, M. Artificial neural networks: fundamentals, computing, design, and application. Journal of Microbiological Methods, v. 43, p. 3–31, 2000\n",
        "\n",
        "HAYKIN, Simon. Redes Neurais : princípios e prática. Traduzido por Paulo Martins Engel. 2. ed. Porto Alegre : Bookman, 2001. 900 p. il.\n",
        "\n",
        "HSU, K. L.; GAO, X.; SOROOSHIAN, S.; GUPTA, H. V. Precipitation estimation from remotely sensed information using artificial neural networks. Journal of Applied Meteorology, v. 36, n. 9, p. 1176-1190, 1997.\n",
        "\n",
        "https://towardsdatascience.com/deep-learning-which-loss-and-activation-functions-should-i-use-ac02f1c56aa8\n",
        "\n",
        "https://sites.icmc.usp.br/andre/research/neural/MLP.htm\n",
        "\n",
        "https://acervolima.com/diferenca-entre-ann-cnn-e-rnn/\n",
        "\n",
        "KOVAKS, Z. L. Redes Neurais Artificiais: fundamentos e Aplicações. São Paulo: Acadêmica, 1996.\n",
        "\n",
        "TAFNER, Malcon A.; XEREZ, Marcos de; RODRIGUES FILHO, Ilson W. Redes neurais artificiais : introdução e princípios de neurocomputação. Blumenau : Eko, 1995.\n",
        "\n",
        "Hinton, Geoffrey, Nitish Srivastava, and Kevin Swersky. “Neural Networks for Machine Learning Lecture 6a Overview of Mini--Batch Gradient Descent,” 2012."
      ]
    }
  ]
}